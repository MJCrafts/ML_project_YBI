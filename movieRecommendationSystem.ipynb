{
  "nbformat": 4,
  "nbformat_minor": 0,
  "metadata": {
    "colab": {
      "provenance": []
    },
    "kernelspec": {
      "name": "python3",
      "display_name": "Python 3"
    },
    "language_info": {
      "name": "python"
    }
  },
  "cells": [
    {
      "cell_type": "markdown",
      "source": [
        "# OBJECTIVE\n",
        "\n",
        "the goal of a **Movie Recommendation system** is to filter and predict only those movies that a corresponding user is most likely to want to watch.\n",
        "Movie recommendation systems use a set of different filtration strategies and algorithms to help users find the most relevant films. The most popular categories of the ML algorithms used for movie recommendations include content-based filtering and collaborative filtering systems:<br>\n",
        "-**Content-Based Filtering**:<br>\n",
        "A filtration strategy for movie recommendation systems, which uses the data provided about the past film selections and likes by one user.<br>\n",
        "-**Collaborative Filtering**:<br>\n",
        "This filtering strategy is based on the combination of the relevant user’s and other users’ behaviors. The system compares and contrasts these behaviors for the most optimal results. It’s a collaboration of the multiple users’ film preferences and behaviors.\n",
        "\n",
        "> In this project, I am going to develop a basic recommendation system that tells the user what movies are similar to his past movie choices.\n"
      ],
      "metadata": {
        "id": "SyYdesF15UTb"
      }
    },
    {
      "cell_type": "markdown",
      "source": [
        "# DATA SOURCE\n",
        "[Movie Recommendation Dataset](https://github.com/YBIFoundation/Dataset/raw/main/Movies%20Recommendation.csv)"
      ],
      "metadata": {
        "id": "RXlPaQRS7WDc"
      }
    },
    {
      "cell_type": "markdown",
      "source": [
        "# IMPORT LIBRARY\n"
      ],
      "metadata": {
        "id": "f8AFtDbk86p5"
      }
    },
    {
      "cell_type": "code",
      "source": [
        "import pandas as pd"
      ],
      "metadata": {
        "id": "2vyy3bjh9LS6"
      },
      "execution_count": 3,
      "outputs": []
    },
    {
      "cell_type": "code",
      "source": [
        "import numpy as np"
      ],
      "metadata": {
        "id": "EjZuHTYR9ZQ0"
      },
      "execution_count": 4,
      "outputs": []
    },
    {
      "cell_type": "markdown",
      "source": [
        "# IMPORT DATASET"
      ],
      "metadata": {
        "id": "lop8hyVb9icP"
      }
    },
    {
      "cell_type": "code",
      "source": [
        "url = f'https://github.com/YBIFoundation/Dataset/raw/main/Movies%20Recommendation.csv'\n",
        "df = pd.read_csv(url)"
      ],
      "metadata": {
        "id": "0ese2gA39lOS"
      },
      "execution_count": 5,
      "outputs": []
    },
    {
      "cell_type": "code",
      "source": [
        "df.head()"
      ],
      "metadata": {
        "colab": {
          "base_uri": "https://localhost:8080/",
          "height": 672
        },
        "id": "TuYBnAVV_nNq",
        "outputId": "48068430-9434-4ccc-dcd9-9caa283b3f56"
      },
      "execution_count": 6,
      "outputs": [
        {
          "output_type": "execute_result",
          "data": {
            "text/plain": [
              "   Movie_ID      Movie_Title                       Movie_Genre Movie_Language  \\\n",
              "0         1       Four Rooms                      Crime Comedy             en   \n",
              "1         2        Star Wars  Adventure Action Science Fiction             en   \n",
              "2         3     Finding Nemo                  Animation Family             en   \n",
              "3         4     Forrest Gump              Comedy Drama Romance             en   \n",
              "4         5  American Beauty                             Drama             en   \n",
              "\n",
              "   Movie_Budget  Movie_Popularity Movie_Release_Date  Movie_Revenue  \\\n",
              "0       4000000         22.876230         09-12-1995        4300000   \n",
              "1      11000000        126.393695         25-05-1977      775398007   \n",
              "2      94000000         85.688789         30-05-2003      940335536   \n",
              "3      55000000        138.133331         06-07-1994      677945399   \n",
              "4      15000000         80.878605         15-09-1999      356296601   \n",
              "\n",
              "   Movie_Runtime  Movie_Vote  ...  \\\n",
              "0           98.0         6.5  ...   \n",
              "1          121.0         8.1  ...   \n",
              "2          100.0         7.6  ...   \n",
              "3          142.0         8.2  ...   \n",
              "4          122.0         7.9  ...   \n",
              "\n",
              "                                      Movie_Homepage  \\\n",
              "0                                                NaN   \n",
              "1  http://www.starwars.com/films/star-wars-episod...   \n",
              "2              http://movies.disney.com/finding-nemo   \n",
              "3                                                NaN   \n",
              "4                      http://www.dreamworks.com/ab/   \n",
              "\n",
              "                                      Movie_Keywords  \\\n",
              "0          hotel new year's eve witch bet hotel room   \n",
              "1        android galaxy hermit death star lightsaber   \n",
              "2  father son relationship harbor underwater fish...   \n",
              "3  vietnam veteran hippie mentally disabled runni...   \n",
              "4  male nudity female nudity adultery midlife cri...   \n",
              "\n",
              "                                      Movie_Overview  \\\n",
              "0  It's Ted the Bellhop's first night on the job....   \n",
              "1  Princess Leia is captured and held hostage by ...   \n",
              "2  Nemo, an adventurous young clownfish, is unexp...   \n",
              "3  A man with a low IQ has accomplished great thi...   \n",
              "4  Lester Burnham, a depressed suburban father in...   \n",
              "\n",
              "                              Movie_Production_House  \\\n",
              "0  [{\"name\": \"Miramax Films\", \"id\": 14}, {\"name\":...   \n",
              "1  [{\"name\": \"Lucasfilm\", \"id\": 1}, {\"name\": \"Twe...   \n",
              "2     [{\"name\": \"Pixar Animation Studios\", \"id\": 3}]   \n",
              "3          [{\"name\": \"Paramount Pictures\", \"id\": 4}]   \n",
              "4  [{\"name\": \"DreamWorks SKG\", \"id\": 27}, {\"name\"...   \n",
              "\n",
              "                            Movie_Production_Country  \\\n",
              "0  [{\"iso_3166_1\": \"US\", \"name\": \"United States o...   \n",
              "1  [{\"iso_3166_1\": \"US\", \"name\": \"United States o...   \n",
              "2  [{\"iso_3166_1\": \"US\", \"name\": \"United States o...   \n",
              "3  [{\"iso_3166_1\": \"US\", \"name\": \"United States o...   \n",
              "4  [{\"iso_3166_1\": \"US\", \"name\": \"United States o...   \n",
              "\n",
              "                      Movie_Spoken_Language  \\\n",
              "0  [{\"iso_639_1\": \"en\", \"name\": \"English\"}]   \n",
              "1  [{\"iso_639_1\": \"en\", \"name\": \"English\"}]   \n",
              "2  [{\"iso_639_1\": \"en\", \"name\": \"English\"}]   \n",
              "3  [{\"iso_639_1\": \"en\", \"name\": \"English\"}]   \n",
              "4  [{\"iso_639_1\": \"en\", \"name\": \"English\"}]   \n",
              "\n",
              "                                       Movie_Tagline  \\\n",
              "0  Twelve outrageous guests. Four scandalous requ...   \n",
              "1       A long time ago in a galaxy far, far away...   \n",
              "2  There are 3.7 trillion fish in the ocean, they...   \n",
              "3  The world will never be the same, once you've ...   \n",
              "4                                       Look closer.   \n",
              "\n",
              "                                          Movie_Cast  \\\n",
              "0  Tim Roth Antonio Banderas Jennifer Beals Madon...   \n",
              "1  Mark Hamill Harrison Ford Carrie Fisher Peter ...   \n",
              "2  Albert Brooks Ellen DeGeneres Alexander Gould ...   \n",
              "3  Tom Hanks Robin Wright Gary Sinise Mykelti Wil...   \n",
              "4  Kevin Spacey Annette Bening Thora Birch Wes Be...   \n",
              "\n",
              "                                          Movie_Crew   Movie_Director  \n",
              "0  [{'name': 'Allison Anders', 'gender': 1, 'depa...   Allison Anders  \n",
              "1  [{'name': 'George Lucas', 'gender': 2, 'depart...     George Lucas  \n",
              "2  [{'name': 'Andrew Stanton', 'gender': 2, 'depa...   Andrew Stanton  \n",
              "3  [{'name': 'Alan Silvestri', 'gender': 2, 'depa...  Robert Zemeckis  \n",
              "4  [{'name': 'Thomas Newman', 'gender': 2, 'depar...       Sam Mendes  \n",
              "\n",
              "[5 rows x 21 columns]"
            ],
            "text/html": [
              "\n",
              "  <div id=\"df-f054741e-601e-4663-b29d-7f4bf5abfb8b\" class=\"colab-df-container\">\n",
              "    <div>\n",
              "<style scoped>\n",
              "    .dataframe tbody tr th:only-of-type {\n",
              "        vertical-align: middle;\n",
              "    }\n",
              "\n",
              "    .dataframe tbody tr th {\n",
              "        vertical-align: top;\n",
              "    }\n",
              "\n",
              "    .dataframe thead th {\n",
              "        text-align: right;\n",
              "    }\n",
              "</style>\n",
              "<table border=\"1\" class=\"dataframe\">\n",
              "  <thead>\n",
              "    <tr style=\"text-align: right;\">\n",
              "      <th></th>\n",
              "      <th>Movie_ID</th>\n",
              "      <th>Movie_Title</th>\n",
              "      <th>Movie_Genre</th>\n",
              "      <th>Movie_Language</th>\n",
              "      <th>Movie_Budget</th>\n",
              "      <th>Movie_Popularity</th>\n",
              "      <th>Movie_Release_Date</th>\n",
              "      <th>Movie_Revenue</th>\n",
              "      <th>Movie_Runtime</th>\n",
              "      <th>Movie_Vote</th>\n",
              "      <th>...</th>\n",
              "      <th>Movie_Homepage</th>\n",
              "      <th>Movie_Keywords</th>\n",
              "      <th>Movie_Overview</th>\n",
              "      <th>Movie_Production_House</th>\n",
              "      <th>Movie_Production_Country</th>\n",
              "      <th>Movie_Spoken_Language</th>\n",
              "      <th>Movie_Tagline</th>\n",
              "      <th>Movie_Cast</th>\n",
              "      <th>Movie_Crew</th>\n",
              "      <th>Movie_Director</th>\n",
              "    </tr>\n",
              "  </thead>\n",
              "  <tbody>\n",
              "    <tr>\n",
              "      <th>0</th>\n",
              "      <td>1</td>\n",
              "      <td>Four Rooms</td>\n",
              "      <td>Crime Comedy</td>\n",
              "      <td>en</td>\n",
              "      <td>4000000</td>\n",
              "      <td>22.876230</td>\n",
              "      <td>09-12-1995</td>\n",
              "      <td>4300000</td>\n",
              "      <td>98.0</td>\n",
              "      <td>6.5</td>\n",
              "      <td>...</td>\n",
              "      <td>NaN</td>\n",
              "      <td>hotel new year's eve witch bet hotel room</td>\n",
              "      <td>It's Ted the Bellhop's first night on the job....</td>\n",
              "      <td>[{\"name\": \"Miramax Films\", \"id\": 14}, {\"name\":...</td>\n",
              "      <td>[{\"iso_3166_1\": \"US\", \"name\": \"United States o...</td>\n",
              "      <td>[{\"iso_639_1\": \"en\", \"name\": \"English\"}]</td>\n",
              "      <td>Twelve outrageous guests. Four scandalous requ...</td>\n",
              "      <td>Tim Roth Antonio Banderas Jennifer Beals Madon...</td>\n",
              "      <td>[{'name': 'Allison Anders', 'gender': 1, 'depa...</td>\n",
              "      <td>Allison Anders</td>\n",
              "    </tr>\n",
              "    <tr>\n",
              "      <th>1</th>\n",
              "      <td>2</td>\n",
              "      <td>Star Wars</td>\n",
              "      <td>Adventure Action Science Fiction</td>\n",
              "      <td>en</td>\n",
              "      <td>11000000</td>\n",
              "      <td>126.393695</td>\n",
              "      <td>25-05-1977</td>\n",
              "      <td>775398007</td>\n",
              "      <td>121.0</td>\n",
              "      <td>8.1</td>\n",
              "      <td>...</td>\n",
              "      <td>http://www.starwars.com/films/star-wars-episod...</td>\n",
              "      <td>android galaxy hermit death star lightsaber</td>\n",
              "      <td>Princess Leia is captured and held hostage by ...</td>\n",
              "      <td>[{\"name\": \"Lucasfilm\", \"id\": 1}, {\"name\": \"Twe...</td>\n",
              "      <td>[{\"iso_3166_1\": \"US\", \"name\": \"United States o...</td>\n",
              "      <td>[{\"iso_639_1\": \"en\", \"name\": \"English\"}]</td>\n",
              "      <td>A long time ago in a galaxy far, far away...</td>\n",
              "      <td>Mark Hamill Harrison Ford Carrie Fisher Peter ...</td>\n",
              "      <td>[{'name': 'George Lucas', 'gender': 2, 'depart...</td>\n",
              "      <td>George Lucas</td>\n",
              "    </tr>\n",
              "    <tr>\n",
              "      <th>2</th>\n",
              "      <td>3</td>\n",
              "      <td>Finding Nemo</td>\n",
              "      <td>Animation Family</td>\n",
              "      <td>en</td>\n",
              "      <td>94000000</td>\n",
              "      <td>85.688789</td>\n",
              "      <td>30-05-2003</td>\n",
              "      <td>940335536</td>\n",
              "      <td>100.0</td>\n",
              "      <td>7.6</td>\n",
              "      <td>...</td>\n",
              "      <td>http://movies.disney.com/finding-nemo</td>\n",
              "      <td>father son relationship harbor underwater fish...</td>\n",
              "      <td>Nemo, an adventurous young clownfish, is unexp...</td>\n",
              "      <td>[{\"name\": \"Pixar Animation Studios\", \"id\": 3}]</td>\n",
              "      <td>[{\"iso_3166_1\": \"US\", \"name\": \"United States o...</td>\n",
              "      <td>[{\"iso_639_1\": \"en\", \"name\": \"English\"}]</td>\n",
              "      <td>There are 3.7 trillion fish in the ocean, they...</td>\n",
              "      <td>Albert Brooks Ellen DeGeneres Alexander Gould ...</td>\n",
              "      <td>[{'name': 'Andrew Stanton', 'gender': 2, 'depa...</td>\n",
              "      <td>Andrew Stanton</td>\n",
              "    </tr>\n",
              "    <tr>\n",
              "      <th>3</th>\n",
              "      <td>4</td>\n",
              "      <td>Forrest Gump</td>\n",
              "      <td>Comedy Drama Romance</td>\n",
              "      <td>en</td>\n",
              "      <td>55000000</td>\n",
              "      <td>138.133331</td>\n",
              "      <td>06-07-1994</td>\n",
              "      <td>677945399</td>\n",
              "      <td>142.0</td>\n",
              "      <td>8.2</td>\n",
              "      <td>...</td>\n",
              "      <td>NaN</td>\n",
              "      <td>vietnam veteran hippie mentally disabled runni...</td>\n",
              "      <td>A man with a low IQ has accomplished great thi...</td>\n",
              "      <td>[{\"name\": \"Paramount Pictures\", \"id\": 4}]</td>\n",
              "      <td>[{\"iso_3166_1\": \"US\", \"name\": \"United States o...</td>\n",
              "      <td>[{\"iso_639_1\": \"en\", \"name\": \"English\"}]</td>\n",
              "      <td>The world will never be the same, once you've ...</td>\n",
              "      <td>Tom Hanks Robin Wright Gary Sinise Mykelti Wil...</td>\n",
              "      <td>[{'name': 'Alan Silvestri', 'gender': 2, 'depa...</td>\n",
              "      <td>Robert Zemeckis</td>\n",
              "    </tr>\n",
              "    <tr>\n",
              "      <th>4</th>\n",
              "      <td>5</td>\n",
              "      <td>American Beauty</td>\n",
              "      <td>Drama</td>\n",
              "      <td>en</td>\n",
              "      <td>15000000</td>\n",
              "      <td>80.878605</td>\n",
              "      <td>15-09-1999</td>\n",
              "      <td>356296601</td>\n",
              "      <td>122.0</td>\n",
              "      <td>7.9</td>\n",
              "      <td>...</td>\n",
              "      <td>http://www.dreamworks.com/ab/</td>\n",
              "      <td>male nudity female nudity adultery midlife cri...</td>\n",
              "      <td>Lester Burnham, a depressed suburban father in...</td>\n",
              "      <td>[{\"name\": \"DreamWorks SKG\", \"id\": 27}, {\"name\"...</td>\n",
              "      <td>[{\"iso_3166_1\": \"US\", \"name\": \"United States o...</td>\n",
              "      <td>[{\"iso_639_1\": \"en\", \"name\": \"English\"}]</td>\n",
              "      <td>Look closer.</td>\n",
              "      <td>Kevin Spacey Annette Bening Thora Birch Wes Be...</td>\n",
              "      <td>[{'name': 'Thomas Newman', 'gender': 2, 'depar...</td>\n",
              "      <td>Sam Mendes</td>\n",
              "    </tr>\n",
              "  </tbody>\n",
              "</table>\n",
              "<p>5 rows × 21 columns</p>\n",
              "</div>\n",
              "    <div class=\"colab-df-buttons\">\n",
              "\n",
              "  <div class=\"colab-df-container\">\n",
              "    <button class=\"colab-df-convert\" onclick=\"convertToInteractive('df-f054741e-601e-4663-b29d-7f4bf5abfb8b')\"\n",
              "            title=\"Convert this dataframe to an interactive table.\"\n",
              "            style=\"display:none;\">\n",
              "\n",
              "  <svg xmlns=\"http://www.w3.org/2000/svg\" height=\"24px\" viewBox=\"0 -960 960 960\">\n",
              "    <path d=\"M120-120v-720h720v720H120Zm60-500h600v-160H180v160Zm220 220h160v-160H400v160Zm0 220h160v-160H400v160ZM180-400h160v-160H180v160Zm440 0h160v-160H620v160ZM180-180h160v-160H180v160Zm440 0h160v-160H620v160Z\"/>\n",
              "  </svg>\n",
              "    </button>\n",
              "\n",
              "  <style>\n",
              "    .colab-df-container {\n",
              "      display:flex;\n",
              "      gap: 12px;\n",
              "    }\n",
              "\n",
              "    .colab-df-convert {\n",
              "      background-color: #E8F0FE;\n",
              "      border: none;\n",
              "      border-radius: 50%;\n",
              "      cursor: pointer;\n",
              "      display: none;\n",
              "      fill: #1967D2;\n",
              "      height: 32px;\n",
              "      padding: 0 0 0 0;\n",
              "      width: 32px;\n",
              "    }\n",
              "\n",
              "    .colab-df-convert:hover {\n",
              "      background-color: #E2EBFA;\n",
              "      box-shadow: 0px 1px 2px rgba(60, 64, 67, 0.3), 0px 1px 3px 1px rgba(60, 64, 67, 0.15);\n",
              "      fill: #174EA6;\n",
              "    }\n",
              "\n",
              "    .colab-df-buttons div {\n",
              "      margin-bottom: 4px;\n",
              "    }\n",
              "\n",
              "    [theme=dark] .colab-df-convert {\n",
              "      background-color: #3B4455;\n",
              "      fill: #D2E3FC;\n",
              "    }\n",
              "\n",
              "    [theme=dark] .colab-df-convert:hover {\n",
              "      background-color: #434B5C;\n",
              "      box-shadow: 0px 1px 3px 1px rgba(0, 0, 0, 0.15);\n",
              "      filter: drop-shadow(0px 1px 2px rgba(0, 0, 0, 0.3));\n",
              "      fill: #FFFFFF;\n",
              "    }\n",
              "  </style>\n",
              "\n",
              "    <script>\n",
              "      const buttonEl =\n",
              "        document.querySelector('#df-f054741e-601e-4663-b29d-7f4bf5abfb8b button.colab-df-convert');\n",
              "      buttonEl.style.display =\n",
              "        google.colab.kernel.accessAllowed ? 'block' : 'none';\n",
              "\n",
              "      async function convertToInteractive(key) {\n",
              "        const element = document.querySelector('#df-f054741e-601e-4663-b29d-7f4bf5abfb8b');\n",
              "        const dataTable =\n",
              "          await google.colab.kernel.invokeFunction('convertToInteractive',\n",
              "                                                    [key], {});\n",
              "        if (!dataTable) return;\n",
              "\n",
              "        const docLinkHtml = 'Like what you see? Visit the ' +\n",
              "          '<a target=\"_blank\" href=https://colab.research.google.com/notebooks/data_table.ipynb>data table notebook</a>'\n",
              "          + ' to learn more about interactive tables.';\n",
              "        element.innerHTML = '';\n",
              "        dataTable['output_type'] = 'display_data';\n",
              "        await google.colab.output.renderOutput(dataTable, element);\n",
              "        const docLink = document.createElement('div');\n",
              "        docLink.innerHTML = docLinkHtml;\n",
              "        element.appendChild(docLink);\n",
              "      }\n",
              "    </script>\n",
              "  </div>\n",
              "\n",
              "\n",
              "<div id=\"df-ab0a8a65-5b37-454a-b579-e865b090909e\">\n",
              "  <button class=\"colab-df-quickchart\" onclick=\"quickchart('df-ab0a8a65-5b37-454a-b579-e865b090909e')\"\n",
              "            title=\"Suggest charts\"\n",
              "            style=\"display:none;\">\n",
              "\n",
              "<svg xmlns=\"http://www.w3.org/2000/svg\" height=\"24px\"viewBox=\"0 0 24 24\"\n",
              "     width=\"24px\">\n",
              "    <g>\n",
              "        <path d=\"M19 3H5c-1.1 0-2 .9-2 2v14c0 1.1.9 2 2 2h14c1.1 0 2-.9 2-2V5c0-1.1-.9-2-2-2zM9 17H7v-7h2v7zm4 0h-2V7h2v10zm4 0h-2v-4h2v4z\"/>\n",
              "    </g>\n",
              "</svg>\n",
              "  </button>\n",
              "\n",
              "<style>\n",
              "  .colab-df-quickchart {\n",
              "      --bg-color: #E8F0FE;\n",
              "      --fill-color: #1967D2;\n",
              "      --hover-bg-color: #E2EBFA;\n",
              "      --hover-fill-color: #174EA6;\n",
              "      --disabled-fill-color: #AAA;\n",
              "      --disabled-bg-color: #DDD;\n",
              "  }\n",
              "\n",
              "  [theme=dark] .colab-df-quickchart {\n",
              "      --bg-color: #3B4455;\n",
              "      --fill-color: #D2E3FC;\n",
              "      --hover-bg-color: #434B5C;\n",
              "      --hover-fill-color: #FFFFFF;\n",
              "      --disabled-bg-color: #3B4455;\n",
              "      --disabled-fill-color: #666;\n",
              "  }\n",
              "\n",
              "  .colab-df-quickchart {\n",
              "    background-color: var(--bg-color);\n",
              "    border: none;\n",
              "    border-radius: 50%;\n",
              "    cursor: pointer;\n",
              "    display: none;\n",
              "    fill: var(--fill-color);\n",
              "    height: 32px;\n",
              "    padding: 0;\n",
              "    width: 32px;\n",
              "  }\n",
              "\n",
              "  .colab-df-quickchart:hover {\n",
              "    background-color: var(--hover-bg-color);\n",
              "    box-shadow: 0 1px 2px rgba(60, 64, 67, 0.3), 0 1px 3px 1px rgba(60, 64, 67, 0.15);\n",
              "    fill: var(--button-hover-fill-color);\n",
              "  }\n",
              "\n",
              "  .colab-df-quickchart-complete:disabled,\n",
              "  .colab-df-quickchart-complete:disabled:hover {\n",
              "    background-color: var(--disabled-bg-color);\n",
              "    fill: var(--disabled-fill-color);\n",
              "    box-shadow: none;\n",
              "  }\n",
              "\n",
              "  .colab-df-spinner {\n",
              "    border: 2px solid var(--fill-color);\n",
              "    border-color: transparent;\n",
              "    border-bottom-color: var(--fill-color);\n",
              "    animation:\n",
              "      spin 1s steps(1) infinite;\n",
              "  }\n",
              "\n",
              "  @keyframes spin {\n",
              "    0% {\n",
              "      border-color: transparent;\n",
              "      border-bottom-color: var(--fill-color);\n",
              "      border-left-color: var(--fill-color);\n",
              "    }\n",
              "    20% {\n",
              "      border-color: transparent;\n",
              "      border-left-color: var(--fill-color);\n",
              "      border-top-color: var(--fill-color);\n",
              "    }\n",
              "    30% {\n",
              "      border-color: transparent;\n",
              "      border-left-color: var(--fill-color);\n",
              "      border-top-color: var(--fill-color);\n",
              "      border-right-color: var(--fill-color);\n",
              "    }\n",
              "    40% {\n",
              "      border-color: transparent;\n",
              "      border-right-color: var(--fill-color);\n",
              "      border-top-color: var(--fill-color);\n",
              "    }\n",
              "    60% {\n",
              "      border-color: transparent;\n",
              "      border-right-color: var(--fill-color);\n",
              "    }\n",
              "    80% {\n",
              "      border-color: transparent;\n",
              "      border-right-color: var(--fill-color);\n",
              "      border-bottom-color: var(--fill-color);\n",
              "    }\n",
              "    90% {\n",
              "      border-color: transparent;\n",
              "      border-bottom-color: var(--fill-color);\n",
              "    }\n",
              "  }\n",
              "</style>\n",
              "\n",
              "  <script>\n",
              "    async function quickchart(key) {\n",
              "      const quickchartButtonEl =\n",
              "        document.querySelector('#' + key + ' button');\n",
              "      quickchartButtonEl.disabled = true;  // To prevent multiple clicks.\n",
              "      quickchartButtonEl.classList.add('colab-df-spinner');\n",
              "      try {\n",
              "        const charts = await google.colab.kernel.invokeFunction(\n",
              "            'suggestCharts', [key], {});\n",
              "      } catch (error) {\n",
              "        console.error('Error during call to suggestCharts:', error);\n",
              "      }\n",
              "      quickchartButtonEl.classList.remove('colab-df-spinner');\n",
              "      quickchartButtonEl.classList.add('colab-df-quickchart-complete');\n",
              "    }\n",
              "    (() => {\n",
              "      let quickchartButtonEl =\n",
              "        document.querySelector('#df-ab0a8a65-5b37-454a-b579-e865b090909e button');\n",
              "      quickchartButtonEl.style.display =\n",
              "        google.colab.kernel.accessAllowed ? 'block' : 'none';\n",
              "    })();\n",
              "  </script>\n",
              "</div>\n",
              "\n",
              "    </div>\n",
              "  </div>\n"
            ],
            "application/vnd.google.colaboratory.intrinsic+json": {
              "type": "dataframe",
              "variable_name": "df"
            }
          },
          "metadata": {},
          "execution_count": 6
        }
      ]
    },
    {
      "cell_type": "code",
      "source": [
        "df.info()"
      ],
      "metadata": {
        "colab": {
          "base_uri": "https://localhost:8080/"
        },
        "id": "dVFL_0KF_4OE",
        "outputId": "c6e70421-336a-4772-ee5a-deb8a8bcf661"
      },
      "execution_count": 7,
      "outputs": [
        {
          "output_type": "stream",
          "name": "stdout",
          "text": [
            "<class 'pandas.core.frame.DataFrame'>\n",
            "RangeIndex: 4760 entries, 0 to 4759\n",
            "Data columns (total 21 columns):\n",
            " #   Column                    Non-Null Count  Dtype  \n",
            "---  ------                    --------------  -----  \n",
            " 0   Movie_ID                  4760 non-null   int64  \n",
            " 1   Movie_Title               4760 non-null   object \n",
            " 2   Movie_Genre               4760 non-null   object \n",
            " 3   Movie_Language            4760 non-null   object \n",
            " 4   Movie_Budget              4760 non-null   int64  \n",
            " 5   Movie_Popularity          4760 non-null   float64\n",
            " 6   Movie_Release_Date        4760 non-null   object \n",
            " 7   Movie_Revenue             4760 non-null   int64  \n",
            " 8   Movie_Runtime             4758 non-null   float64\n",
            " 9   Movie_Vote                4760 non-null   float64\n",
            " 10  Movie_Vote_Count          4760 non-null   int64  \n",
            " 11  Movie_Homepage            1699 non-null   object \n",
            " 12  Movie_Keywords            4373 non-null   object \n",
            " 13  Movie_Overview            4757 non-null   object \n",
            " 14  Movie_Production_House    4760 non-null   object \n",
            " 15  Movie_Production_Country  4760 non-null   object \n",
            " 16  Movie_Spoken_Language     4760 non-null   object \n",
            " 17  Movie_Tagline             3942 non-null   object \n",
            " 18  Movie_Cast                4733 non-null   object \n",
            " 19  Movie_Crew                4760 non-null   object \n",
            " 20  Movie_Director            4738 non-null   object \n",
            "dtypes: float64(3), int64(4), object(14)\n",
            "memory usage: 781.1+ KB\n"
          ]
        }
      ]
    },
    {
      "cell_type": "code",
      "source": [
        "df.shape"
      ],
      "metadata": {
        "colab": {
          "base_uri": "https://localhost:8080/"
        },
        "id": "C-DVjWkW__Qo",
        "outputId": "5664fd77-2676-46a7-a461-a479ffc8f022"
      },
      "execution_count": 8,
      "outputs": [
        {
          "output_type": "execute_result",
          "data": {
            "text/plain": [
              "(4760, 21)"
            ]
          },
          "metadata": {},
          "execution_count": 8
        }
      ]
    },
    {
      "cell_type": "code",
      "source": [
        "df.columns"
      ],
      "metadata": {
        "colab": {
          "base_uri": "https://localhost:8080/"
        },
        "id": "zZ53c6I6AF53",
        "outputId": "c1626094-dc7f-412c-bc79-3b1744a749b3"
      },
      "execution_count": 9,
      "outputs": [
        {
          "output_type": "execute_result",
          "data": {
            "text/plain": [
              "Index(['Movie_ID', 'Movie_Title', 'Movie_Genre', 'Movie_Language',\n",
              "       'Movie_Budget', 'Movie_Popularity', 'Movie_Release_Date',\n",
              "       'Movie_Revenue', 'Movie_Runtime', 'Movie_Vote', 'Movie_Vote_Count',\n",
              "       'Movie_Homepage', 'Movie_Keywords', 'Movie_Overview',\n",
              "       'Movie_Production_House', 'Movie_Production_Country',\n",
              "       'Movie_Spoken_Language', 'Movie_Tagline', 'Movie_Cast', 'Movie_Crew',\n",
              "       'Movie_Director'],\n",
              "      dtype='object')"
            ]
          },
          "metadata": {},
          "execution_count": 9
        }
      ]
    },
    {
      "cell_type": "markdown",
      "source": [
        "# GET FEATURE SELECTION"
      ],
      "metadata": {
        "id": "mTnjVsEUPXEk"
      }
    },
    {
      "cell_type": "markdown",
      "source": [
        "I based my movie recommendations on Five movie Feartures: genre, keywords, tagline, cast and director."
      ],
      "metadata": {
        "id": "PVd1EqVSPoUK"
      }
    },
    {
      "cell_type": "code",
      "source": [
        "df_features = df[['Movie_Genre','Movie_Keywords','Movie_Tagline','Movie_Cast','Movie_Director']].fillna('')"
      ],
      "metadata": {
        "id": "_ONlijf0PcA1"
      },
      "execution_count": 10,
      "outputs": []
    },
    {
      "cell_type": "code",
      "source": [
        "df_features.shape"
      ],
      "metadata": {
        "colab": {
          "base_uri": "https://localhost:8080/"
        },
        "id": "awsgbjJxP-fw",
        "outputId": "ec3c4024-bbc6-4905-88c1-4c7913de6aa9"
      },
      "execution_count": 11,
      "outputs": [
        {
          "output_type": "execute_result",
          "data": {
            "text/plain": [
              "(4760, 5)"
            ]
          },
          "metadata": {},
          "execution_count": 11
        }
      ]
    },
    {
      "cell_type": "code",
      "source": [
        "df_features"
      ],
      "metadata": {
        "colab": {
          "base_uri": "https://localhost:8080/",
          "height": 493
        },
        "id": "Q-9YPBnnQRSm",
        "outputId": "a3983de3-525a-4b27-8686-bcd90c350288"
      },
      "execution_count": 12,
      "outputs": [
        {
          "output_type": "execute_result",
          "data": {
            "text/plain": [
              "                           Movie_Genre  \\\n",
              "0                         Crime Comedy   \n",
              "1     Adventure Action Science Fiction   \n",
              "2                     Animation Family   \n",
              "3                 Comedy Drama Romance   \n",
              "4                                Drama   \n",
              "...                                ...   \n",
              "4755                            Horror   \n",
              "4756               Comedy Family Drama   \n",
              "4757                    Thriller Drama   \n",
              "4758                            Family   \n",
              "4759                       Documentary   \n",
              "\n",
              "                                         Movie_Keywords  \\\n",
              "0             hotel new year's eve witch bet hotel room   \n",
              "1           android galaxy hermit death star lightsaber   \n",
              "2     father son relationship harbor underwater fish...   \n",
              "3     vietnam veteran hippie mentally disabled runni...   \n",
              "4     male nudity female nudity adultery midlife cri...   \n",
              "...                                                 ...   \n",
              "4755                                                      \n",
              "4756                                                      \n",
              "4757                     christian film sex trafficking   \n",
              "4758                                                      \n",
              "4759  music actors legendary perfomer classic hollyw...   \n",
              "\n",
              "                                          Movie_Tagline  \\\n",
              "0     Twelve outrageous guests. Four scandalous requ...   \n",
              "1          A long time ago in a galaxy far, far away...   \n",
              "2     There are 3.7 trillion fish in the ocean, they...   \n",
              "3     The world will never be the same, once you've ...   \n",
              "4                                          Look closer.   \n",
              "...                                                 ...   \n",
              "4755                The hot spot where Satan's waitin'.   \n",
              "4756           It’s better to stand out than to fit in.   \n",
              "4757           She never knew it could happen to her...   \n",
              "4758                                                      \n",
              "4759                                                      \n",
              "\n",
              "                                             Movie_Cast     Movie_Director  \n",
              "0     Tim Roth Antonio Banderas Jennifer Beals Madon...     Allison Anders  \n",
              "1     Mark Hamill Harrison Ford Carrie Fisher Peter ...       George Lucas  \n",
              "2     Albert Brooks Ellen DeGeneres Alexander Gould ...     Andrew Stanton  \n",
              "3     Tom Hanks Robin Wright Gary Sinise Mykelti Wil...    Robert Zemeckis  \n",
              "4     Kevin Spacey Annette Bening Thora Birch Wes Be...         Sam Mendes  \n",
              "...                                                 ...                ...  \n",
              "4755  Lisa Hart Carroll Michael Des Barres Paul Drak...         Pece Dingo  \n",
              "4756  Roni Akurati Brighton Sharbino Jason Lee Anjul...       Frank Lotito  \n",
              "4757  Nicole Smolen Kim Baldwin Ariana Stephens Brys...       Jaco Booyens  \n",
              "4758                                                                        \n",
              "4759                                    Tony Oppedisano  Simon Napier-Bell  \n",
              "\n",
              "[4760 rows x 5 columns]"
            ],
            "text/html": [
              "\n",
              "  <div id=\"df-de9ebd41-fe9f-4dcd-b6f8-83cd59a042d6\" class=\"colab-df-container\">\n",
              "    <div>\n",
              "<style scoped>\n",
              "    .dataframe tbody tr th:only-of-type {\n",
              "        vertical-align: middle;\n",
              "    }\n",
              "\n",
              "    .dataframe tbody tr th {\n",
              "        vertical-align: top;\n",
              "    }\n",
              "\n",
              "    .dataframe thead th {\n",
              "        text-align: right;\n",
              "    }\n",
              "</style>\n",
              "<table border=\"1\" class=\"dataframe\">\n",
              "  <thead>\n",
              "    <tr style=\"text-align: right;\">\n",
              "      <th></th>\n",
              "      <th>Movie_Genre</th>\n",
              "      <th>Movie_Keywords</th>\n",
              "      <th>Movie_Tagline</th>\n",
              "      <th>Movie_Cast</th>\n",
              "      <th>Movie_Director</th>\n",
              "    </tr>\n",
              "  </thead>\n",
              "  <tbody>\n",
              "    <tr>\n",
              "      <th>0</th>\n",
              "      <td>Crime Comedy</td>\n",
              "      <td>hotel new year's eve witch bet hotel room</td>\n",
              "      <td>Twelve outrageous guests. Four scandalous requ...</td>\n",
              "      <td>Tim Roth Antonio Banderas Jennifer Beals Madon...</td>\n",
              "      <td>Allison Anders</td>\n",
              "    </tr>\n",
              "    <tr>\n",
              "      <th>1</th>\n",
              "      <td>Adventure Action Science Fiction</td>\n",
              "      <td>android galaxy hermit death star lightsaber</td>\n",
              "      <td>A long time ago in a galaxy far, far away...</td>\n",
              "      <td>Mark Hamill Harrison Ford Carrie Fisher Peter ...</td>\n",
              "      <td>George Lucas</td>\n",
              "    </tr>\n",
              "    <tr>\n",
              "      <th>2</th>\n",
              "      <td>Animation Family</td>\n",
              "      <td>father son relationship harbor underwater fish...</td>\n",
              "      <td>There are 3.7 trillion fish in the ocean, they...</td>\n",
              "      <td>Albert Brooks Ellen DeGeneres Alexander Gould ...</td>\n",
              "      <td>Andrew Stanton</td>\n",
              "    </tr>\n",
              "    <tr>\n",
              "      <th>3</th>\n",
              "      <td>Comedy Drama Romance</td>\n",
              "      <td>vietnam veteran hippie mentally disabled runni...</td>\n",
              "      <td>The world will never be the same, once you've ...</td>\n",
              "      <td>Tom Hanks Robin Wright Gary Sinise Mykelti Wil...</td>\n",
              "      <td>Robert Zemeckis</td>\n",
              "    </tr>\n",
              "    <tr>\n",
              "      <th>4</th>\n",
              "      <td>Drama</td>\n",
              "      <td>male nudity female nudity adultery midlife cri...</td>\n",
              "      <td>Look closer.</td>\n",
              "      <td>Kevin Spacey Annette Bening Thora Birch Wes Be...</td>\n",
              "      <td>Sam Mendes</td>\n",
              "    </tr>\n",
              "    <tr>\n",
              "      <th>...</th>\n",
              "      <td>...</td>\n",
              "      <td>...</td>\n",
              "      <td>...</td>\n",
              "      <td>...</td>\n",
              "      <td>...</td>\n",
              "    </tr>\n",
              "    <tr>\n",
              "      <th>4755</th>\n",
              "      <td>Horror</td>\n",
              "      <td></td>\n",
              "      <td>The hot spot where Satan's waitin'.</td>\n",
              "      <td>Lisa Hart Carroll Michael Des Barres Paul Drak...</td>\n",
              "      <td>Pece Dingo</td>\n",
              "    </tr>\n",
              "    <tr>\n",
              "      <th>4756</th>\n",
              "      <td>Comedy Family Drama</td>\n",
              "      <td></td>\n",
              "      <td>It’s better to stand out than to fit in.</td>\n",
              "      <td>Roni Akurati Brighton Sharbino Jason Lee Anjul...</td>\n",
              "      <td>Frank Lotito</td>\n",
              "    </tr>\n",
              "    <tr>\n",
              "      <th>4757</th>\n",
              "      <td>Thriller Drama</td>\n",
              "      <td>christian film sex trafficking</td>\n",
              "      <td>She never knew it could happen to her...</td>\n",
              "      <td>Nicole Smolen Kim Baldwin Ariana Stephens Brys...</td>\n",
              "      <td>Jaco Booyens</td>\n",
              "    </tr>\n",
              "    <tr>\n",
              "      <th>4758</th>\n",
              "      <td>Family</td>\n",
              "      <td></td>\n",
              "      <td></td>\n",
              "      <td></td>\n",
              "      <td></td>\n",
              "    </tr>\n",
              "    <tr>\n",
              "      <th>4759</th>\n",
              "      <td>Documentary</td>\n",
              "      <td>music actors legendary perfomer classic hollyw...</td>\n",
              "      <td></td>\n",
              "      <td>Tony Oppedisano</td>\n",
              "      <td>Simon Napier-Bell</td>\n",
              "    </tr>\n",
              "  </tbody>\n",
              "</table>\n",
              "<p>4760 rows × 5 columns</p>\n",
              "</div>\n",
              "    <div class=\"colab-df-buttons\">\n",
              "\n",
              "  <div class=\"colab-df-container\">\n",
              "    <button class=\"colab-df-convert\" onclick=\"convertToInteractive('df-de9ebd41-fe9f-4dcd-b6f8-83cd59a042d6')\"\n",
              "            title=\"Convert this dataframe to an interactive table.\"\n",
              "            style=\"display:none;\">\n",
              "\n",
              "  <svg xmlns=\"http://www.w3.org/2000/svg\" height=\"24px\" viewBox=\"0 -960 960 960\">\n",
              "    <path d=\"M120-120v-720h720v720H120Zm60-500h600v-160H180v160Zm220 220h160v-160H400v160Zm0 220h160v-160H400v160ZM180-400h160v-160H180v160Zm440 0h160v-160H620v160ZM180-180h160v-160H180v160Zm440 0h160v-160H620v160Z\"/>\n",
              "  </svg>\n",
              "    </button>\n",
              "\n",
              "  <style>\n",
              "    .colab-df-container {\n",
              "      display:flex;\n",
              "      gap: 12px;\n",
              "    }\n",
              "\n",
              "    .colab-df-convert {\n",
              "      background-color: #E8F0FE;\n",
              "      border: none;\n",
              "      border-radius: 50%;\n",
              "      cursor: pointer;\n",
              "      display: none;\n",
              "      fill: #1967D2;\n",
              "      height: 32px;\n",
              "      padding: 0 0 0 0;\n",
              "      width: 32px;\n",
              "    }\n",
              "\n",
              "    .colab-df-convert:hover {\n",
              "      background-color: #E2EBFA;\n",
              "      box-shadow: 0px 1px 2px rgba(60, 64, 67, 0.3), 0px 1px 3px 1px rgba(60, 64, 67, 0.15);\n",
              "      fill: #174EA6;\n",
              "    }\n",
              "\n",
              "    .colab-df-buttons div {\n",
              "      margin-bottom: 4px;\n",
              "    }\n",
              "\n",
              "    [theme=dark] .colab-df-convert {\n",
              "      background-color: #3B4455;\n",
              "      fill: #D2E3FC;\n",
              "    }\n",
              "\n",
              "    [theme=dark] .colab-df-convert:hover {\n",
              "      background-color: #434B5C;\n",
              "      box-shadow: 0px 1px 3px 1px rgba(0, 0, 0, 0.15);\n",
              "      filter: drop-shadow(0px 1px 2px rgba(0, 0, 0, 0.3));\n",
              "      fill: #FFFFFF;\n",
              "    }\n",
              "  </style>\n",
              "\n",
              "    <script>\n",
              "      const buttonEl =\n",
              "        document.querySelector('#df-de9ebd41-fe9f-4dcd-b6f8-83cd59a042d6 button.colab-df-convert');\n",
              "      buttonEl.style.display =\n",
              "        google.colab.kernel.accessAllowed ? 'block' : 'none';\n",
              "\n",
              "      async function convertToInteractive(key) {\n",
              "        const element = document.querySelector('#df-de9ebd41-fe9f-4dcd-b6f8-83cd59a042d6');\n",
              "        const dataTable =\n",
              "          await google.colab.kernel.invokeFunction('convertToInteractive',\n",
              "                                                    [key], {});\n",
              "        if (!dataTable) return;\n",
              "\n",
              "        const docLinkHtml = 'Like what you see? Visit the ' +\n",
              "          '<a target=\"_blank\" href=https://colab.research.google.com/notebooks/data_table.ipynb>data table notebook</a>'\n",
              "          + ' to learn more about interactive tables.';\n",
              "        element.innerHTML = '';\n",
              "        dataTable['output_type'] = 'display_data';\n",
              "        await google.colab.output.renderOutput(dataTable, element);\n",
              "        const docLink = document.createElement('div');\n",
              "        docLink.innerHTML = docLinkHtml;\n",
              "        element.appendChild(docLink);\n",
              "      }\n",
              "    </script>\n",
              "  </div>\n",
              "\n",
              "\n",
              "<div id=\"df-6d620c89-aed9-4615-8f2f-9ee0f02f1d96\">\n",
              "  <button class=\"colab-df-quickchart\" onclick=\"quickchart('df-6d620c89-aed9-4615-8f2f-9ee0f02f1d96')\"\n",
              "            title=\"Suggest charts\"\n",
              "            style=\"display:none;\">\n",
              "\n",
              "<svg xmlns=\"http://www.w3.org/2000/svg\" height=\"24px\"viewBox=\"0 0 24 24\"\n",
              "     width=\"24px\">\n",
              "    <g>\n",
              "        <path d=\"M19 3H5c-1.1 0-2 .9-2 2v14c0 1.1.9 2 2 2h14c1.1 0 2-.9 2-2V5c0-1.1-.9-2-2-2zM9 17H7v-7h2v7zm4 0h-2V7h2v10zm4 0h-2v-4h2v4z\"/>\n",
              "    </g>\n",
              "</svg>\n",
              "  </button>\n",
              "\n",
              "<style>\n",
              "  .colab-df-quickchart {\n",
              "      --bg-color: #E8F0FE;\n",
              "      --fill-color: #1967D2;\n",
              "      --hover-bg-color: #E2EBFA;\n",
              "      --hover-fill-color: #174EA6;\n",
              "      --disabled-fill-color: #AAA;\n",
              "      --disabled-bg-color: #DDD;\n",
              "  }\n",
              "\n",
              "  [theme=dark] .colab-df-quickchart {\n",
              "      --bg-color: #3B4455;\n",
              "      --fill-color: #D2E3FC;\n",
              "      --hover-bg-color: #434B5C;\n",
              "      --hover-fill-color: #FFFFFF;\n",
              "      --disabled-bg-color: #3B4455;\n",
              "      --disabled-fill-color: #666;\n",
              "  }\n",
              "\n",
              "  .colab-df-quickchart {\n",
              "    background-color: var(--bg-color);\n",
              "    border: none;\n",
              "    border-radius: 50%;\n",
              "    cursor: pointer;\n",
              "    display: none;\n",
              "    fill: var(--fill-color);\n",
              "    height: 32px;\n",
              "    padding: 0;\n",
              "    width: 32px;\n",
              "  }\n",
              "\n",
              "  .colab-df-quickchart:hover {\n",
              "    background-color: var(--hover-bg-color);\n",
              "    box-shadow: 0 1px 2px rgba(60, 64, 67, 0.3), 0 1px 3px 1px rgba(60, 64, 67, 0.15);\n",
              "    fill: var(--button-hover-fill-color);\n",
              "  }\n",
              "\n",
              "  .colab-df-quickchart-complete:disabled,\n",
              "  .colab-df-quickchart-complete:disabled:hover {\n",
              "    background-color: var(--disabled-bg-color);\n",
              "    fill: var(--disabled-fill-color);\n",
              "    box-shadow: none;\n",
              "  }\n",
              "\n",
              "  .colab-df-spinner {\n",
              "    border: 2px solid var(--fill-color);\n",
              "    border-color: transparent;\n",
              "    border-bottom-color: var(--fill-color);\n",
              "    animation:\n",
              "      spin 1s steps(1) infinite;\n",
              "  }\n",
              "\n",
              "  @keyframes spin {\n",
              "    0% {\n",
              "      border-color: transparent;\n",
              "      border-bottom-color: var(--fill-color);\n",
              "      border-left-color: var(--fill-color);\n",
              "    }\n",
              "    20% {\n",
              "      border-color: transparent;\n",
              "      border-left-color: var(--fill-color);\n",
              "      border-top-color: var(--fill-color);\n",
              "    }\n",
              "    30% {\n",
              "      border-color: transparent;\n",
              "      border-left-color: var(--fill-color);\n",
              "      border-top-color: var(--fill-color);\n",
              "      border-right-color: var(--fill-color);\n",
              "    }\n",
              "    40% {\n",
              "      border-color: transparent;\n",
              "      border-right-color: var(--fill-color);\n",
              "      border-top-color: var(--fill-color);\n",
              "    }\n",
              "    60% {\n",
              "      border-color: transparent;\n",
              "      border-right-color: var(--fill-color);\n",
              "    }\n",
              "    80% {\n",
              "      border-color: transparent;\n",
              "      border-right-color: var(--fill-color);\n",
              "      border-bottom-color: var(--fill-color);\n",
              "    }\n",
              "    90% {\n",
              "      border-color: transparent;\n",
              "      border-bottom-color: var(--fill-color);\n",
              "    }\n",
              "  }\n",
              "</style>\n",
              "\n",
              "  <script>\n",
              "    async function quickchart(key) {\n",
              "      const quickchartButtonEl =\n",
              "        document.querySelector('#' + key + ' button');\n",
              "      quickchartButtonEl.disabled = true;  // To prevent multiple clicks.\n",
              "      quickchartButtonEl.classList.add('colab-df-spinner');\n",
              "      try {\n",
              "        const charts = await google.colab.kernel.invokeFunction(\n",
              "            'suggestCharts', [key], {});\n",
              "      } catch (error) {\n",
              "        console.error('Error during call to suggestCharts:', error);\n",
              "      }\n",
              "      quickchartButtonEl.classList.remove('colab-df-spinner');\n",
              "      quickchartButtonEl.classList.add('colab-df-quickchart-complete');\n",
              "    }\n",
              "    (() => {\n",
              "      let quickchartButtonEl =\n",
              "        document.querySelector('#df-6d620c89-aed9-4615-8f2f-9ee0f02f1d96 button');\n",
              "      quickchartButtonEl.style.display =\n",
              "        google.colab.kernel.accessAllowed ? 'block' : 'none';\n",
              "    })();\n",
              "  </script>\n",
              "</div>\n",
              "\n",
              "  <div id=\"id_a4608e4e-fd9b-4a0d-b7c6-39218094d371\">\n",
              "    <style>\n",
              "      .colab-df-generate {\n",
              "        background-color: #E8F0FE;\n",
              "        border: none;\n",
              "        border-radius: 50%;\n",
              "        cursor: pointer;\n",
              "        display: none;\n",
              "        fill: #1967D2;\n",
              "        height: 32px;\n",
              "        padding: 0 0 0 0;\n",
              "        width: 32px;\n",
              "      }\n",
              "\n",
              "      .colab-df-generate:hover {\n",
              "        background-color: #E2EBFA;\n",
              "        box-shadow: 0px 1px 2px rgba(60, 64, 67, 0.3), 0px 1px 3px 1px rgba(60, 64, 67, 0.15);\n",
              "        fill: #174EA6;\n",
              "      }\n",
              "\n",
              "      [theme=dark] .colab-df-generate {\n",
              "        background-color: #3B4455;\n",
              "        fill: #D2E3FC;\n",
              "      }\n",
              "\n",
              "      [theme=dark] .colab-df-generate:hover {\n",
              "        background-color: #434B5C;\n",
              "        box-shadow: 0px 1px 3px 1px rgba(0, 0, 0, 0.15);\n",
              "        filter: drop-shadow(0px 1px 2px rgba(0, 0, 0, 0.3));\n",
              "        fill: #FFFFFF;\n",
              "      }\n",
              "    </style>\n",
              "    <button class=\"colab-df-generate\" onclick=\"generateWithVariable('df_features')\"\n",
              "            title=\"Generate code using this dataframe.\"\n",
              "            style=\"display:none;\">\n",
              "\n",
              "  <svg xmlns=\"http://www.w3.org/2000/svg\" height=\"24px\"viewBox=\"0 0 24 24\"\n",
              "       width=\"24px\">\n",
              "    <path d=\"M7,19H8.4L18.45,9,17,7.55,7,17.6ZM5,21V16.75L18.45,3.32a2,2,0,0,1,2.83,0l1.4,1.43a1.91,1.91,0,0,1,.58,1.4,1.91,1.91,0,0,1-.58,1.4L9.25,21ZM18.45,9,17,7.55Zm-12,3A5.31,5.31,0,0,0,4.9,8.1,5.31,5.31,0,0,0,1,6.5,5.31,5.31,0,0,0,4.9,4.9,5.31,5.31,0,0,0,6.5,1,5.31,5.31,0,0,0,8.1,4.9,5.31,5.31,0,0,0,12,6.5,5.46,5.46,0,0,0,6.5,12Z\"/>\n",
              "  </svg>\n",
              "    </button>\n",
              "    <script>\n",
              "      (() => {\n",
              "      const buttonEl =\n",
              "        document.querySelector('#id_a4608e4e-fd9b-4a0d-b7c6-39218094d371 button.colab-df-generate');\n",
              "      buttonEl.style.display =\n",
              "        google.colab.kernel.accessAllowed ? 'block' : 'none';\n",
              "\n",
              "      buttonEl.onclick = () => {\n",
              "        google.colab.notebook.generateWithVariable('df_features');\n",
              "      }\n",
              "      })();\n",
              "    </script>\n",
              "  </div>\n",
              "\n",
              "    </div>\n",
              "  </div>\n"
            ],
            "application/vnd.google.colaboratory.intrinsic+json": {
              "type": "dataframe",
              "variable_name": "df_features",
              "summary": "{\n  \"name\": \"df_features\",\n  \"rows\": 4760,\n  \"fields\": [\n    {\n      \"column\": \"Movie_Genre\",\n      \"properties\": {\n        \"dtype\": \"category\",\n        \"num_unique_values\": 1164,\n        \"samples\": [\n          \"Family Animation Adventure\",\n          \"Adventure Science Fiction Action\",\n          \"Action Crime Drama Romance Thriller\"\n        ],\n        \"semantic_type\": \"\",\n        \"description\": \"\"\n      }\n    },\n    {\n      \"column\": \"Movie_Keywords\",\n      \"properties\": {\n        \"dtype\": \"string\",\n        \"num_unique_values\": 4203,\n        \"samples\": [\n          \"canada nazis sequel spin off ancient evil\",\n          \"sex professor wedding woman director columbia university\",\n          \"prophecy sea beach gold small town\"\n        ],\n        \"semantic_type\": \"\",\n        \"description\": \"\"\n      }\n    },\n    {\n      \"column\": \"Movie_Tagline\",\n      \"properties\": {\n        \"dtype\": \"string\",\n        \"num_unique_values\": 3928,\n        \"samples\": [\n          \"The messenger must be silenced.\",\n          \"It's not the house that's haunted.\",\n          \"The final hunt begins.\"\n        ],\n        \"semantic_type\": \"\",\n        \"description\": \"\"\n      }\n    },\n    {\n      \"column\": \"Movie_Cast\",\n      \"properties\": {\n        \"dtype\": \"string\",\n        \"num_unique_values\": 4715,\n        \"samples\": [\n          \"Robin Tunney Fairuza Balk Neve Campbell Rachel True Skeet Ulrich\",\n          \"Peter Sellers Christopher Plummer Herbert Lom Catherine Schell Peter Arne\",\n          \"John Wayne Laraine Day Cedric Hardwicke Judith Anderson Anthony Quinn\"\n        ],\n        \"semantic_type\": \"\",\n        \"description\": \"\"\n      }\n    },\n    {\n      \"column\": \"Movie_Director\",\n      \"properties\": {\n        \"dtype\": \"category\",\n        \"num_unique_values\": 2332,\n        \"samples\": [\n          \"Rob McKittrick\",\n          \"Terron R. Parsons\",\n          \"Cyrus Nowrasteh\"\n        ],\n        \"semantic_type\": \"\",\n        \"description\": \"\"\n      }\n    }\n  ]\n}"
            }
          },
          "metadata": {},
          "execution_count": 12
        }
      ]
    },
    {
      "cell_type": "code",
      "source": [
        "x = df_features['Movie_Genre'] + ' ' + df_features['Movie_Keywords'] + ' ' + df_features['Movie_Tagline'] + ' ' + df_features['Movie_Cast'] + ' ' + df_features['Movie_Director']"
      ],
      "metadata": {
        "id": "bWavTbBtQd2S"
      },
      "execution_count": 13,
      "outputs": []
    },
    {
      "cell_type": "code",
      "source": [
        "x"
      ],
      "metadata": {
        "colab": {
          "base_uri": "https://localhost:8080/",
          "height": 458
        },
        "id": "ah5LZNCLRvV5",
        "outputId": "c3f83f31-2f99-4168-82d5-136bc40618ad"
      },
      "execution_count": 20,
      "outputs": [
        {
          "output_type": "execute_result",
          "data": {
            "text/plain": [
              "0       Crime Comedy hotel new year's eve witch bet ho...\n",
              "1       Adventure Action Science Fiction android galax...\n",
              "2       Animation Family father son relationship harbo...\n",
              "3       Comedy Drama Romance vietnam veteran hippie me...\n",
              "4       Drama male nudity female nudity adultery midli...\n",
              "                              ...                        \n",
              "4755    Horror  The hot spot where Satan's waitin'. Li...\n",
              "4756    Comedy Family Drama  It’s better to stand out ...\n",
              "4757    Thriller Drama christian film sex trafficking ...\n",
              "4758                                           Family    \n",
              "4759    Documentary music actors legendary perfomer cl...\n",
              "Length: 4760, dtype: object"
            ],
            "text/html": [
              "<div>\n",
              "<style scoped>\n",
              "    .dataframe tbody tr th:only-of-type {\n",
              "        vertical-align: middle;\n",
              "    }\n",
              "\n",
              "    .dataframe tbody tr th {\n",
              "        vertical-align: top;\n",
              "    }\n",
              "\n",
              "    .dataframe thead th {\n",
              "        text-align: right;\n",
              "    }\n",
              "</style>\n",
              "<table border=\"1\" class=\"dataframe\">\n",
              "  <thead>\n",
              "    <tr style=\"text-align: right;\">\n",
              "      <th></th>\n",
              "      <th>0</th>\n",
              "    </tr>\n",
              "  </thead>\n",
              "  <tbody>\n",
              "    <tr>\n",
              "      <th>0</th>\n",
              "      <td>Crime Comedy hotel new year's eve witch bet ho...</td>\n",
              "    </tr>\n",
              "    <tr>\n",
              "      <th>1</th>\n",
              "      <td>Adventure Action Science Fiction android galax...</td>\n",
              "    </tr>\n",
              "    <tr>\n",
              "      <th>2</th>\n",
              "      <td>Animation Family father son relationship harbo...</td>\n",
              "    </tr>\n",
              "    <tr>\n",
              "      <th>3</th>\n",
              "      <td>Comedy Drama Romance vietnam veteran hippie me...</td>\n",
              "    </tr>\n",
              "    <tr>\n",
              "      <th>4</th>\n",
              "      <td>Drama male nudity female nudity adultery midli...</td>\n",
              "    </tr>\n",
              "    <tr>\n",
              "      <th>...</th>\n",
              "      <td>...</td>\n",
              "    </tr>\n",
              "    <tr>\n",
              "      <th>4755</th>\n",
              "      <td>Horror  The hot spot where Satan's waitin'. Li...</td>\n",
              "    </tr>\n",
              "    <tr>\n",
              "      <th>4756</th>\n",
              "      <td>Comedy Family Drama  It’s better to stand out ...</td>\n",
              "    </tr>\n",
              "    <tr>\n",
              "      <th>4757</th>\n",
              "      <td>Thriller Drama christian film sex trafficking ...</td>\n",
              "    </tr>\n",
              "    <tr>\n",
              "      <th>4758</th>\n",
              "      <td>Family</td>\n",
              "    </tr>\n",
              "    <tr>\n",
              "      <th>4759</th>\n",
              "      <td>Documentary music actors legendary perfomer cl...</td>\n",
              "    </tr>\n",
              "  </tbody>\n",
              "</table>\n",
              "<p>4760 rows × 1 columns</p>\n",
              "</div><br><label><b>dtype:</b> object</label>"
            ]
          },
          "metadata": {},
          "execution_count": 20
        }
      ]
    },
    {
      "cell_type": "code",
      "source": [
        "x.shape"
      ],
      "metadata": {
        "colab": {
          "base_uri": "https://localhost:8080/"
        },
        "id": "FkLcoIuWQjUu",
        "outputId": "e596f382-5e1b-44a7-c016-2a035456f572"
      },
      "execution_count": 21,
      "outputs": [
        {
          "output_type": "execute_result",
          "data": {
            "text/plain": [
              "(4760,)"
            ]
          },
          "metadata": {},
          "execution_count": 21
        }
      ]
    },
    {
      "cell_type": "markdown",
      "source": [
        "# FEATURE TEXT CONVERSION TO TOKENS"
      ],
      "metadata": {
        "id": "sBcXdf6fQoYN"
      }
    },
    {
      "cell_type": "code",
      "source": [
        "from sklearn.feature_extraction.text import TfidfVectorizer"
      ],
      "metadata": {
        "id": "hjYidlZYQuYb"
      },
      "execution_count": 23,
      "outputs": []
    },
    {
      "cell_type": "code",
      "source": [
        "tfidf = TfidfVectorizer()"
      ],
      "metadata": {
        "id": "FYfcKuCBRRpU"
      },
      "execution_count": 24,
      "outputs": []
    },
    {
      "cell_type": "code",
      "source": [
        "x = tfidf.fit_transform(x)"
      ],
      "metadata": {
        "id": "WtERaj5fRUDn"
      },
      "execution_count": 28,
      "outputs": []
    },
    {
      "cell_type": "code",
      "source": [
        "x.shape"
      ],
      "metadata": {
        "colab": {
          "base_uri": "https://localhost:8080/"
        },
        "id": "hAcOSDXIRXbr",
        "outputId": "7ee48218-7f0d-49cc-d049-9f2adec24966"
      },
      "execution_count": 29,
      "outputs": [
        {
          "output_type": "execute_result",
          "data": {
            "text/plain": [
              "(4760, 17258)"
            ]
          },
          "metadata": {},
          "execution_count": 29
        }
      ]
    },
    {
      "cell_type": "code",
      "source": [
        "print(x)"
      ],
      "metadata": {
        "colab": {
          "base_uri": "https://localhost:8080/"
        },
        "id": "vQqQLkNURftJ",
        "outputId": "50bbc1a9-9097-4a78-d5f4-548d6e760f40"
      },
      "execution_count": 30,
      "outputs": [
        {
          "output_type": "stream",
          "name": "stdout",
          "text": [
            "  (0, 617)\t0.1633382144407513\n",
            "  (0, 492)\t0.1432591540388685\n",
            "  (0, 15413)\t0.1465525095337543\n",
            "  (0, 9675)\t0.14226057295252661\n",
            "  (0, 9465)\t0.1659841367820977\n",
            "  (0, 1390)\t0.16898383612799558\n",
            "  (0, 7825)\t0.09799561597509843\n",
            "  (0, 1214)\t0.13865857545144072\n",
            "  (0, 729)\t0.13415063359531618\n",
            "  (0, 13093)\t0.1432591540388685\n",
            "  (0, 15355)\t0.10477815972666779\n",
            "  (0, 9048)\t0.0866842116160778\n",
            "  (0, 11161)\t0.06250380151644369\n",
            "  (0, 16773)\t0.17654247479915475\n",
            "  (0, 5612)\t0.08603537588547631\n",
            "  (0, 16735)\t0.10690083751525419\n",
            "  (0, 7904)\t0.13348000542112332\n",
            "  (0, 15219)\t0.09800472886453934\n",
            "  (0, 11242)\t0.07277788238484746\n",
            "  (0, 3878)\t0.11998399582562203\n",
            "  (0, 5499)\t0.11454057510303811\n",
            "  (0, 7071)\t0.19822417598406614\n",
            "  (0, 7454)\t0.14745635785412262\n",
            "  (0, 1495)\t0.19712637387361423\n",
            "  (0, 9206)\t0.15186283580984414\n",
            "  :\t:\n",
            "  (4757, 5455)\t0.12491480594769522\n",
            "  (4757, 2967)\t0.16273475835631626\n",
            "  (4757, 8464)\t0.23522565554066333\n",
            "  (4757, 6938)\t0.17088173678136628\n",
            "  (4757, 8379)\t0.17480603856721913\n",
            "  (4757, 15303)\t0.07654356007668191\n",
            "  (4757, 15384)\t0.09754322497537371\n",
            "  (4757, 7649)\t0.11479421494340192\n",
            "  (4757, 10896)\t0.14546473055066447\n",
            "  (4757, 4494)\t0.05675298448720501\n",
            "  (4758, 5238)\t1.0\n",
            "  (4759, 11264)\t0.33947721804318337\n",
            "  (4759, 11708)\t0.33947721804318337\n",
            "  (4759, 205)\t0.3237911628497312\n",
            "  (4759, 8902)\t0.3040290704566037\n",
            "  (4759, 14062)\t0.3237911628497312\n",
            "  (4759, 3058)\t0.2812896191863103\n",
            "  (4759, 7130)\t0.26419662449963793\n",
            "  (4759, 10761)\t0.3126617295732147\n",
            "  (4759, 4358)\t0.18306542312175342\n",
            "  (4759, 14051)\t0.20084315377640435\n",
            "  (4759, 5690)\t0.19534291014627303\n",
            "  (4759, 15431)\t0.19628653185946862\n",
            "  (4759, 1490)\t0.21197258705292082\n",
            "  (4759, 10666)\t0.15888268987343043\n"
          ]
        }
      ]
    },
    {
      "cell_type": "markdown",
      "source": [
        "# CALCULATE SIMILARITY\n"
      ],
      "metadata": {
        "id": "yljPdvEhSVrr"
      }
    },
    {
      "cell_type": "code",
      "source": [
        "from sklearn.metrics.pairwise import cosine_similarity"
      ],
      "metadata": {
        "id": "7k3lGKz8SaX7"
      },
      "execution_count": 31,
      "outputs": []
    },
    {
      "cell_type": "code",
      "source": [
        "similarity_score = cosine_similarity(x)"
      ],
      "metadata": {
        "id": "vqLaWoHxSn_v"
      },
      "execution_count": 32,
      "outputs": []
    },
    {
      "cell_type": "code",
      "source": [
        "similarity_score"
      ],
      "metadata": {
        "colab": {
          "base_uri": "https://localhost:8080/"
        },
        "id": "1z0jN6ZPSsGB",
        "outputId": "58377830-fe91-4d44-c854-e65b4384bcd6"
      },
      "execution_count": 33,
      "outputs": [
        {
          "output_type": "execute_result",
          "data": {
            "text/plain": [
              "array([[1.        , 0.01351235, 0.03570468, ..., 0.        , 0.        ,\n",
              "        0.        ],\n",
              "       [0.01351235, 1.        , 0.00806674, ..., 0.        , 0.        ,\n",
              "        0.        ],\n",
              "       [0.03570468, 0.00806674, 1.        , ..., 0.        , 0.08014876,\n",
              "        0.        ],\n",
              "       ...,\n",
              "       [0.        , 0.        , 0.        , ..., 1.        , 0.        ,\n",
              "        0.        ],\n",
              "       [0.        , 0.        , 0.08014876, ..., 0.        , 1.        ,\n",
              "        0.        ],\n",
              "       [0.        , 0.        , 0.        , ..., 0.        , 0.        ,\n",
              "        1.        ]])"
            ]
          },
          "metadata": {},
          "execution_count": 33
        }
      ]
    },
    {
      "cell_type": "code",
      "source": [
        "similarity_score.shape"
      ],
      "metadata": {
        "colab": {
          "base_uri": "https://localhost:8080/"
        },
        "id": "4Umy71tCSyaC",
        "outputId": "c840be56-803b-491c-dab7-7ab44b68a1e1"
      },
      "execution_count": 34,
      "outputs": [
        {
          "output_type": "execute_result",
          "data": {
            "text/plain": [
              "(4760, 4760)"
            ]
          },
          "metadata": {},
          "execution_count": 34
        }
      ]
    },
    {
      "cell_type": "markdown",
      "source": [
        "# GET INPUT FORM USER ABOUT MOVIE NAME AND VALIDATE FOR CLOSEST SPELLING"
      ],
      "metadata": {
        "id": "tw7qUBtnTIkP"
      }
    },
    {
      "cell_type": "code",
      "source": [
        "favourite_movie_name = input('Enter your favourite movie name: ')"
      ],
      "metadata": {
        "colab": {
          "base_uri": "https://localhost:8080/"
        },
        "id": "KLWnoaZjTQ2e",
        "outputId": "703c7347-f584-45a0-d327-a23764877375"
      },
      "execution_count": 35,
      "outputs": [
        {
          "name": "stdout",
          "output_type": "stream",
          "text": [
            "Enter your favourite movie name: saw\n"
          ]
        }
      ]
    },
    {
      "cell_type": "code",
      "source": [
        "movies_title_list = df['Movie_Title'].tolist()"
      ],
      "metadata": {
        "id": "fEq-CwKsTf4D"
      },
      "execution_count": 36,
      "outputs": []
    },
    {
      "cell_type": "code",
      "source": [
        "import difflib"
      ],
      "metadata": {
        "id": "CDTrkbyxTjgC"
      },
      "execution_count": 37,
      "outputs": []
    },
    {
      "cell_type": "code",
      "source": [
        "movie_recommendation = difflib.get_close_matches(favourite_movie_name, movies_title_list)\n",
        "print(movie_recommendation)"
      ],
      "metadata": {
        "colab": {
          "base_uri": "https://localhost:8080/"
        },
        "id": "LHZYPU-gTpym",
        "outputId": "6d9324ee-3ba8-4a5e-fcf1-b666d2fd11a9"
      },
      "execution_count": 38,
      "outputs": [
        {
          "output_type": "stream",
          "name": "stdout",
          "text": [
            "['Saw']\n"
          ]
        }
      ]
    },
    {
      "cell_type": "code",
      "source": [
        "close_match = movie_recommendation[0]\n",
        "print(close_match)"
      ],
      "metadata": {
        "colab": {
          "base_uri": "https://localhost:8080/"
        },
        "id": "WgDqRj-JTwfb",
        "outputId": "fac6875d-5b29-4cf7-9577-df90132dda3d"
      },
      "execution_count": 39,
      "outputs": [
        {
          "output_type": "stream",
          "name": "stdout",
          "text": [
            "Saw\n"
          ]
        }
      ]
    },
    {
      "cell_type": "code",
      "source": [
        "index_of_close_match_movie = df[df.Movie_Title == close_match]['Movie_ID'].values[0]\n",
        "print(index_of_close_match_movie)"
      ],
      "metadata": {
        "colab": {
          "base_uri": "https://localhost:8080/"
        },
        "id": "Auy9ejG9T3rP",
        "outputId": "f1a5749d-5f3f-477e-9836-4ac6d3622200"
      },
      "execution_count": 40,
      "outputs": [
        {
          "output_type": "stream",
          "name": "stdout",
          "text": [
            "82\n"
          ]
        }
      ]
    },
    {
      "cell_type": "code",
      "source": [
        "#list of similar movies\n",
        "recommendation_score = list(enumerate(similarity_score[index_of_close_match_movie]))\n",
        "print(recommendation_score)"
      ],
      "metadata": {
        "colab": {
          "base_uri": "https://localhost:8080/"
        },
        "id": "BObaRsxKUBai",
        "outputId": "0b7a8388-bdec-45ec-e270-975f18bc91b8"
      },
      "execution_count": 41,
      "outputs": [
        {
          "output_type": "stream",
          "name": "stdout",
          "text": [
            "[(0, 0.04974276816812963), (1, 0.0), (2, 0.015387330714336527), (3, 0.05096327702173866), (4, 0.002338493389646906), (5, 0.00222293122607462), (6, 0.0), (7, 0.022965040921521483), (8, 0.06512918967471579), (9, 0.017154608088139043), (10, 0.019110752367708015), (11, 0.009602480876888435), (12, 0.009902379015732952), (13, 0.007215267141737444), (14, 0.03266948730316483), (15, 0.012633806065603092), (16, 0.06948533331376533), (17, 0.0), (18, 0.008891692660028691), (19, 0.021495994536169065), (20, 0.010199971035349288), (21, 0.0023701187509057925), (22, 0.08297960923957727), (23, 0.011899125583108088), (24, 0.01306324865395732), (25, 0.01965851320310852), (26, 0.0021685689248754593), (27, 0.0), (28, 0.010222110574246736), (29, 0.019763527568739038), (30, 0.0), (31, 0.002084400709045345), (32, 0.055912867854111), (33, 0.00819489788035211), (34, 0.010147349380381716), (35, 0.03804688196806073), (36, 0.0), (37, 0.18234695811184984), (38, 0.011505770835443166), (39, 0.0429775009084177), (40, 0.01625670153819502), (41, 0.0024661636655897525), (42, 0.0030802564226105667), (43, 0.01257229793492619), (44, 0.029010472996001645), (45, 0.016706895846460106), (46, 0.007976990268832971), (47, 0.007617909391234862), (48, 0.010217370764020435), (49, 0.002918920901351341), (50, 0.058702744277428213), (51, 0.012013677809651437), (52, 0.002119138755026693), (53, 0.01098628323824009), (54, 0.0), (55, 0.0), (56, 0.026058310653636493), (57, 0.04347471904844719), (58, 0.005916859205201498), (59, 0.0031026244031702385), (60, 0.045766146323441795), (61, 0.0021881487024896866), (62, 0.10195035314241438), (63, 0.01773165879891401), (64, 0.020191599613000683), (65, 0.006997724355100656), (66, 0.0022120135248853605), (67, 0.04001803185839743), (68, 0.010342212237133715), (69, 0.01194230192399205), (70, 0.0), (71, 0.019417705867617655), (72, 0.006843693049291823), (73, 0.009130925630734695), (74, 0.06581626828973006), (75, 0.023707669985133017), (76, 0.0), (77, 0.0), (78, 0.03607871659540986), (79, 0.02068904050002241), (80, 0.016431438630308527), (81, 0.007466044654822779), (82, 1.0000000000000002), (83, 0.018784961195768928), (84, 0.0069092508979107185), (85, 0.022029497374051535), (86, 0.02501264991452338), (87, 0.026928061528068526), (88, 0.027056589964681958), (89, 0.0), (90, 0.007368641348262239), (91, 0.025213044874624852), (92, 0.010048787289672479), (93, 0.007217322282171742), (94, 0.02338820620613609), (95, 0.007751358208168578), (96, 0.02716557791843824), (97, 0.03323333660006072), (98, 0.03798452061468776), (99, 0.0), (100, 0.028920895399622847), (101, 0.015648322952503336), (102, 0.015941929382375784), (103, 0.004527971997877955), (104, 0.030145103146556742), (105, 0.03523426072169648), (106, 0.03318617680176949), (107, 0.02829161468287868), (108, 0.07591481892578444), (109, 0.038583171883882675), (110, 0.021405639130273026), (111, 0.0020588539411905736), (112, 0.008927359525167638), (113, 0.05192090919941388), (114, 0.013823389615400389), (115, 0.005345475999773161), (116, 0.010776892890267233), (117, 0.025289183673093723), (118, 0.0), (119, 0.027284463556072773), (120, 0.0022857684059492036), (121, 0.009925057537212548), (122, 0.02688368952163018), (123, 0.018389589218897245), (124, 0.0358772754225475), (125, 0.032304816384124475), (126, 0.0020911289407136375), (127, 0.002158028785704147), (128, 0.008359541789678177), (129, 0.010076446045629944), (130, 0.04841833283434294), (131, 0.04613568313567935), (132, 0.016804028289324174), (133, 0.018311873296292077), (134, 0.0030762720018354854), (135, 0.014101032025021932), (136, 0.026395720856095428), (137, 0.019085276121926516), (138, 0.006775547922616587), (139, 0.003378724663043392), (140, 0.0020761067765062485), (141, 0.003307678283657058), (142, 0.03453279906376276), (143, 0.0), (144, 0.033087357401406406), (145, 0.03728596724854537), (146, 0.0032483073507334074), (147, 0.025520714342968247), (148, 0.006403598297471894), (149, 0.0018302204205347871), (150, 0.025071071479211414), (151, 0.0191672309612296), (152, 0.006852801226920724), (153, 0.011833072776820575), (154, 0.010136442893006472), (155, 0.033629362571414446), (156, 0.03214186044054503), (157, 0.004978858135714385), (158, 0.01794107863834406), (159, 0.02176576553036532), (160, 0.0), (161, 0.02533812420425958), (162, 0.0398043445096791), (163, 0.018448838622920738), (164, 0.03623532530116723), (165, 0.014116228463612445), (166, 0.03154298037590049), (167, 0.0021411116399936937), (168, 0.014569083334146063), (169, 0.020501551929038204), (170, 0.037245777706225114), (171, 0.006698357096660771), (172, 0.0022233644702160955), (173, 0.041273870050153046), (174, 0.03211134019962089), (175, 0.027314515667052376), (176, 0.0022773778441078267), (177, 0.02181842933128384), (178, 0.012011897663985634), (179, 0.01723720181978393), (180, 0.0), (181, 0.00852538589261109), (182, 0.04699453417022588), (183, 0.027053239164983665), (184, 0.008165582595290434), (185, 0.028639243504943103), (186, 0.014996720297028686), (187, 0.019080394912927484), (188, 0.0029917440359668707), (189, 0.007307384696019137), (190, 0.0018913364199606173), (191, 0.012592110107094743), (192, 0.029935018509502483), (193, 0.05216960472948921), (194, 0.04709221117686431), (195, 0.010325370963034812), (196, 0.009070395485037025), (197, 0.03781088481039151), (198, 0.002248736181868583), (199, 0.03472257276794613), (200, 0.0019583689939901903), (201, 0.007362355647044105), (202, 0.036648182078606546), (203, 0.03670451452976871), (204, 0.005461557365437809), (205, 0.0031887524881557983), (206, 0.010344469406436099), (207, 0.03240428478056223), (208, 0.031317137924754435), (209, 0.02094175595029093), (210, 0.002388654401861564), (211, 0.025606494869334525), (212, 0.050098381657246574), (213, 0.0020627937559529025), (214, 0.021804980145808988), (215, 0.012068439486514492), (216, 0.009613574311422093), (217, 0.0029351693440025483), (218, 0.00202341301344414), (219, 0.0030639668619167385), (220, 0.014920771004810679), (221, 0.022690375331521823), (222, 0.04079345516219897), (223, 0.006795136802515759), (224, 0.0016957168679355196), (225, 0.02562545285959734), (226, 0.0022160329333596345), (227, 0.01220319498330263), (228, 0.06685760073059965), (229, 0.010067698332480866), (230, 0.051575240607365354), (231, 0.03372788767508211), (232, 0.029866596849495903), (233, 0.0), (234, 0.006073242637847828), (235, 0.0025015932563606023), (236, 0.0020818399585009213), (237, 0.019650476934350746), (238, 0.00533192441763237), (239, 0.007484901274686632), (240, 0.006531589099147642), (241, 0.016078315204714838), (242, 0.02553964780345432), (243, 0.019579326627438803), (244, 0.0), (245, 0.0030889143239511757), (246, 0.036023374420436266), (247, 0.0021914030478147935), (248, 0.010621049536352683), (249, 0.02050948426461277), (250, 0.19812028537819673), (251, 0.03796315329669022), (252, 0.07102288531054712), (253, 0.005715600054326217), (254, 0.0024428577190332267), (255, 0.002320872316607727), (256, 0.0016557943933514251), (257, 0.0), (258, 0.018681541510467338), (259, 0.01403236016889846), (260, 0.006693107770581811), (261, 0.006808253048155238), (262, 0.010244492283837949), (263, 0.033747859422057776), (264, 0.010081844128626598), (265, 0.025123627800006324), (266, 0.026827737775840483), (267, 0.0018782177959191884), (268, 0.001976754595230274), (269, 0.12911327831723296), (270, 0.0023179310002588776), (271, 0.017549631377373642), (272, 0.0256038676771487), (273, 0.021695645540156155), (274, 0.002544801887679034), (275, 0.009075952122513893), (276, 0.002089759091635815), (277, 0.022497582918968136), (278, 0.004502460425898032), (279, 0.03676417988080219), (280, 0.020699490958059383), (281, 0.002502018705780624), (282, 0.013493855653348527), (283, 0.028321058920647787), (284, 0.00672972106391828), (285, 0.025717546396677147), (286, 0.056464658004265755), (287, 0.03271628182503196), (288, 0.021735428851857704), (289, 0.0), (290, 0.0), (291, 0.006432134069216202), (292, 0.020135612766977368), (293, 0.022060105025487227), (294, 0.012452196562596851), (295, 0.0), (296, 0.025302786958869145), (297, 0.014931033790083158), (298, 0.007371375599865927), (299, 0.007055446344818056), (300, 0.03446997718508141), (301, 0.07145742365578135), (302, 0.015212624025550939), (303, 0.008176947997226706), (304, 0.0), (305, 0.007049736574513903), (306, 0.01300326241073111), (307, 0.012847873981626113), (308, 0.002478379018165883), (309, 0.02943877829187106), (310, 0.021805598394738127), (311, 0.002826532350872192), (312, 0.0030322389805814633), (313, 0.051356086789704304), (314, 0.006316715090596175), (315, 0.0), (316, 0.0), (317, 0.07020819595692923), (318, 0.015769544612786682), (319, 0.014031326949776018), (320, 0.0), (321, 0.01114338279476655), (322, 0.011305322809633546), (323, 0.0), (324, 0.03221400397229369), (325, 0.013635846214888017), (326, 0.013983773407982725), (327, 0.016629126370878905), (328, 0.07629295747307155), (329, 0.1344736617925729), (330, 0.050529333189579605), (331, 0.005981811576198494), (332, 0.017192929776745573), (333, 0.007633981268991923), (334, 0.018053470793454835), (335, 0.006523691213764756), (336, 0.26818408564519874), (337, 0.006404690773053592), (338, 0.01562360260878465), (339, 0.0029141713049098687), (340, 0.020431728698755956), (341, 0.04457143770602476), (342, 0.02260831866960788), (343, 0.05704748630913682), (344, 0.013756187855222275), (345, 0.009757792539054629), (346, 0.02361460506083463), (347, 0.01799369335130127), (348, 0.009179408171440891), (349, 0.012698285784400784), (350, 0.015034677570528858), (351, 0.03189317444877586), (352, 0.006413592401044409), (353, 0.021078056325381785), (354, 0.016964140982477408), (355, 0.018442905823533556), (356, 0.02857370211155471), (357, 0.05565841278429999), (358, 0.03985499056613883), (359, 0.012015267333069174), (360, 0.0), (361, 0.05980669520774839), (362, 0.003324844956622295), (363, 0.027720909366159497), (364, 0.0019067260673184647), (365, 0.0541796544438341), (366, 0.03147349692877692), (367, 0.010103587111251349), (368, 0.021130033093738593), (369, 0.0200407183852329), (370, 0.0022127466882607), (371, 0.018495700047137385), (372, 0.015214925957008444), (373, 0.01082162696887618), (374, 0.02484127707481533), (375, 0.0), (376, 0.0), (377, 0.04069295909000041), (378, 0.002225828903374311), (379, 0.0), (380, 0.008106636864826306), (381, 0.02028928245402895), (382, 0.0), (383, 0.010332923865001934), (384, 0.0), (385, 0.021579458553004784), (386, 0.011954774577809545), (387, 0.008745458222109323), (388, 0.008753818435844336), (389, 0.0), (390, 0.007252613743383381), (391, 0.0038568200191291396), (392, 0.0106946038297112), (393, 0.002666788329526053), (394, 0.006439764792725944), (395, 0.002377904503471095), (396, 0.02961045652313976), (397, 0.006889787297336063), (398, 0.003032342674992488), (399, 0.057980877236014645), (400, 0.012972513110509426), (401, 0.04012174387859801), (402, 0.01669767660778258), (403, 0.023571782133991005), (404, 0.0029224170822219862), (405, 0.0032283657804533738), (406, 0.03948474140640147), (407, 0.07840587632707778), (408, 0.008767115691407035), (409, 0.017170813080322762), (410, 0.008626983906909247), (411, 0.006477012863970698), (412, 0.04000198118693636), (413, 0.01869083209459559), (414, 0.023772950965481935), (415, 0.0031807410371358954), (416, 0.014016591926730264), (417, 0.009351855349088625), (418, 0.02784726915963638), (419, 0.0024961785695824467), (420, 0.007587964200096314), (421, 0.00778646079769091), (422, 0.010954353399076364), (423, 0.0), (424, 0.008012284252961925), (425, 0.008005332705239161), (426, 0.0066002986466275546), (427, 0.00965703811430509), (428, 0.025108135474891845), (429, 0.002322780606398449), (430, 0.002385504156044801), (431, 0.006165200850330733), (432, 0.001885476082260076), (433, 0.07448425197329456), (434, 0.002096766225916932), (435, 0.006959322799330538), (436, 0.05344775879863707), (437, 0.053876463525513146), (438, 0.0), (439, 0.007015056181428326), (440, 0.0), (441, 0.022981483752465177), (442, 0.007688855964052246), (443, 0.02120603137405719), (444, 0.002469482273225295), (445, 0.025252504726801128), (446, 0.03612654742410158), (447, 0.002301379292542161), (448, 0.010703240265532656), (449, 0.020710480871488593), (450, 0.0024319605430566525), (451, 0.03436446629785518), (452, 0.04137174785941026), (453, 0.0016947601163376526), (454, 0.024878061614703437), (455, 0.00157271702665547), (456, 0.018478896560299794), (457, 0.0020341762899734922), (458, 0.00247300132588489), (459, 0.0029502354823198788), (460, 0.014047569610331833), (461, 0.003566149305914998), (462, 0.0), (463, 0.07093964305622033), (464, 0.022634939584956472), (465, 0.03741193199309521), (466, 0.0021911720581690415), (467, 0.010721466874939894), (468, 0.010743345222510744), (469, 0.02964010062170517), (470, 0.031111271875015167), (471, 0.021490343089237793), (472, 0.03083978017323933), (473, 0.004729577960505069), (474, 0.0031642294897130797), (475, 0.004788388335997648), (476, 0.07130976770748614), (477, 0.020415675463114805), (478, 0.0025083268111915948), (479, 0.005221565918999322), (480, 0.0019448308961620944), (481, 0.002410282828324482), (482, 0.06545688120276845), (483, 0.009790664717622903), (484, 0.009407091862796608), (485, 0.002375138843661849), (486, 0.021249392666577407), (487, 0.0021216513482923594), (488, 0.0021437549084053634), (489, 0.0026512935561485255), (490, 0.00965646431224494), (491, 0.008249597472232226), (492, 0.006588305987853108), (493, 0.012123564550103981), (494, 0.010595211313712539), (495, 0.008201548314737808), (496, 0.046896705718003945), (497, 0.015665062324728654), (498, 0.009598278373158492), (499, 0.002411966691554602), (500, 0.013761177138932636), (501, 0.0), (502, 0.010208977822793631), (503, 0.0029293879623164634), (504, 0.012358562822229519), (505, 0.004966250862091121), (506, 0.01958253287604858), (507, 0.03838630960862214), (508, 0.024705873381834262), (509, 0.01107443698773482), (510, 0.016679669410066288), (511, 0.056119941767397874), (512, 0.008387143185158536), (513, 0.0), (514, 0.0), (515, 0.004712217770205182), (516, 0.0), (517, 0.0), (518, 0.0025982770758967437), (519, 0.026045341656131368), (520, 0.017629153407124204), (521, 0.02901046634230074), (522, 0.01108400761773116), (523, 0.026904424245862722), (524, 0.0390649114072952), (525, 0.010014084446719146), (526, 0.002787006787980264), (527, 0.059961595072542895), (528, 0.040308135065693355), (529, 0.0193893255304985), (530, 0.013892693484164489), (531, 0.0072312219075066865), (532, 0.010765913551719828), (533, 0.0024928217057032017), (534, 0.002188994537319241), (535, 0.0029713647544077054), (536, 0.012338588545575666), (537, 0.0321207135845752), (538, 0.04065777092937066), (539, 0.028800036626027065), (540, 0.01302552448909175), (541, 0.009432381430927334), (542, 0.0015541977340005795), (543, 0.0023083442410121464), (544, 0.002249118492974979), (545, 0.02382361409021762), (546, 0.011186301270276661), (547, 0.025256174573864174), (548, 0.006617272742336063), (549, 0.015084997970251108), (550, 0.0), (551, 0.049887061957831116), (552, 0.0), (553, 0.05482144676335107), (554, 0.0), (555, 0.0421026981733293), (556, 0.0), (557, 0.0), (558, 0.002043723903186007), (559, 0.0), (560, 0.007077926013088482), (561, 0.042504066649265954), (562, 0.007034901858031138), (563, 0.0019985174561498393), (564, 0.002321943061163895), (565, 0.0), (566, 0.04660427452286388), (567, 0.04442328019982026), (568, 0.04081406124623546), (569, 0.028555319454773197), (570, 0.0), (571, 0.0017088301233745035), (572, 0.0), (573, 0.01397451780633873), (574, 0.017524109050674128), (575, 0.005919832427106598), (576, 0.002498443200783718), (577, 0.009017079706222276), (578, 0.002091767768297764), (579, 0.01462766698014229), (580, 0.002315982493975168), (581, 0.0019972743184708455), (582, 0.03679131981559366), (583, 0.041441770151003476), (584, 0.0022932924932902556), (585, 0.009685287310352573), (586, 0.0031368981850246665), (587, 0.025701450821241527), (588, 0.009635741149264252), (589, 0.02132731115119297), (590, 0.03498779751190342), (591, 0.008275322589266955), (592, 0.0), (593, 0.002260592963182319), (594, 0.07903126659069114), (595, 0.0), (596, 0.00248329732127071), (597, 0.03905765363461071), (598, 0.010061533397916), (599, 0.024763689790480957), (600, 0.045879854415233734), (601, 0.0), (602, 0.0075133114740619155), (603, 0.007505539606546556), (604, 0.00896857998186445), (605, 0.02780101424240059), (606, 0.011151148894774737), (607, 0.0017078294401044632), (608, 0.0020090470978338716), (609, 0.11951612736746703), (610, 0.017829928830957072), (611, 0.017258820854540363), (612, 0.013900889419381035), (613, 0.006955500358323591), (614, 0.010639324586081151), (615, 0.03557062188943137), (616, 0.045986043812070235), (617, 0.0018712316006403349), (618, 0.0360644891470014), (619, 0.010825978159816476), (620, 0.03935891280875631), (621, 0.0), (622, 0.0023550462413866003), (623, 0.002353925465036294), (624, 0.0020272252157696475), (625, 0.0), (626, 0.0018782450753832749), (627, 0.003001103967270985), (628, 0.009831914851995107), (629, 0.012514251148570984), (630, 0.014032394720541823), (631, 0.02133877844357211), (632, 0.002721672318506354), (633, 0.0), (634, 0.0), (635, 0.036169942155265145), (636, 0.011531848789079382), (637, 0.019627663736666533), (638, 0.002042712216912382), (639, 0.015142924466441575), (640, 0.01181490314520957), (641, 0.027269523879452837), (642, 0.016642976680435607), (643, 0.02011094378144523), (644, 0.008808878861887741), (645, 0.0018101746942240683), (646, 0.002131345828487696), (647, 0.03200512918030937), (648, 0.052642237117839816), (649, 0.011575241356903725), (650, 0.0), (651, 0.038979689465537926), (652, 0.002266972306991461), (653, 0.02034714945124908), (654, 0.01537947699413456), (655, 0.026763197785639993), (656, 0.0), (657, 0.030962546340977466), (658, 0.05791084177422105), (659, 0.0441417126914), (660, 0.07404628125477139), (661, 0.006619713957382349), (662, 0.00291975415068683), (663, 0.0), (664, 0.026070820951187276), (665, 0.051851060467691744), (666, 0.00794064623110409), (667, 0.003166053111381464), (668, 0.005582735572772685), (669, 0.026992671105428943), (670, 0.002731383530977948), (671, 0.014964455941075315), (672, 0.022565707988041726), (673, 0.00241860334539763), (674, 0.0), (675, 0.01011245544569232), (676, 0.021013638731603494), (677, 0.007733448629647524), (678, 0.02806088653684436), (679, 0.05382906467273348), (680, 0.009861593724151612), (681, 0.007989118413977876), (682, 0.0), (683, 0.01897535502250678), (684, 0.03818032796395701), (685, 0.014497860618709094), (686, 0.0), (687, 0.011170067445704559), (688, 0.0024551918974252793), (689, 0.05331239338740337), (690, 0.009367319734089687), (691, 0.024910779738188667), (692, 0.04635682035955131), (693, 0.011113611428010399), (694, 0.026231379698725233), (695, 0.0), (696, 0.0022308667245303526), (697, 0.035259824231549663), (698, 0.01950986253841628), (699, 0.012691765762574216), (700, 0.017838233662240757), (701, 0.01035114602250139), (702, 0.03703709219412731), (703, 0.01430491816091286), (704, 0.007630132134899528), (705, 0.06514131143277978), (706, 0.12040517211306964), (707, 0.035160639370640304), (708, 0.022250686284986554), (709, 0.002521661168458734), (710, 0.038674069513421644), (711, 0.025332232037447718), (712, 0.011276144367879114), (713, 0.024924419236868296), (714, 0.029014941340926574), (715, 0.0521763434465717), (716, 0.0023241324366735047), (717, 0.00967010915190898), (718, 0.014888738919961496), (719, 0.04415381096297161), (720, 0.002896281447835055), (721, 0.011173414532782394), (722, 0.008332097860613875), (723, 0.017921192565089467), (724, 0.0), (725, 0.0060028904023067845), (726, 0.0311198433819337), (727, 0.016043429618370412), (728, 0.0023904646426339176), (729, 0.0024714653324076313), (730, 0.0031007584304703754), (731, 0.043178607755333116), (732, 0.012227460876439568), (733, 0.020648560564282756), (734, 0.0208655760599699), (735, 0.007138485819926204), (736, 0.010135494260943434), (737, 0.04058025052070223), (738, 0.011626412646451688), (739, 0.0025290407388194854), (740, 0.00926448217170716), (741, 0.03350730838791559), (742, 0.0368155073901032), (743, 0.0022774887059481253), (744, 0.008575465411451516), (745, 0.002784278483626314), (746, 0.0), (747, 0.007867386085805983), (748, 0.04515603621973267), (749, 0.03750529180714715), (750, 0.0022579493481954117), (751, 0.01272694607843659), (752, 0.026202297102378137), (753, 0.0), (754, 0.011299296736064916), (755, 0.005080462478474901), (756, 0.03532313724340366), (757, 0.05304795289900808), (758, 0.031788559196618965), (759, 0.004759701306053523), (760, 0.014011242711626171), (761, 0.002216665931944779), (762, 0.032135686935696885), (763, 0.032264885892711336), (764, 0.015392445035556998), (765, 0.03147878656134247), (766, 0.07481297956325705), (767, 0.008796327718487998), (768, 0.031637207680728585), (769, 0.018233298091316477), (770, 0.0027814439819593027), (771, 0.00324433576797095), (772, 0.05563330259970304), (773, 0.009739550107233928), (774, 0.011831313553272878), (775, 0.034929459582015834), (776, 0.06139905391503392), (777, 0.012979014384593021), (778, 0.02527544290244632), (779, 0.013368436645792398), (780, 0.01629274039224046), (781, 0.010602913363948814), (782, 0.019914923481963723), (783, 0.002334727962262388), (784, 0.0031224314235797864), (785, 0.02801755087770959), (786, 0.0025222115719694778), (787, 0.04739115315952674), (788, 0.05015685813688492), (789, 0.011389475332534437), (790, 0.014143016087183704), (791, 0.020699046498045107), (792, 0.03236516219771621), (793, 0.0031274487791111446), (794, 0.05423080256827405), (795, 0.0035592918606188718), (796, 0.008965439600351415), (797, 0.0031428266195097474), (798, 0.033290245205301966), (799, 0.002160590396052133), (800, 0.01231146316101486), (801, 0.0), (802, 0.0), (803, 0.018920934053882933), (804, 0.0019934219882009026), (805, 0.00857491209193685), (806, 0.00228720663860734), (807, 0.030737462346330954), (808, 0.022196476360965032), (809, 0.02800842279999993), (810, 0.015190453808150796), (811, 0.020356229801263476), (812, 0.010855540875594536), (813, 0.018340358964377624), (814, 0.0685964307767893), (815, 0.02908144077128843), (816, 0.015682405702788338), (817, 0.028545912893550185), (818, 0.010201746236844545), (819, 0.0), (820, 0.008893441909262226), (821, 0.057723543473654756), (822, 0.010591422033112363), (823, 0.002554663684276117), (824, 0.009617009660176621), (825, 0.007308327972095527), (826, 0.002363703777642489), (827, 0.0), (828, 0.00209365686140637), (829, 0.025431964282740197), (830, 0.01025095956201743), (831, 0.0015646395036322885), (832, 0.026447100503909464), (833, 0.019356777331533452), (834, 0.02051467139448001), (835, 0.019555816348917027), (836, 0.0026547806389055103), (837, 0.0023148844921028703), (838, 0.029850023490484913), (839, 0.003402326366150149), (840, 0.023411328785057802), (841, 0.0033066179021433934), (842, 0.003682191778201291), (843, 0.03939367035941493), (844, 0.017152431479666736), (845, 0.0023202996684805), (846, 0.02022214544556583), (847, 0.027252277444214552), (848, 0.0022351805341103204), (849, 0.07204289379540252), (850, 0.06750454289247816), (851, 0.004579688754396809), (852, 0.022370564987127105), (853, 0.05038322768701203), (854, 0.008849643762894599), (855, 0.0), (856, 0.028121410070669955), (857, 0.0024474596161142594), (858, 0.008840176404249306), (859, 0.04371135857158403), (860, 0.0025679345903856614), (861, 0.0019085434244130737), (862, 0.024393869138202903), (863, 0.04726753073542431), (864, 0.028585256208024747), (865, 0.011088246446643336), (866, 0.0669520055008451), (867, 0.04335455274173), (868, 0.0020577824554643374), (869, 0.0030875738066310342), (870, 0.02029340467493461), (871, 0.011732370026708204), (872, 0.005596595145285795), (873, 0.0032247339921703663), (874, 0.023982961797501305), (875, 0.00827044992373154), (876, 0.002529756800357026), (877, 0.0), (878, 0.015875671736695025), (879, 0.00545401681577625), (880, 0.0021845106767187277), (881, 0.029036330957494152), (882, 0.0062552030787172645), (883, 0.020525051563678853), (884, 0.005438973470575405), (885, 0.011018464182850926), (886, 0.004901037859734794), (887, 0.0024098972663928603), (888, 0.0024563697821624337), (889, 0.024064302989481673), (890, 0.02176274734684337), (891, 0.007433190947622617), (892, 0.018553004039732326), (893, 0.039401687398021336), (894, 0.0091858128270919), (895, 0.0511762825094327), (896, 0.0024211860367727924), (897, 0.02091158996309345), (898, 0.015426497739812558), (899, 0.08647839554801404), (900, 0.03618430900773824), (901, 0.020661259361156138), (902, 0.0), (903, 0.011963753659741366), (904, 0.011851539279447357), (905, 0.01606518400244596), (906, 0.03369668002786341), (907, 0.06899887476695521), (908, 0.010285355109471326), (909, 0.05002388145273258), (910, 0.002028828934193792), (911, 0.015470307564759216), (912, 0.032294796024241304), (913, 0.007485142437647602), (914, 0.00933004125610274), (915, 0.006790237791446241), (916, 0.019967074311928977), (917, 0.0019838265490309728), (918, 0.007302663586607683), (919, 0.007171127561166286), (920, 0.0027645161114934814), (921, 0.021312102463175504), (922, 0.012810901288814243), (923, 0.01229118235898997), (924, 0.055935879847063365), (925, 0.0060110234460195346), (926, 0.02243065471712487), (927, 0.0), (928, 0.015227491887084665), (929, 0.011779529633303979), (930, 0.017332337426263108), (931, 0.010061036287821344), (932, 0.0), (933, 0.005338966980177203), (934, 0.05049868589193265), (935, 0.02175202033371761), (936, 0.020046566183597164), (937, 0.026064833272007648), (938, 0.03808608272006965), (939, 0.004930872450724247), (940, 0.01169360446243004), (941, 0.0048962969913218185), (942, 0.0018018075940167948), (943, 0.027093713042052273), (944, 0.01006107532238116), (945, 0.010194462394933514), (946, 0.002996727593463066), (947, 0.0029896842709973346), (948, 0.024263560200029843), (949, 0.07459337149766194), (950, 0.010751374728683594), (951, 0.004413194422443559), (952, 0.0489053708453628), (953, 0.015513718763799072), (954, 0.0), (955, 0.0035506629240232373), (956, 0.0032993593564078485), (957, 0.058920664776475756), (958, 0.02165717679813045), (959, 0.002152736659055356), (960, 0.0), (961, 0.0031157065485511023), (962, 0.02637021251404254), (963, 0.034018447757799275), (964, 0.02513346991437656), (965, 0.0030048167581369), (966, 0.038552981548624146), (967, 0.05274206019966857), (968, 0.05485822607475715), (969, 0.005335861538198671), (970, 0.025457615121836006), (971, 0.03738638751124375), (972, 0.01592910297945074), (973, 0.09502089216984416), (974, 0.006605862791259309), (975, 0.02948620126031061), (976, 0.0), (977, 0.0), (978, 0.012097795221411998), (979, 0.03171337555623051), (980, 0.002290641472795286), (981, 0.0377789151530833), (982, 0.018837736961359854), (983, 0.011995692023278035), (984, 0.028359982566455954), (985, 0.031979947873303216), (986, 0.0022146449542436177), (987, 0.002298815942668334), (988, 0.009210398823166883), (989, 0.0021799339232320466), (990, 0.0033080812587968325), (991, 0.002379074753181562), (992, 0.008061524486408988), (993, 0.009341120493928896), (994, 0.0022523331495174813), (995, 0.023688747096784757), (996, 0.0042493724910554675), (997, 0.0), (998, 0.005926332757259983), (999, 0.0059214824669407565), (1000, 0.008340433270171164), (1001, 0.015563275003120389), (1002, 0.052900983821567465), (1003, 0.0), (1004, 0.020946590645784587), (1005, 0.021256759776911785), (1006, 0.06578440332374323), (1007, 0.005503508627958965), (1008, 0.0025804331026177754), (1009, 0.026168620381048682), (1010, 0.00851540823896134), (1011, 0.007969328182417535), (1012, 0.011373303233330787), (1013, 0.0031819512230089175), (1014, 0.03160779233628684), (1015, 0.01480625826636887), (1016, 0.0), (1017, 0.053785335041451665), (1018, 0.01616512208830922), (1019, 0.015100881113790644), (1020, 0.013140912450844902), (1021, 0.01664312893578962), (1022, 0.038488028798860936), (1023, 0.015396558674289107), (1024, 0.0031364719932075857), (1025, 0.016620053256501066), (1026, 0.020234666801326223), (1027, 0.01032621203260433), (1028, 0.013706509352091858), (1029, 0.01620506227369102), (1030, 0.0021453940151580026), (1031, 0.007502719729305198), (1032, 0.01961860850364156), (1033, 0.06571341016924383), (1034, 0.02671349979502278), (1035, 0.009008413803815946), (1036, 0.0020903344782092718), (1037, 0.011142147593042283), (1038, 0.01955906519860843), (1039, 0.012830531601788346), (1040, 0.01127042897640845), (1041, 0.01532809648214136), (1042, 0.0018510488426518863), (1043, 0.03205848311225244), (1044, 0.010461077838869154), (1045, 0.0), (1046, 0.013283265276221782), (1047, 0.010489684489631855), (1048, 0.021566561920324204), (1049, 0.006198897788799231), (1050, 0.0018881522652307353), (1051, 0.11682311384304206), (1052, 0.008584669490327617), (1053, 0.03280956578785434), (1054, 0.006663290790017761), (1055, 0.0), (1056, 0.007677651254636655), (1057, 0.008085526626265174), (1058, 0.0), (1059, 0.00917903239115642), (1060, 0.0262490759739578), (1061, 0.002711068311195491), (1062, 0.0025179613292969144), (1063, 0.0), (1064, 0.0026851674040460523), (1065, 0.032382927239449785), (1066, 0.01299827304895084), (1067, 0.0), (1068, 0.041814654370563566), (1069, 0.03895494559730305), (1070, 0.002573842476456421), (1071, 0.032487024233950425), (1072, 0.0021951780647530062), (1073, 0.0028629905279451023), (1074, 0.014536749159874343), (1075, 0.05812459964592508), (1076, 0.008273046243601735), (1077, 0.0212023083490218), (1078, 0.004353570988623076), (1079, 0.004807394950080717), (1080, 0.0019952186234083675), (1081, 0.007896131504699654), (1082, 0.008429098191550582), (1083, 0.011235756887911567), (1084, 0.021523197621934997), (1085, 0.003069988947024202), (1086, 0.0), (1087, 0.028273439256422755), (1088, 0.004468878595992728), (1089, 0.021031363430443456), (1090, 0.08148940798299108), (1091, 0.008249568181693145), (1092, 0.0), (1093, 0.0027217832165814795), (1094, 0.023188256337077166), (1095, 0.06733296211135009), (1096, 0.03765020531066647), (1097, 0.0), (1098, 0.022710437039195137), (1099, 0.015367199510809799), (1100, 0.012551903752444998), (1101, 0.015318508154202272), (1102, 0.020615076429139463), (1103, 0.08257926227344962), (1104, 0.023290096365315576), (1105, 0.036209287401021965), (1106, 0.025688931494792868), (1107, 0.05265642474608798), (1108, 0.0030726485475550524), (1109, 0.03684575941333343), (1110, 0.01802138969733181), (1111, 0.026154130194579094), (1112, 0.01271210121805093), (1113, 0.01653141031683288), (1114, 0.04424381946730478), (1115, 0.002419721492195626), (1116, 0.02368510182395739), (1117, 0.005022052715792774), (1118, 0.03137160557070843), (1119, 0.0023663084418002103), (1120, 0.006016209200338552), (1121, 0.0027767220857737606), (1122, 0.028354302151182002), (1123, 0.0021063854790294816), (1124, 0.026862957095210263), (1125, 0.010134927110094036), (1126, 0.012060453579901768), (1127, 0.0), (1128, 0.011249671478294766), (1129, 0.03708883188322193), (1130, 0.009865548597340363), (1131, 0.0022237332988535785), (1132, 0.008812658969655732), (1133, 0.019088177752524294), (1134, 0.006792350733689524), (1135, 0.0), (1136, 0.02438090088633112), (1137, 0.0), (1138, 0.002241979501397923), (1139, 0.0028324701886476814), (1140, 0.0342647824311548), (1141, 0.031523895206844524), (1142, 0.003154808701740364), (1143, 0.0), (1144, 0.023388835300753155), (1145, 0.0030647706327976117), (1146, 0.017923853480570608), (1147, 0.0), (1148, 0.002502390846688341), (1149, 0.03493168198559249), (1150, 0.007611147226199453), (1151, 0.0), (1152, 0.022403062883132836), (1153, 0.002111411789184661), (1154, 0.0), (1155, 0.01998628011447984), (1156, 0.0024721109920729004), (1157, 0.09480138438297248), (1158, 0.0), (1159, 0.0159510573054903), (1160, 0.0021036703801963043), (1161, 0.0020006688556414563), (1162, 0.042289604911226866), (1163, 0.009734544330688662), (1164, 0.04336519938101661), (1165, 0.025030990398041915), (1166, 0.023536759822825885), (1167, 0.0), (1168, 0.030927404557364), (1169, 0.029634676350844588), (1170, 0.012298125858809121), (1171, 0.006392104339256563), (1172, 0.029921621594024866), (1173, 0.026320167028100645), (1174, 0.002265761995359305), (1175, 0.022500067860333105), (1176, 0.019086794629624156), (1177, 0.002087795655321004), (1178, 0.023660795267382743), (1179, 0.009271635830463972), (1180, 0.026780551800444672), (1181, 0.008080331980606667), (1182, 0.03009615129350359), (1183, 0.0020572021812515287), (1184, 0.011125065278807205), (1185, 0.0074344485900657694), (1186, 0.008142188946821581), (1187, 0.00614209365877782), (1188, 0.002326271307828248), (1189, 0.0), (1190, 0.0028630479006922383), (1191, 0.050506629439176456), (1192, 0.029137620504866013), (1193, 0.022598771356189627), (1194, 0.018827247208163846), (1195, 0.04340531387630125), (1196, 0.010477952855725326), (1197, 0.016928555811883045), (1198, 0.021347800745370113), (1199, 0.012729327825886828), (1200, 0.01795063422619852), (1201, 0.025487418491338287), (1202, 0.01643971493245261), (1203, 0.00490840575659315), (1204, 0.0256906202245175), (1205, 0.003204183399432208), (1206, 0.027423958565044225), (1207, 0.0), (1208, 0.02739342571939737), (1209, 0.0018469291524542807), (1210, 0.026765887946374724), (1211, 0.013159434392999674), (1212, 0.010001947788580668), (1213, 0.025202174977905306), (1214, 0.043087642806962194), (1215, 0.025641229752102316), (1216, 0.045947978033200394), (1217, 0.004538528111098564), (1218, 0.06387007435619232), (1219, 0.008748320431460548), (1220, 0.04102539204718822), (1221, 0.005866676670693882), (1222, 0.02937506593745235), (1223, 0.029479730356586714), (1224, 0.005457073354247307), (1225, 0.0023381084687295575), (1226, 0.011365242696289309), (1227, 0.0524521053789988), (1228, 0.0), (1229, 0.01952109447417763), (1230, 0.0), (1231, 0.002885682300153011), (1232, 0.05308584281426931), (1233, 0.0), (1234, 0.005535820980008931), (1235, 0.002924675444668959), (1236, 0.0), (1237, 0.002011898846407745), (1238, 0.02140192371653482), (1239, 0.03825011270857924), (1240, 0.0), (1241, 0.03081373325796498), (1242, 0.0027548581772051358), (1243, 0.013921055229902085), (1244, 0.010878825430191513), (1245, 0.002148374036058855), (1246, 0.010876464133563173), (1247, 0.022571830349779984), (1248, 0.0021294295897292667), (1249, 0.05131273566379187), (1250, 0.018893861052310414), (1251, 0.023874926787774822), (1252, 0.002195864636818586), (1253, 0.030537414872489115), (1254, 0.07135909046661702), (1255, 0.045521798501737196), (1256, 0.018943195360326397), (1257, 0.038717862973348394), (1258, 0.009115823310000456), (1259, 0.01934919122615873), (1260, 0.0033591972162939966), (1261, 0.01337108062099147), (1262, 0.018488006304018225), (1263, 0.0), (1264, 0.0026697437915903966), (1265, 0.008189846531085811), (1266, 0.02659995062402564), (1267, 0.03876828422042764), (1268, 0.0024108324278065566), (1269, 0.0), (1270, 0.05337750493914299), (1271, 0.007906144527303014), (1272, 0.0), (1273, 0.05305478210882615), (1274, 0.013857769100658722), (1275, 0.011252065193956471), (1276, 0.016224955025387046), (1277, 0.01560432833753807), (1278, 0.0437007615042805), (1279, 0.015607353478148508), (1280, 0.0), (1281, 0.0), (1282, 0.010763476047859245), (1283, 0.0075475864163109165), (1284, 0.005088949724263336), (1285, 0.0), (1286, 0.0051250119314537506), (1287, 0.0), (1288, 0.01905649801224719), (1289, 0.002474080712016246), (1290, 0.04728319969464704), (1291, 0.05805987034706219), (1292, 0.019729463458834896), (1293, 0.02496460715600535), (1294, 0.011085780282933418), (1295, 0.0), (1296, 0.024932615585358836), (1297, 0.013090342584777754), (1298, 0.005198776638625495), (1299, 0.01107144713160154), (1300, 0.002546362076134033), (1301, 0.01760342611829654), (1302, 0.014698599266239254), (1303, 0.022490313544581326), (1304, 0.01934733543582645), (1305, 0.04047470610442956), (1306, 0.02027332626750601), (1307, 0.024085517541973536), (1308, 0.021803594279241608), (1309, 0.005154630475388495), (1310, 0.023442010310680755), (1311, 0.0033783530234955243), (1312, 0.03444519579419893), (1313, 0.005151449162045017), (1314, 0.015384454723340284), (1315, 0.016031946037403006), (1316, 0.041394737896019065), (1317, 0.013537719672271312), (1318, 0.004662310710504227), (1319, 0.10828613324371975), (1320, 0.002363955611110794), (1321, 0.011587194940425137), (1322, 0.010248921279516892), (1323, 0.0025873690361247195), (1324, 0.002364178374279507), (1325, 0.018737194754904412), (1326, 0.0024583064228905593), (1327, 0.013781042666128927), (1328, 0.0), (1329, 0.040280807583590435), (1330, 0.01913583743576739), (1331, 0.002760186083686312), (1332, 0.018648570108287958), (1333, 0.014809815045395098), (1334, 0.02399013645070441), (1335, 0.02812779886552927), (1336, 0.04719595438941005), (1337, 0.01409344873305227), (1338, 0.03512855923929982), (1339, 0.010365297740257877), (1340, 0.004439622532753989), (1341, 0.03644633968190733), (1342, 0.0), (1343, 0.008388616858102254), (1344, 0.016223392905451176), (1345, 0.041078378327244446), (1346, 0.0070968987267199515), (1347, 0.006815951695927325), (1348, 0.028524375985784854), (1349, 0.010448212899786957), (1350, 0.0021589054598745135), (1351, 0.08533876177745184), (1352, 0.007876771557847786), (1353, 0.002799999530966226), (1354, 0.013019265389553666), (1355, 0.0022696420223107076), (1356, 0.001875881224252302), (1357, 0.0020424588821898715), (1358, 0.0), (1359, 0.0211901200565783), (1360, 0.0253266842161622), (1361, 0.04021202831587037), (1362, 0.009076233594497947), (1363, 0.0028579471419417695), (1364, 0.01275551786019177), (1365, 0.03811717987562296), (1366, 0.009741039088219182), (1367, 0.0043656394118544144), (1368, 0.009713992136179433), (1369, 0.039315718470838236), (1370, 0.004507599716010219), (1371, 0.012878844133751337), (1372, 0.004903936963160139), (1373, 0.00975385040900681), (1374, 0.018550817006442566), (1375, 0.01697061651605304), (1376, 0.054670749054923244), (1377, 0.0167414181949284), (1378, 0.0022144544399665014), (1379, 0.012561211277960808), (1380, 0.007442107383874096), (1381, 0.008097842878303627), (1382, 0.026744729706119928), (1383, 0.0025018641296192102), (1384, 0.020625558784144515), (1385, 0.013714395427364783), (1386, 0.008725489632868828), (1387, 0.011819356992043667), (1388, 0.0030245145536662086), (1389, 0.0031710981680491347), (1390, 0.010831781333129417), (1391, 0.0), (1392, 0.021230129643429015), (1393, 0.0), (1394, 0.031020673892232172), (1395, 0.0056801550946985165), (1396, 0.02676566122624012), (1397, 0.00452076444762003), (1398, 0.0025656692270436417), (1399, 0.0), (1400, 0.002336264450293538), (1401, 0.03538328767763243), (1402, 0.009723684680641841), (1403, 0.10572135634345789), (1404, 0.008765379695948055), (1405, 0.002647471319237739), (1406, 0.0), (1407, 0.012200726250299915), (1408, 0.0050914487194166635), (1409, 0.05960354728653221), (1410, 0.005283607499728656), (1411, 0.02061994056412549), (1412, 0.03528844244051269), (1413, 0.03587165772536635), (1414, 0.019336985390235747), (1415, 0.0018158633492978192), (1416, 0.002117960596360673), (1417, 0.010691939688669858), (1418, 0.028498040991650576), (1419, 0.0), (1420, 0.03551682650147568), (1421, 0.00893941331941939), (1422, 0.03295883889326953), (1423, 0.01682147844271733), (1424, 0.0034380444479704605), (1425, 0.02958710788720662), (1426, 0.007476205992660713), (1427, 0.0042853803191004805), (1428, 0.0), (1429, 0.0026644268786191914), (1430, 0.02465517201176176), (1431, 0.007225830811060985), (1432, 0.010986081811574528), (1433, 0.020755490023072656), (1434, 0.0020235101052960176), (1435, 0.0), (1436, 0.0074663561563066555), (1437, 0.0034123273963481207), (1438, 0.0113082765310717), (1439, 0.0023205924679186225), (1440, 0.002250551866050047), (1441, 0.0032463443894842708), (1442, 0.011374522375109476), (1443, 0.038251029511396556), (1444, 0.002996554996023785), (1445, 0.02237601000037981), (1446, 0.02277412095242772), (1447, 0.009930481709899262), (1448, 0.03584379134082248), (1449, 0.0), (1450, 0.008403649235003384), (1451, 0.01325668921981027), (1452, 0.027577164086126434), (1453, 0.0317670627878679), (1454, 0.002434356861748539), (1455, 0.0), (1456, 0.008607018877295508), (1457, 0.002804444922320198), (1458, 0.006377759119262516), (1459, 0.013891908566382602), (1460, 0.0), (1461, 0.037767755679645396), (1462, 0.0020328701272945256), (1463, 0.06127048621241262), (1464, 0.034374211466328804), (1465, 0.04610508355323297), (1466, 0.010005203490624844), (1467, 0.06326917286529468), (1468, 0.008924141852688349), (1469, 0.003117530981571652), (1470, 0.01706026708922686), (1471, 0.029136794920924716), (1472, 0.03466082012892292), (1473, 0.04009678722104037), (1474, 0.010341270995126828), (1475, 0.02387221510170178), (1476, 0.012930770587015607), (1477, 0.0455430286234436), (1478, 0.04158650909924848), (1479, 0.005733718480651554), (1480, 0.007003996705360915), (1481, 0.002145110219607152), (1482, 0.00880026489083042), (1483, 0.0021991461258372607), (1484, 0.002344440119116675), (1485, 0.0027169203095827065), (1486, 0.02373143700751875), (1487, 0.016236066900651734), (1488, 0.008259856203997147), (1489, 0.06782216633776367), (1490, 0.0028772671279608236), (1491, 0.0032817019059373795), (1492, 0.012541441125104254), (1493, 0.03721462861905247), (1494, 0.03175227471476385), (1495, 0.02848762968909773), (1496, 0.016091845256177507), (1497, 0.002529437055573748), (1498, 0.002464012503214247), (1499, 0.010916336439868831), (1500, 0.042930273257200835), (1501, 0.021521540799714998), (1502, 0.007451851286587699), (1503, 0.037530730129812), (1504, 0.0), (1505, 0.051215402719322005), (1506, 0.031816990214926004), (1507, 0.0034485111819823394), (1508, 0.0143834980314313), (1509, 0.014177905143898977), (1510, 0.0325419886610615), (1511, 0.04129200777074893), (1512, 0.0), (1513, 0.005445749958620802), (1514, 0.012676288497747988), (1515, 0.018658205002234442), (1516, 0.005383849954534581), (1517, 0.025594067268938713), (1518, 0.005630281972219891), (1519, 0.03521437873907838), (1520, 0.010807791860414934), (1521, 0.00869537578942409), (1522, 0.014251616740640412), (1523, 0.002572721512266781), (1524, 0.009220806686960039), (1525, 0.010322715956770555), (1526, 0.030985762057058597), (1527, 0.002169066833442216), (1528, 0.035723650593580826), (1529, 0.0), (1530, 0.005778944205594393), (1531, 0.0), (1532, 0.002858502261297718), (1533, 0.005302926080298658), (1534, 0.0), (1535, 0.005933750381802678), (1536, 0.0), (1537, 0.013151976758244437), (1538, 0.05233878718343513), (1539, 0.023876337087407096), (1540, 0.0), (1541, 0.0), (1542, 0.0031178546175267105), (1543, 0.004816391870268895), (1544, 0.010124330153301936), (1545, 0.0028877396935055354), (1546, 0.006070622273448145), (1547, 0.002581348238449275), (1548, 0.008932277857124764), (1549, 0.020513686300695368), (1550, 0.019722400404345586), (1551, 0.04345699976566316), (1552, 0.0289633865311026), (1553, 0.03848961860282917), (1554, 0.0), (1555, 0.08162044539652123), (1556, 0.007057803936763253), (1557, 0.024830636394266907), (1558, 0.00206025976799282), (1559, 0.015520265494716228), (1560, 0.0033934829803379664), (1561, 0.011143944396593988), (1562, 0.010074293482862698), (1563, 0.006543358692340174), (1564, 0.0103113051254671), (1565, 0.007926144869686763), (1566, 0.008589407098748664), (1567, 0.01312779203982432), (1568, 0.023372025845580367), (1569, 0.029000737142006797), (1570, 0.0023308602878491574), (1571, 0.071408891640257), (1572, 0.029351620570223384), (1573, 0.0), (1574, 0.009357608802912306), (1575, 0.0), (1576, 0.01424512084166145), (1577, 0.017757053420104144), (1578, 0.018540312711633523), (1579, 0.019898911330057473), (1580, 0.002445643359759624), (1581, 0.00569833523069468), (1582, 0.03247304584615653), (1583, 0.02360821662044231), (1584, 0.01933316101882669), (1585, 0.006163159756014312), (1586, 0.031813039805576274), (1587, 0.010248350483368352), (1588, 0.019237833733387527), (1589, 0.0029498574090118367), (1590, 0.01617758346417391), (1591, 0.008727105877842485), (1592, 0.013149438843986228), (1593, 0.0026859244433956177), (1594, 0.021654535490429793), (1595, 0.008391717426538225), (1596, 0.003198838084643482), (1597, 0.01909213143035339), (1598, 0.0051605348978704235), (1599, 0.011738594511756713), (1600, 0.0), (1601, 0.0026730053578757056), (1602, 0.010942659560939077), (1603, 0.0), (1604, 0.0), (1605, 0.02111268659748391), (1606, 0.015570428940286787), (1607, 0.0), (1608, 0.03308540130825982), (1609, 0.00321355223209043), (1610, 0.0027881277881784336), (1611, 0.0030433027955857517), (1612, 0.06052158070276585), (1613, 0.01047227803738891), (1614, 0.0032215412329475966), (1615, 0.0035661485574087983), (1616, 0.004594088100705348), (1617, 0.009052794887137191), (1618, 0.0029159023169979415), (1619, 0.022116991434454603), (1620, 0.008670711746120923), (1621, 0.002184913684106252), (1622, 0.0), (1623, 0.0), (1624, 0.008787540608631739), (1625, 0.017427967345373333), (1626, 0.03442830229609979), (1627, 0.001894542136784924), (1628, 0.002027937481906021), (1629, 0.014138862791686118), (1630, 0.020541233103148197), (1631, 0.02713142420304583), (1632, 0.006765761755715612), (1633, 0.015748966493605427), (1634, 0.008165985278398333), (1635, 0.008416989007846265), (1636, 0.007270605417562945), (1637, 0.09793083479891268), (1638, 0.048377887031981225), (1639, 0.002549344829832358), (1640, 0.010874085663783617), (1641, 0.002055254764853277), (1642, 0.011369312556698007), (1643, 0.009735240220655502), (1644, 0.014475851524854977), (1645, 0.00895819278217423), (1646, 0.04370944793465525), (1647, 0.025788978925118566), (1648, 0.03133796816138085), (1649, 0.007022706774290039), (1650, 0.033746418703535466), (1651, 0.0), (1652, 0.020493879761734744), (1653, 0.009042668027889089), (1654, 0.04235994060317023), (1655, 0.027855275869520402), (1656, 0.0059935534346689705), (1657, 0.006805636930743747), (1658, 0.035992504812805214), (1659, 0.0), (1660, 0.02180233238920382), (1661, 0.0), (1662, 0.01727719079180725), (1663, 0.0049249105131501025), (1664, 0.010873418526969696), (1665, 0.002075175524794428), (1666, 0.03529241409660462), (1667, 0.002042592389529215), (1668, 0.025348084082607764), (1669, 0.041218943566575066), (1670, 0.010263795140245788), (1671, 0.002145790639901868), (1672, 0.011985605706901348), (1673, 0.002803489413352329), (1674, 0.009362308824351453), (1675, 0.021304659873247866), (1676, 0.002404463409990368), (1677, 0.004112864359036138), (1678, 0.028127524147293068), (1679, 0.01855458997812848), (1680, 0.009807479687614336), (1681, 0.007747238422352455), (1682, 0.07419693078403014), (1683, 0.01365771264517277), (1684, 0.012694554728528842), (1685, 0.014491816000767873), (1686, 0.009407899671233136), (1687, 0.00983177725763183), (1688, 0.03142926261520507), (1689, 0.017966623390909972), (1690, 0.05800262442072705), (1691, 0.013933289037565891), (1692, 0.02910276518082278), (1693, 0.03765829382266941), (1694, 0.0026737122307665946), (1695, 0.026244955493728593), (1696, 0.030339463263456712), (1697, 0.0108561653739395), (1698, 0.04090436514465774), (1699, 0.0), (1700, 0.04423280432434453), (1701, 0.0313545945747571), (1702, 0.010464266105452463), (1703, 0.002293150912555708), (1704, 0.007193218724690527), (1705, 0.0), (1706, 0.011522569476631024), (1707, 0.04462929278378156), (1708, 0.06363961147542993), (1709, 0.022668937922824654), (1710, 0.027789043219729293), (1711, 0.0027793364674968454), (1712, 0.031530585912177264), (1713, 0.03097930936729148), (1714, 0.03861162877927914), (1715, 0.023363209774135446), (1716, 0.01039950742128381), (1717, 0.025690505180095264), (1718, 0.032232819891509494), (1719, 0.03370724388328633), (1720, 0.0), (1721, 0.03135545599182175), (1722, 0.04681619849414357), (1723, 0.04222598740276589), (1724, 0.0), (1725, 0.028155981843885056), (1726, 0.010331414273049599), (1727, 0.0054354182883179615), (1728, 0.0), (1729, 0.0027427749796092257), (1730, 0.012487546593765721), (1731, 0.0032285717726739157), (1732, 0.0032185591412372877), (1733, 0.013469261757191266), (1734, 0.014551808402619801), (1735, 0.003105557418254247), (1736, 0.0023201928966949587), (1737, 0.015458937395049816), (1738, 0.02485896434478886), (1739, 0.001992817656623069), (1740, 0.0022608883430170193), (1741, 0.011687723399982817), (1742, 0.008767830127673779), (1743, 0.0655599902247022), (1744, 0.013174709153925598), (1745, 0.0), (1746, 0.026697044339007273), (1747, 0.010659496756588675), (1748, 0.024318891677106477), (1749, 0.0), (1750, 0.002691265312888231), (1751, 0.0101863117832353), (1752, 0.002489780476883947), (1753, 0.007377258967705247), (1754, 0.010742415203735103), (1755, 0.013429900915457161), (1756, 0.02185368446969811), (1757, 0.019764196694225637), (1758, 0.03309828825102326), (1759, 0.03204725427519492), (1760, 0.06936519254349717), (1761, 0.01173246387097822), (1762, 0.026723808189968827), (1763, 0.009778246888646789), (1764, 0.024106330338703966), (1765, 0.02459755917497552), (1766, 0.023798580137454863), (1767, 0.002892825808379582), (1768, 0.009533866689515103), (1769, 0.003043135501198275), (1770, 0.012344953364043705), (1771, 0.01353971499142793), (1772, 0.006123449491380909), (1773, 0.026729687886892645), (1774, 0.018762958161730625), (1775, 0.0), (1776, 0.009510351644999854), (1777, 0.026444093838667818), (1778, 0.0332954183362861), (1779, 0.04298541560423461), (1780, 0.018241876290153225), (1781, 0.04358793806739185), (1782, 0.008481117908704426), (1783, 0.0028334722075098327), (1784, 0.009142204992109985), (1785, 0.002849524549113712), (1786, 0.028309634706566326), (1787, 0.046682775595867115), (1788, 0.07255792828976798), (1789, 0.048671079346605396), (1790, 0.01727608768333014), (1791, 0.02458152978812362), (1792, 0.006143502666631167), (1793, 0.019451775354544464), (1794, 0.009212528063111729), (1795, 0.015418218039650839), (1796, 0.0020222015180445625), (1797, 0.009246327779040706), (1798, 0.05372963700630651), (1799, 0.02803166287582178), (1800, 0.04376369377786477), (1801, 0.02406868641205906), (1802, 0.018846620995532037), (1803, 0.015950358859089516), (1804, 0.01009854517173236), (1805, 0.002414739703267061), (1806, 0.02270380957809898), (1807, 0.020356894597079997), (1808, 0.00831625207627416), (1809, 0.04771635188060902), (1810, 0.007204240172858567), (1811, 0.012987434980632845), (1812, 0.044219862028554976), (1813, 0.012711028477078102), (1814, 0.008978933163172439), (1815, 0.0), (1816, 0.05276661033722116), (1817, 0.012665486096145642), (1818, 0.04554689205535691), (1819, 0.002064827003553693), (1820, 0.010114547207146215), (1821, 0.013393215707114742), (1822, 0.005518512273034122), (1823, 0.013057850093927835), (1824, 0.017531167209301167), (1825, 0.013500259404376795), (1826, 0.0020041493965889667), (1827, 0.004727349003630749), (1828, 0.033272913405967434), (1829, 0.018560768662384455), (1830, 0.004632109779652461), (1831, 0.011290113933596175), (1832, 0.0), (1833, 0.03715088951262639), (1834, 0.0029854066037404356), (1835, 0.0), (1836, 0.0033435824978588504), (1837, 0.011480124877951157), (1838, 0.018229552354097563), (1839, 0.002875798283732354), (1840, 0.006856110054257591), (1841, 0.02711771070233683), (1842, 0.021101014884754885), (1843, 0.0871904897779976), (1844, 0.011579206418416534), (1845, 0.03312018127997746), (1846, 0.0), (1847, 0.003109172472729122), (1848, 0.013739392754432995), (1849, 0.014266911723096336), (1850, 0.01518341716676095), (1851, 0.01278902080920023), (1852, 0.018280314499562526), (1853, 0.002345962537007921), (1854, 0.0021160839311774133), (1855, 0.0028166881188719764), (1856, 0.0032025321929599246), (1857, 0.006946933772940905), (1858, 0.018807700547213764), (1859, 0.015386585938092898), (1860, 0.03301379096051779), (1861, 0.032181121930018576), (1862, 0.002482206735492989), (1863, 0.02356177744169097), (1864, 0.02837192704388197), (1865, 0.009796641321608502), (1866, 0.0024200690410537164), (1867, 0.050996386511502116), (1868, 0.005640622266797666), (1869, 0.0020066709677047574), (1870, 0.02321418925464922), (1871, 0.03783325206939015), (1872, 0.002241648229501277), (1873, 0.027308857027294974), (1874, 0.002395221611966975), (1875, 0.01905814684278729), (1876, 0.013775854919997834), (1877, 0.011722216836591096), (1878, 0.022438576640129375), (1879, 0.003046571910017945), (1880, 0.002936053573588203), (1881, 0.037662001211244016), (1882, 0.002171536644992659), (1883, 0.008695247660360152), (1884, 0.0020715408653404215), (1885, 0.01142609613137713), (1886, 0.007370319053502966), (1887, 0.010508424068522397), (1888, 0.02188793242418737), (1889, 0.0030573152848386723), (1890, 0.03159083710392783), (1891, 0.002197106318586214), (1892, 0.0020125352257540446), (1893, 0.016132823658228195), (1894, 0.0), (1895, 0.009484234853687493), (1896, 0.017831187555449695), (1897, 0.02482854079127768), (1898, 0.00281583358338768), (1899, 0.012946823082659134), (1900, 0.0028992728932031937), (1901, 0.0), (1902, 0.08469712605112578), (1903, 0.06296117258717349), (1904, 0.0), (1905, 0.028761367110995553), (1906, 0.01058257679194988), (1907, 0.013222845557136289), (1908, 0.018635934449162197), (1909, 0.01225708909047881), (1910, 0.013211912737829196), (1911, 0.024606018196746387), (1912, 0.0028831472196238083), (1913, 0.047445462595018244), (1914, 0.03453417985296887), (1915, 0.016285631362192732), (1916, 0.002335564616853868), (1917, 0.003091215606300831), (1918, 0.010300553896093877), (1919, 0.05531753443799563), (1920, 0.012664586668287054), (1921, 0.008715128698684035), (1922, 0.009844130269841211), (1923, 0.034880812113571844), (1924, 0.02136191383646892), (1925, 0.01848038522242861), (1926, 0.003199901095380306), (1927, 0.0), (1928, 0.01138224283290606), (1929, 0.004983721162395166), (1930, 0.007617526037961767), (1931, 0.013377061850180129), (1932, 0.0), (1933, 0.01571108969012429), (1934, 0.10483503988157394), (1935, 0.060754359293718245), (1936, 0.03014841831697293), (1937, 0.0), (1938, 0.00251075664006739), (1939, 0.00399647508635852), (1940, 0.0), (1941, 0.03433815353304395), (1942, 0.02329773094743387), (1943, 0.004550252145827033), (1944, 0.0025011198960150868), (1945, 0.019160579809329132), (1946, 0.029450377684822008), (1947, 0.0060687078297172676), (1948, 0.043573291454659456), (1949, 0.0031219822316145224), (1950, 0.016952009647784663), (1951, 0.056264030837701734), (1952, 0.007598733957033151), (1953, 0.007321655774801983), (1954, 0.00463087180627808), (1955, 0.011078356945731945), (1956, 0.003045989564968523), (1957, 0.05054537636215201), (1958, 0.0), (1959, 0.00239745406407847), (1960, 0.002453909143712836), (1961, 0.018134710165682605), (1962, 0.0), (1963, 0.002436452071728001), (1964, 0.024592957469694345), (1965, 0.0031454663963778914), (1966, 0.00833953996341756), (1967, 0.002153107381258999), (1968, 0.010889820260962458), (1969, 0.02671715269508572), (1970, 0.0), (1971, 0.007859711352293137), (1972, 0.0), (1973, 0.009471103630170539), (1974, 0.012691752056547764), (1975, 0.0), (1976, 0.0), (1977, 0.02600122682668665), (1978, 0.002684008524321286), (1979, 0.0), (1980, 0.02772595620126429), (1981, 0.014700771119030863), (1982, 0.030009767448404414), (1983, 0.03556366040418225), (1984, 0.00925357571179826), (1985, 0.028585376101039284), (1986, 0.021311224434531224), (1987, 0.015719187704296582), (1988, 0.02844639423342511), (1989, 0.007832462142478657), (1990, 0.0064289510362296135), (1991, 0.0), (1992, 0.021571486459144557), (1993, 0.010384511860672714), (1994, 0.029388430728547743), (1995, 0.0023831875346509374), (1996, 0.0), (1997, 0.017741449991650178), (1998, 0.0), (1999, 0.003401681182459084), (2000, 0.05244055612475188), (2001, 0.0025931030056188025), (2002, 0.0031518415868679417), (2003, 0.03168462178626741), (2004, 0.026217414441884735), (2005, 0.036045091104912184), (2006, 0.0025681818250198776), (2007, 0.01779310276562992), (2008, 0.013320419441092798), (2009, 0.03488579803403112), (2010, 0.0017502731764459285), (2011, 0.012454865066225191), (2012, 0.021448480685895156), (2013, 0.020391915084784166), (2014, 0.03274769642791749), (2015, 0.0283496702662235), (2016, 0.0209175112452744), (2017, 0.014403197744680761), (2018, 0.002456275129898352), (2019, 0.028449074824078248), (2020, 0.015812297971228687), (2021, 0.003259646889983062), (2022, 0.02892355888551309), (2023, 0.008732263477444633), (2024, 0.009338211746145748), (2025, 0.002484148321035899), (2026, 0.003009008188779819), (2027, 0.046641224467239076), (2028, 0.006120550291171806), (2029, 0.009053102885286542), (2030, 0.0189356851623154), (2031, 0.02790298413581228), (2032, 0.015326876460149925), (2033, 0.05981368920141275), (2034, 0.0018259802144741082), (2035, 0.0018775787300047801), (2036, 0.023965487483596427), (2037, 0.05989866350459347), (2038, 0.0), (2039, 0.0018643088018480748), (2040, 0.032588547897623485), (2041, 0.003054040413029236), (2042, 0.030735723845457905), (2043, 0.02189729524294306), (2044, 0.008004137357664481), (2045, 0.021091603886853355), (2046, 0.06402773066745508), (2047, 0.014429810382761695), (2048, 0.011752623269597653), (2049, 0.018420282853482874), (2050, 0.013242370323705678), (2051, 0.036472625516043376), (2052, 0.05369439755604835), (2053, 0.017353241982439233), (2054, 0.0), (2055, 0.036993601545082445), (2056, 0.0628722761566752), (2057, 0.0), (2058, 0.025814022304451067), (2059, 0.0026263520084474226), (2060, 0.02670654634302301), (2061, 0.01653934294694685), (2062, 0.02478235186074369), (2063, 0.002730110591879047), (2064, 0.016224687049285594), (2065, 0.014670763871545228), (2066, 0.0), (2067, 0.010863778408176409), (2068, 0.053428071151248764), (2069, 0.002177588146804564), (2070, 0.03584499457975068), (2071, 0.02294135825247759), (2072, 0.009608691084362648), (2073, 0.009938638102894876), (2074, 0.03764817306757766), (2075, 0.01496175447515789), (2076, 0.032440437038240066), (2077, 0.003672585126854874), (2078, 0.005612150853402219), (2079, 0.01149321214426625), (2080, 0.0021413795663607297), (2081, 0.021589153326803383), (2082, 0.0032669364296974888), (2083, 0.002319429326466566), (2084, 0.008132296575180406), (2085, 0.0), (2086, 0.010722967208154487), (2087, 0.039166817555047195), (2088, 0.011314028863518653), (2089, 0.0026042938524112164), (2090, 0.003142910287654768), (2091, 0.0022471849979202306), (2092, 0.0030935197717502135), (2093, 0.0027851065009044155), (2094, 0.017541923760524616), (2095, 0.026348068511986185), (2096, 0.031441240833383156), (2097, 0.010611824840380034), (2098, 0.012396465453970324), (2099, 0.004886256635949276), (2100, 0.0), (2101, 0.053899724715175915), (2102, 0.05172031831937553), (2103, 0.037525978655656184), (2104, 0.0023669780531276347), (2105, 0.012159091139728946), (2106, 0.006226161071634188), (2107, 0.010046149274637924), (2108, 0.00580239216154967), (2109, 0.04116016843240331), (2110, 0.017447633415811136), (2111, 0.03719799045744955), (2112, 0.022906352340165477), (2113, 0.011340660983378553), (2114, 0.08910131479253584), (2115, 0.0), (2116, 0.02796508507046393), (2117, 0.0021259398055341423), (2118, 0.020879606069524128), (2119, 0.010650360475458977), (2120, 0.0), (2121, 0.05292113420327557), (2122, 0.01394180020485888), (2123, 0.0022940506574408884), (2124, 0.012425089003300816), (2125, 0.0027541886439254744), (2126, 0.0095630450089061), (2127, 0.007784560782884544), (2128, 0.009900449821612898), (2129, 0.002053671453904553), (2130, 0.0), (2131, 0.011800810289339492), (2132, 0.009539441564041825), (2133, 0.0020963329714314177), (2134, 0.010907712323161657), (2135, 0.0), (2136, 0.008166761851838969), (2137, 0.0074094037646744385), (2138, 0.003413098950186217), (2139, 0.006622854566791161), (2140, 0.0028633821667479963), (2141, 0.0021184092055930924), (2142, 0.0025848817581027995), (2143, 0.03092740370765951), (2144, 0.02247330644168277), (2145, 0.038275974125783756), (2146, 0.004467595221296049), (2147, 0.010686502880933896), (2148, 0.016350212049827256), (2149, 0.02606330949286563), (2150, 0.002916189097467342), (2151, 0.026964704458049264), (2152, 0.0), (2153, 0.003027861832746991), (2154, 0.03778410483841443), (2155, 0.013936606806282371), (2156, 0.028872991089584098), (2157, 0.01873387840812169), (2158, 0.00351115236841406), (2159, 0.012591238312969537), (2160, 0.026917328861925913), (2161, 0.044356453513320036), (2162, 0.0023800765519534617), (2163, 0.001977604100103374), (2164, 0.003370647175077762), (2165, 0.0), (2166, 0.004923393824413945), (2167, 0.025298110840115195), (2168, 0.009025194944558938), (2169, 0.009332862418898608), (2170, 0.018868357391262323), (2171, 0.00994129315292026), (2172, 0.008789130857103), (2173, 0.0021824574243349145), (2174, 0.022083974272317418), (2175, 0.03015021873133015), (2176, 0.002446656228479722), (2177, 0.06136309116601164), (2178, 0.01419330597570146), (2179, 0.002828975464867281), (2180, 0.008066349233063687), (2181, 0.00855322925254101), (2182, 0.030331693241252213), (2183, 0.026035381982284014), (2184, 0.0), (2185, 0.020671545522100612), (2186, 0.045476338478230606), (2187, 0.03547751933036803), (2188, 0.01190120151943563), (2189, 0.0031111503299794726), (2190, 0.002389004947112908), (2191, 0.0019876591501536774), (2192, 0.005264615313247376), (2193, 0.03264192723527165), (2194, 0.0031232781982275244), (2195, 0.01842644233227763), (2196, 0.0023437683611106184), (2197, 0.009710282466222462), (2198, 0.018572735582796155), (2199, 0.016614017685117343), (2200, 0.0030773465078085594), (2201, 0.004863083858379429), (2202, 0.05816133141384383), (2203, 0.028342815639155583), (2204, 0.008534697132936938), (2205, 0.010746558083394581), (2206, 0.0), (2207, 0.01836789951528243), (2208, 0.0031917199566505396), (2209, 0.01860154284467164), (2210, 0.018154138840677306), (2211, 0.019913168871133397), (2212, 0.002211532092503882), (2213, 0.001976443151055094), (2214, 0.002409772828797008), (2215, 0.016073633976506053), (2216, 0.0021721290237462715), (2217, 0.003152573197984027), (2218, 0.011192882503771758), (2219, 0.0022223963247095884), (2220, 0.0), (2221, 0.04693427418660609), (2222, 0.02941691755811708), (2223, 0.005943979503351725), (2224, 0.01549518924014204), (2225, 0.0027582354943901945), (2226, 0.002167186987821583), (2227, 0.0025023200486398245), (2228, 0.0038975381120600373), (2229, 0.0024220854000033907), (2230, 0.0022761453427985667), (2231, 0.0), (2232, 0.0), (2233, 0.007743927757378358), (2234, 0.02680785264013763), (2235, 0.0), (2236, 0.04562613634262418), (2237, 0.08973900987083394), (2238, 0.0), (2239, 0.031849028680765334), (2240, 0.004587601726127576), (2241, 0.01046943319959209), (2242, 0.0049689501073247894), (2243, 0.0), (2244, 0.012626760868738653), (2245, 0.024599068078917555), (2246, 0.007043325405803984), (2247, 0.017773876693376642), (2248, 0.001992533835730562), (2249, 0.02691837717597019), (2250, 0.027624943995351387), (2251, 0.00308374359972925), (2252, 0.015206164057752783), (2253, 0.008980040846471402), (2254, 0.002378341469231527), (2255, 0.0028594470229849063), (2256, 0.00677057517818791), (2257, 0.0028534947432220016), (2258, 0.013244032789946493), (2259, 0.0073358347452573405), (2260, 0.005592337026557457), (2261, 0.0034906045921052706), (2262, 0.01680242244162044), (2263, 0.007573580952280551), (2264, 0.0046443779162891954), (2265, 0.015168381213679291), (2266, 0.0027290184941939533), (2267, 0.0), (2268, 0.008955596436883453), (2269, 0.002572311768861184), (2270, 0.011932306747510942), (2271, 0.0028499177772452044), (2272, 0.009796386703206315), (2273, 0.0), (2274, 0.0027708526326596914), (2275, 0.0), (2276, 0.02060880634331362), (2277, 0.02103782212217709), (2278, 0.007158900250016251), (2279, 0.035547285424060805), (2280, 0.002983096149794156), (2281, 0.025861831640072223), (2282, 0.003869068101988087), (2283, 0.007520026589724213), (2284, 0.02182699551035417), (2285, 0.03180484037962946), (2286, 0.012462308523300665), (2287, 0.013623539834253203), (2288, 0.0023443049720985416), (2289, 0.0022009891169149187), (2290, 0.003073018192760256), (2291, 0.023234614492533306), (2292, 0.014696825059115555), (2293, 0.0024158538899290006), (2294, 0.025932770986945155), (2295, 0.0022515742324828807), (2296, 0.01478741749724528), (2297, 0.002951752165825874), (2298, 0.0029716412486080323), (2299, 0.0035441618448989187), (2300, 0.0), (2301, 0.10833425633590318), (2302, 0.005937792303417221), (2303, 0.022413734210643653), (2304, 0.006729350224139029), (2305, 0.003444187400526729), (2306, 0.01732956696084634), (2307, 0.003088889933241355), (2308, 0.0037686754333863923), (2309, 0.03294990034337717), (2310, 0.013038320559625198), (2311, 0.009470786156659042), (2312, 0.004335517122527808), (2313, 0.0022501825814602466), (2314, 0.0), (2315, 0.002775675272971621), (2316, 0.0), (2317, 0.008579949691204633), (2318, 0.02113223808509143), (2319, 0.019690209539233648), (2320, 0.02248424566103776), (2321, 0.04574300666180419), (2322, 0.028762166792297646), (2323, 0.002000074776226878), (2324, 0.005719174776745269), (2325, 0.0031262214640960704), (2326, 0.005541040478694292), (2327, 0.009386830890338076), (2328, 0.0), (2329, 0.04423052855755979), (2330, 0.007460910975725545), (2331, 0.0024708137670955686), (2332, 0.0), (2333, 0.003584823807253052), (2334, 0.009544363031176182), (2335, 0.01765829286909429), (2336, 0.0029944994661771592), (2337, 0.0), (2338, 0.01475341859347245), (2339, 0.02447458803864024), (2340, 0.024747796973749618), (2341, 0.03152430481095635), (2342, 0.0), (2343, 0.0), (2344, 0.0022209435997650653), (2345, 0.00785551285162116), (2346, 0.002519954894884171), (2347, 0.0020374092295198957), (2348, 0.012021828521094992), (2349, 0.003068716420958681), (2350, 0.0028479818501653577), (2351, 0.02300130240275657), (2352, 0.0), (2353, 0.0031004915590901964), (2354, 0.0022185464395317847), (2355, 0.0018477499687730577), (2356, 0.0024776174084773354), (2357, 0.003418707588551546), (2358, 0.0), (2359, 0.010927909508803723), (2360, 0.0026614024639335957), (2361, 0.002350869073084043), (2362, 0.010467008576781808), (2363, 0.012441954926249136), (2364, 0.023067119000517236), (2365, 0.0), (2366, 0.002670611363002796), (2367, 0.01851364428954645), (2368, 0.0035892002945229983), (2369, 0.0), (2370, 0.0023090426357068603), (2371, 0.0032621556788187756), (2372, 0.00954347260056269), (2373, 0.0025114021685735937), (2374, 0.0022461750162902708), (2375, 0.02447606600821759), (2376, 0.043407606480035124), (2377, 0.007992150438758738), (2378, 0.0026082937684041483), (2379, 0.00754461037406636), (2380, 0.0031498981819571377), (2381, 0.003357510788601398), (2382, 0.001898564246171527), (2383, 0.0), (2384, 0.003353910229311759), (2385, 0.013442787167808824), (2386, 0.0022659440447262663), (2387, 0.021917602741117873), (2388, 0.005442040125589238), (2389, 0.0026861648505776287), (2390, 0.01069035268366188), (2391, 0.005583505218253146), (2392, 0.002893827506138137), (2393, 0.002365223174131244), (2394, 0.0055084850739480044), (2395, 0.004165553616456318), (2396, 0.00527525189863327), (2397, 0.005316771908805226), (2398, 0.013539351964096138), (2399, 0.021242324614866467), (2400, 0.002506794403348669), (2401, 0.0021539832092730238), (2402, 0.00473435637913895), (2403, 0.02794252452775547), (2404, 0.01735966611250955), (2405, 0.0023051278532879014), (2406, 0.021963613097501427), (2407, 0.003063662016273631), (2408, 0.010770028432882097), (2409, 0.01835338714929331), (2410, 0.005734986157909702), (2411, 0.015637867565194672), (2412, 0.020306235162392723), (2413, 0.0), (2414, 0.007113138532900547), (2415, 0.0026893693192297737), (2416, 0.01759788710412262), (2417, 0.01603735349600277), (2418, 0.029986310983978574), (2419, 0.0023284883689896688), (2420, 0.0033731447935981124), (2421, 0.04703770751589146), (2422, 0.02770688058378533), (2423, 0.02735979772801781), (2424, 0.0027295432029488605), (2425, 0.0028724529854275843), (2426, 0.013062438816548045), (2427, 0.027720750937316713), (2428, 0.0024459173819184094), (2429, 0.0), (2430, 0.04339634109969343), (2431, 0.029458770238059578), (2432, 0.0068018194248315325), (2433, 0.0026371108522816322), (2434, 0.006249665222694285), (2435, 0.002973672789343711), (2436, 0.026561525038071816), (2437, 0.0025156497700631704), (2438, 0.0027452603045084946), (2439, 0.011898322701551625), (2440, 0.0075599519250662385), (2441, 0.004233293135445254), (2442, 0.027238633096489523), (2443, 0.034346337646423294), (2444, 0.010269723278172873), (2445, 0.028476493154333447), (2446, 0.027247108281132828), (2447, 0.00795314425448907), (2448, 0.0028944727956487573), (2449, 0.003030904715555458), (2450, 0.0027994426287841056), (2451, 0.0), (2452, 0.011570593652088443), (2453, 0.0020370078654761226), (2454, 0.0026762914789236173), (2455, 0.013386661156023135), (2456, 0.003108113052204387), (2457, 0.010271478162844377), (2458, 0.01097180567984761), (2459, 0.0271543797283253), (2460, 0.010644022522844673), (2461, 0.005068737202961431), (2462, 0.0), (2463, 0.020400059734557732), (2464, 0.0057334341785484095), (2465, 0.010164819528803139), (2466, 0.0022761453730496526), (2467, 0.005043731368921202), (2468, 0.003518543792936066), (2469, 0.01072404898315638), (2470, 0.007969868288424987), (2471, 0.0), (2472, 0.013931857167863401), (2473, 0.028093154753337984), (2474, 0.04214343794073043), (2475, 0.002383474190716264), (2476, 0.0), (2477, 0.00239458217483861), (2478, 0.014651700535116578), (2479, 0.003362748051687224), (2480, 0.01837809130925465), (2481, 0.026843863754709964), (2482, 0.02565039161530979), (2483, 0.0039714206789462575), (2484, 0.0029633937256928378), (2485, 0.05174312673503663), (2486, 0.01149497765566849), (2487, 0.021838733372136133), (2488, 0.02653183720813524), (2489, 0.0022586639289684865), (2490, 0.007534813695263366), (2491, 0.02625116063242814), (2492, 0.01946195755742959), (2493, 0.003323561112150047), (2494, 0.025622160816187227), (2495, 0.012762005538025135), (2496, 0.002072662571594765), (2497, 0.00929851891603705), (2498, 0.02132417234194759), (2499, 0.02613176613638529), (2500, 0.0042015623222077), (2501, 0.007090524688992366), (2502, 0.009527726764906623), (2503, 0.03472619461723258), (2504, 0.009829919129960445), (2505, 0.04457878408096905), (2506, 0.0), (2507, 0.013864577839839945), (2508, 0.00959667555475972), (2509, 0.031018275636244853), (2510, 0.05977378474128741), (2511, 0.010435748378311622), (2512, 0.005190226311425478), (2513, 0.05953782233434271), (2514, 0.015815199603096207), (2515, 0.003738701540676568), (2516, 0.0031907690705655907), (2517, 0.010913929202406216), (2518, 0.01136577862369909), (2519, 0.003106247368352284), (2520, 0.009361330024639436), (2521, 0.0), (2522, 0.0023621108322593918), (2523, 0.0052048433043616876), (2524, 0.027266544192459732), (2525, 0.008731788808699247), (2526, 0.016486002575739272), (2527, 0.024649488367979932), (2528, 0.010603893404439627), (2529, 0.00758863954383506), (2530, 0.0028169459271409052), (2531, 0.02065571053292493), (2532, 0.05159770273685741), (2533, 0.002229133306851812), (2534, 0.021450911245920926), (2535, 0.005794153574372857), (2536, 0.0039337932660805704), (2537, 0.007171437533865815), (2538, 0.006832081540794804), (2539, 0.0026141813237578783), (2540, 0.0092941545202019), (2541, 0.007283145825273308), (2542, 0.02597304362169462), (2543, 0.0037786084885333203), (2544, 0.0), (2545, 0.03073254327568191), (2546, 0.03021231847274714), (2547, 0.03575204751540771), (2548, 0.002782551914748204), (2549, 0.0), (2550, 0.044185203836963144), (2551, 0.0030597915059714736), (2552, 0.0450741514476469), (2553, 0.03679830070358481), (2554, 0.005273783878148012), (2555, 0.014800394552646041), (2556, 0.010013335825359744), (2557, 0.04558041693257449), (2558, 0.0022166286266209648), (2559, 0.0029135244282269077), (2560, 0.04876259746901632), (2561, 0.01331548575237744), (2562, 0.010626184759949595), (2563, 0.03903419447931096), (2564, 0.02870366174482124), (2565, 0.022523653652713208), (2566, 0.014333923146650872), (2567, 0.0), (2568, 0.025382535837408647), (2569, 0.013646181955547025), (2570, 0.006152886097024541), (2571, 0.008958995928055715), (2572, 0.012974953770909552), (2573, 0.008915480596444765), (2574, 0.0), (2575, 0.011527482215247315), (2576, 0.0), (2577, 0.0), (2578, 0.0), (2579, 0.01279907034197638), (2580, 0.0019792648748369543), (2581, 0.023306047691733306), (2582, 0.052607630904219896), (2583, 0.010906167298156678), (2584, 0.025073166349511997), (2585, 0.0024672627219441997), (2586, 0.021705972563354936), (2587, 0.04651071658897528), (2588, 0.013082286915052638), (2589, 0.0), (2590, 0.009818027380412677), (2591, 0.04855213637927783), (2592, 0.005787443437442872), (2593, 0.0020448359534163884), (2594, 0.0028206352847967783), (2595, 0.0024039045911287346), (2596, 0.0), (2597, 0.004972750050724617), (2598, 0.0020968964963713147), (2599, 0.0), (2600, 0.0037992755889537408), (2601, 0.051469496596810535), (2602, 0.03809563788635881), (2603, 0.019959841506275756), (2604, 0.021214211915656596), (2605, 0.003143579906931072), (2606, 0.0022316435913318842), (2607, 0.012277394228223971), (2608, 0.011455764702893974), (2609, 0.009890699707841415), (2610, 0.01616481906151484), (2611, 0.007955334522637572), (2612, 0.019459968547417425), (2613, 0.002611030039984533), (2614, 0.014805019772193838), (2615, 0.009352467374949), (2616, 0.05250523886301309), (2617, 0.016710892592900626), (2618, 0.0), (2619, 0.009921981306503291), (2620, 0.002873568529815408), (2621, 0.011916746028314086), (2622, 0.03664199455458347), (2623, 0.023514623851515964), (2624, 0.0024251512764685164), (2625, 0.026868487731203077), (2626, 0.0033050240686821595), (2627, 0.012279952472323101), (2628, 0.002901371608079987), (2629, 0.012961956395880492), (2630, 0.008025662395947847), (2631, 0.009561075005914774), (2632, 0.027156642212736136), (2633, 0.04427889547930934), (2634, 0.0020709077775698174), (2635, 0.003528533382924193), (2636, 0.019062506278995844), (2637, 0.010809440573967034), (2638, 0.02358047840589173), (2639, 0.002954620964685457), (2640, 0.03069485135000453), (2641, 0.0), (2642, 0.011835416843186335), (2643, 0.0028663967866599475), (2644, 0.04444284589190082), (2645, 0.011933809349319391), (2646, 0.018054940985039448), (2647, 0.009391878240051832), (2648, 0.011954989216970403), (2649, 0.0031306641727731252), (2650, 0.031008092936340232), (2651, 0.0020969164023084373), (2652, 0.0022406382158121564), (2653, 0.01612354632939412), (2654, 0.04649816884436277), (2655, 0.02477964024283276), (2656, 0.042431609241590985), (2657, 0.015448861977487726), (2658, 0.0), (2659, 0.0043377605178362465), (2660, 0.049952514768203726), (2661, 0.025530762440001017), (2662, 0.025085449678787616), (2663, 0.03094916070283322), (2664, 0.0023628401974649664), (2665, 0.023554227340713836), (2666, 0.00925520455563009), (2667, 0.004103459823471114), (2668, 0.02861477831468267), (2669, 0.004453462852019745), (2670, 0.0), (2671, 0.0022118235512097323), (2672, 0.011284608049147299), (2673, 0.03501881868683843), (2674, 0.002040193726013125), (2675, 0.010554199896902476), (2676, 0.0034531414347015307), (2677, 0.0029340804827058596), (2678, 0.03535685424484643), (2679, 0.025815110704984073), (2680, 0.024533321032734708), (2681, 0.0028951516854649056), (2682, 0.013614161849485912), (2683, 0.0), (2684, 0.004361011077457507), (2685, 0.003056165429215242), (2686, 0.007416433551405872), (2687, 0.014196813022930913), (2688, 0.040431119608546076), (2689, 0.007480366611242718), (2690, 0.032592468466839844), (2691, 0.019286018486077458), (2692, 0.011894144332662657), (2693, 0.0029110922008708075), (2694, 0.002952283345918152), (2695, 0.024975680250930166), (2696, 0.029417658120752463), (2697, 0.001814425390588273), (2698, 0.020220452452774575), (2699, 0.05283997034145133), (2700, 0.0), (2701, 0.004873809837827483), (2702, 0.015784141207982206), (2703, 0.0046617165268442035), (2704, 0.0), (2705, 0.002399806574921207), (2706, 0.022593456572908503), (2707, 0.02437837409601985), (2708, 0.027808384265888476), (2709, 0.003012711534616895), (2710, 0.0), (2711, 0.0), (2712, 0.04570976621837185), (2713, 0.05154058270308325), (2714, 0.010320605338517834), (2715, 0.016078855959571738), (2716, 0.0021348206152342173), (2717, 0.0), (2718, 0.03251422012031461), (2719, 0.016596668935371546), (2720, 0.014397515009849824), (2721, 0.047548509630728944), (2722, 0.0073388503758657336), (2723, 0.0023769716769107933), (2724, 0.014510360934907988), (2725, 0.009917072402440679), (2726, 0.03509304192207006), (2727, 0.003622015635186804), (2728, 0.004758428287581694), (2729, 0.030638603666428278), (2730, 0.021628717717195416), (2731, 0.007017241100579543), (2732, 0.032244569840626264), (2733, 0.0), (2734, 0.014823491341749765), (2735, 0.002046342132579071), (2736, 0.0), (2737, 0.01763400932682079), (2738, 0.023389356400422032), (2739, 0.010176213930032955), (2740, 0.023367387948284433), (2741, 0.004706996798621436), (2742, 0.010659427969386548), (2743, 0.0019002054819249655), (2744, 0.026211517269637864), (2745, 0.002237083138629208), (2746, 0.026823339344744828), (2747, 0.014575809343582264), (2748, 0.005684727500190952), (2749, 0.006422190068630137), (2750, 0.0), (2751, 0.034655949701672906), (2752, 0.0021198177571052908), (2753, 0.03586111538446918), (2754, 0.0031571528529210696), (2755, 0.012989599117970898), (2756, 0.024152443468380365), (2757, 0.003392269036443429), (2758, 0.004439873898171999), (2759, 0.02178521712820522), (2760, 0.001701127120996852), (2761, 0.02265335921754687), (2762, 0.038425166063206326), (2763, 0.03484457085281757), (2764, 0.007447911015280432), (2765, 0.015521844999804451), (2766, 0.04383758070864525), (2767, 0.0017291252697190823), (2768, 0.013862008026683735), (2769, 0.028615825688652084), (2770, 0.0024902321213941536), (2771, 0.008274630897594719), (2772, 0.01155166409980825), (2773, 0.0), (2774, 0.03059395185038215), (2775, 0.0030088139141088983), (2776, 0.008873744672199336), (2777, 0.019203321502810212), (2778, 0.0026799378654428136), (2779, 0.010900357056657498), (2780, 0.0), (2781, 0.0036291368067186414), (2782, 0.026314672704840687), (2783, 0.002230457754827018), (2784, 0.009477989991044725), (2785, 0.008079401925764602), (2786, 0.005598323994580259), (2787, 0.010028769654083513), (2788, 0.007184042875780833), (2789, 0.015408600663004993), (2790, 0.015342276498239233), (2791, 0.012943255141953375), (2792, 0.00982416013220402), (2793, 0.02506337567854721), (2794, 0.012002889308610636), (2795, 0.012315167965037243), (2796, 0.0059826575454647556), (2797, 0.006398695621679485), (2798, 0.02824053798199476), (2799, 0.04430718487369511), (2800, 0.0020939537730986935), (2801, 0.020192094382049636), (2802, 0.042388010677317), (2803, 0.01246498693298503), (2804, 0.0030123231179953304), (2805, 0.02321687897101209), (2806, 0.0), (2807, 0.009877057270698087), (2808, 0.02011000425333574), (2809, 0.012093413831209883), (2810, 0.003375008679124465), (2811, 0.07201063700346005), (2812, 0.022396784337076037), (2813, 0.0186902770741817), (2814, 0.05108297541406827), (2815, 0.0), (2816, 0.045813774351830386), (2817, 0.03695288293372772), (2818, 0.014098817859529994), (2819, 0.0), (2820, 0.01267587168431799), (2821, 0.0023528804153561634), (2822, 0.0025989183682768677), (2823, 0.005702272682652745), (2824, 0.0), (2825, 0.0029749045399159054), (2826, 0.009803803037914206), (2827, 0.0), (2828, 0.0), (2829, 0.009645935692914836), (2830, 0.002466647510440309), (2831, 0.030784131394214605), (2832, 0.00686062484738747), (2833, 0.002684244832326147), (2834, 0.01524030984461818), (2835, 0.0), (2836, 0.0029879913413249195), (2837, 0.0), (2838, 0.006680930993981964), (2839, 0.0), (2840, 0.010342246558468025), (2841, 0.01785628245809317), (2842, 0.006101027590879981), (2843, 0.016093121112436274), (2844, 0.041713425829866056), (2845, 0.043969155925748106), (2846, 0.04891393729091669), (2847, 0.0), (2848, 0.002705320247595319), (2849, 0.0023430923501193426), (2850, 0.0), (2851, 0.020979338422468036), (2852, 0.00672585772951861), (2853, 0.027398516826568305), (2854, 0.010298472025070605), (2855, 0.008537877293843543), (2856, 0.003093092604243203), (2857, 0.07198696415563928), (2858, 0.018090515619527098), (2859, 0.04402664644194163), (2860, 0.0), (2861, 0.0029377074613433215), (2862, 0.015218239325651474), (2863, 0.00228521351445081), (2864, 0.0), (2865, 0.010373740525323992), (2866, 0.0028022247293792942), (2867, 0.036842616834900255), (2868, 0.03026594860152029), (2869, 0.009338527347692641), (2870, 0.025348028017106533), (2871, 0.01465535555197538), (2872, 0.006017623180485638), (2873, 0.02447466791546207), (2874, 0.01999970154947462), (2875, 0.015523216946438191), (2876, 0.05665406914405481), (2877, 0.0025282032913558003), (2878, 0.08011149707583853), (2879, 0.002699153946503551), (2880, 0.0032456351620535496), (2881, 0.0025101448131053168), (2882, 0.033876598064020096), (2883, 0.002999236448563422), (2884, 0.04648098958504742), (2885, 0.0), (2886, 0.002114509079355911), (2887, 0.00224572793443988), (2888, 0.0024008138598658932), (2889, 0.0030510165344969746), (2890, 0.0024456267938495926), (2891, 0.004265612609476014), (2892, 0.04409449843735333), (2893, 0.0093433587975873), (2894, 0.002274403418992981), (2895, 0.03388225218137761), (2896, 0.003058063414734684), (2897, 0.020005414758227737), (2898, 0.008211691358807002), (2899, 0.008716921257637364), (2900, 0.009243433938610282), (2901, 0.03751102073085346), (2902, 0.001630055715074978), (2903, 0.010935904101913179), (2904, 0.01361786035107996), (2905, 0.0), (2906, 0.006212542427636657), (2907, 0.010015246338004841), (2908, 0.024801022537915142), (2909, 0.0021615550626227285), (2910, 0.017470082367889425), (2911, 0.018583015660542105), (2912, 0.005061980125917931), (2913, 0.009509611944643774), (2914, 0.005912224934508636), (2915, 0.014895280600547605), (2916, 0.0024825434449239113), (2917, 0.019831637149598756), (2918, 0.0), (2919, 0.0022895921719970954), (2920, 0.02379867821381254), (2921, 0.008431733217859571), (2922, 0.029344229778451723), (2923, 0.030059166777262853), (2924, 0.006062824120875795), (2925, 0.011088199186579), (2926, 0.005467247169394025), (2927, 0.019973310503157354), (2928, 0.003888619727245985), (2929, 0.016533096688371957), (2930, 0.011595988852243989), (2931, 0.025156720701780044), (2932, 0.0029303539255847856), (2933, 0.020182169994747864), (2934, 0.0022324843965072596), (2935, 0.01019645975904855), (2936, 0.02403543093246901), (2937, 0.003182567840638521), (2938, 0.006606055281971007), (2939, 0.0037506225692430896), (2940, 0.013129978369705798), (2941, 0.003869977192153398), (2942, 0.02538532829091425), (2943, 0.0022083712090414822), (2944, 0.08130881492297935), (2945, 0.005117292574300221), (2946, 0.0021811604695506728), (2947, 0.0), (2948, 0.003921618755160491), (2949, 0.0023681055942397526), (2950, 0.007160919438325303), (2951, 0.034165752803078125), (2952, 0.0), (2953, 0.002345942664820534), (2954, 0.02114769474086468), (2955, 0.008764262659463048), (2956, 0.0), (2957, 0.016017604139659514), (2958, 0.0), (2959, 0.0), (2960, 0.0), (2961, 0.002181581881075882), (2962, 0.01629580288045363), (2963, 0.007534491725780958), (2964, 0.03906232843948693), (2965, 0.03361400705112867), (2966, 0.03551674765126018), (2967, 0.0), (2968, 0.0032870111136689127), (2969, 0.033853238503731516), (2970, 0.005572204204655207), (2971, 0.002620250141362326), (2972, 0.004927655980327298), (2973, 0.005907151522397762), (2974, 0.0024883495468555534), (2975, 0.02443246328490127), (2976, 0.004683035814488473), (2977, 0.02124989337733435), (2978, 0.0032744393888382147), (2979, 0.0032717074254521666), (2980, 0.030875743630324463), (2981, 0.051033596587708285), (2982, 0.01580481408981447), (2983, 0.003800617178517552), (2984, 0.0), (2985, 0.05420869545730367), (2986, 0.0061836011295214755), (2987, 0.002558674460717259), (2988, 0.014127061901370662), (2989, 0.0030882726756922304), (2990, 0.004053874184918561), (2991, 0.015271485079808656), (2992, 0.027118344396760054), (2993, 0.0026732531615629475), (2994, 0.0030309255383420023), (2995, 0.010821956531311922), (2996, 0.017970549987161636), (2997, 0.0020948479245554968), (2998, 0.04302561276272332), (2999, 0.0051980951341469), (3000, 0.0022692372987933637), (3001, 0.0), (3002, 0.0), (3003, 0.026260492606244974), (3004, 0.012011143085710446), (3005, 0.0), (3006, 0.0), (3007, 0.010417872371619775), (3008, 0.021259098776591073), (3009, 0.0378472186599767), (3010, 0.052461245263158277), (3011, 0.006814151100848717), (3012, 0.0024848482133426825), (3013, 0.01288106765036514), (3014, 0.010194418656132156), (3015, 0.002808524421895029), (3016, 0.008458234619905611), (3017, 0.003577908515439046), (3018, 0.04046111001582932), (3019, 0.002580093613976966), (3020, 0.006346423694705431), (3021, 0.0), (3022, 0.03395163200112999), (3023, 0.01898232177424646), (3024, 0.0018334213482949062), (3025, 0.0), (3026, 0.026275968368041972), (3027, 0.1078500487084248), (3028, 0.04502466619237595), (3029, 0.0), (3030, 0.003002469617327805), (3031, 0.0027073732599741736), (3032, 0.0024808023770418503), (3033, 0.021536607232243276), (3034, 0.003030997637038547), (3035, 0.0021099351650466125), (3036, 0.010266923732469133), (3037, 0.005518170258015587), (3038, 0.0031501497976482292), (3039, 0.05400914862725046), (3040, 0.007300633788680785), (3041, 0.003178623767964172), (3042, 0.0070832572757391415), (3043, 0.021456664131242642), (3044, 0.005698470658680396), (3045, 0.008981804685852697), (3046, 0.020355219193169294), (3047, 0.0), (3048, 0.0), (3049, 0.0), (3050, 0.004789589891009704), (3051, 0.01391022654166329), (3052, 0.0030272855983020635), (3053, 0.006771795349100946), (3054, 0.003618490863819547), (3055, 0.0030158697896764896), (3056, 0.023585425268228516), (3057, 0.02538287148455406), (3058, 0.0), (3059, 0.0), (3060, 0.014116854064172766), (3061, 0.012769853903843088), (3062, 0.005795790965135781), (3063, 0.018390783182322207), (3064, 0.031185149401658778), (3065, 0.025055618243686253), (3066, 0.02105357580967435), (3067, 0.037510434800509154), (3068, 0.0), (3069, 0.011150807007722717), (3070, 0.0026900132211222583), (3071, 0.011506163567999283), (3072, 0.002575975916171536), (3073, 0.033719415853787335), (3074, 0.006413869672032432), (3075, 0.002152516630866661), (3076, 0.012762294982034624), (3077, 0.005687721349655101), (3078, 0.003869655995828535), (3079, 0.006944651413252743), (3080, 0.003356604319605011), (3081, 0.0026083257785815767), (3082, 0.002678351720546998), (3083, 0.03657870290909089), (3084, 0.023025703077423073), (3085, 0.010967789367196038), (3086, 0.033286511689543816), (3087, 0.0037991982496566098), (3088, 0.004478018000719281), (3089, 0.003658831002746466), (3090, 0.011400916165816352), (3091, 0.001855105835817276), (3092, 0.0), (3093, 0.0021811860504739136), (3094, 0.04607259381337961), (3095, 0.023919392674611024), (3096, 0.021361053691640604), (3097, 0.00576450233809503), (3098, 0.013831089794886271), (3099, 0.0), (3100, 0.0), (3101, 0.0024486107651321507), (3102, 0.0030691891106870593), (3103, 0.007455654782777397), (3104, 0.003004349504183135), (3105, 0.0), (3106, 0.003001866348508941), (3107, 0.0), (3108, 0.05884285924170239), (3109, 0.003207203776317048), (3110, 0.0), (3111, 0.047714830340553), (3112, 0.0023832509653820473), (3113, 0.005332025281121297), (3114, 0.018547669359135217), (3115, 0.0715122754505491), (3116, 0.0024354875436780046), (3117, 0.0), (3118, 0.0), (3119, 0.06943843104419822), (3120, 0.0020519387783225593), (3121, 0.006590136285075221), (3122, 0.015577855868691037), (3123, 0.00270338673148053), (3124, 0.0), (3125, 0.009318724417685095), (3126, 0.0), (3127, 0.01806567314829418), (3128, 0.002793824848700282), (3129, 0.02794401018359801), (3130, 0.0), (3131, 0.007549615578827137), (3132, 0.0), (3133, 0.016855849378270116), (3134, 0.0), (3135, 0.0), (3136, 0.0), (3137, 0.016697972410955816), (3138, 0.0), (3139, 0.007401493874811), (3140, 0.05713232244880355), (3141, 0.09857979489502765), (3142, 0.013919941711190969), (3143, 0.0), (3144, 0.019056727623496812), (3145, 0.009167775097133892), (3146, 0.005847482741503211), (3147, 0.03739608008135708), (3148, 0.002509369570070282), (3149, 0.009711236041222095), (3150, 0.012852718649911618), (3151, 0.028535203714882062), (3152, 0.02839918517281642), (3153, 0.0022822475023141276), (3154, 0.011935580665081307), (3155, 0.005263499785812887), (3156, 0.0), (3157, 0.07722484494382616), (3158, 0.0), (3159, 0.012069233271967551), (3160, 0.0), (3161, 0.0), (3162, 0.0506428941514072), (3163, 0.0), (3164, 0.03749589128326561), (3165, 0.002545632329629573), (3166, 0.017703979142038858), (3167, 0.001984845975263766), (3168, 0.003390939486656242), (3169, 0.0030871702482996783), (3170, 0.002108488746062847), (3171, 0.009276260995705268), (3172, 0.011723190858324045), (3173, 0.035277337155755005), (3174, 0.009248165544913999), (3175, 0.013087753109832744), (3176, 0.0), (3177, 0.011602085258889576), (3178, 0.008265333952879143), (3179, 0.0), (3180, 0.012100396470167448), (3181, 0.018660599443382775), (3182, 0.047311618333846645), (3183, 0.005724620082219325), (3184, 0.022148203958430427), (3185, 0.0), (3186, 0.002513026178942585), (3187, 0.00550130209887143), (3188, 0.003007969767927872), (3189, 0.0031638817157893817), (3190, 0.003489489536790419), (3191, 0.0), (3192, 0.016819579242281106), (3193, 0.01370734263974224), (3194, 0.0224477618474734), (3195, 0.0021810858983371795), (3196, 0.002485291505855396), (3197, 0.0027367785153629563), (3198, 0.005400458830875988), (3199, 0.007180884250424433), (3200, 0.007878907684412122), (3201, 0.019296356381840334), (3202, 0.0), (3203, 0.012701892619573413), (3204, 0.004031161475622375), (3205, 0.046417730762354704), (3206, 0.002681542027047659), (3207, 0.03839857631923821), (3208, 0.027520228601113805), (3209, 0.003079825902280558), (3210, 0.009836462474895162), (3211, 0.01413839950099445), (3212, 0.0024964388292292284), (3213, 0.027351400156557952), (3214, 0.004990873359477302), (3215, 0.00960158702832743), (3216, 0.0022055258081017134), (3217, 0.0038806542306954314), (3218, 0.02533607693313262), (3219, 0.002896415988918442), (3220, 0.005109252842656792), (3221, 0.019688650647733428), (3222, 0.021339421688105778), (3223, 0.0), (3224, 0.022602641657617894), (3225, 0.0022711855087089246), (3226, 0.03168559035796845), (3227, 0.009832545599830865), (3228, 0.025186208799204045), (3229, 0.012041126921650639), (3230, 0.01070548077055021), (3231, 0.018755501076034967), (3232, 0.0026329276490710237), (3233, 0.009539603577196682), (3234, 0.021140697724367115), (3235, 0.012172628971422949), (3236, 0.0032028513960847297), (3237, 0.03806477442383116), (3238, 0.024030416837435734), (3239, 0.04066816846501153), (3240, 0.03938300700703634), (3241, 0.002312212197560355), (3242, 0.011988301154505578), (3243, 0.002075811676742117), (3244, 0.06643278574901776), (3245, 0.0030426264989510394), (3246, 0.022782803455811778), (3247, 0.0), (3248, 0.0024717862298999837), (3249, 0.03496531142863568), (3250, 0.0028243075829709444), (3251, 0.012457806377483595), (3252, 0.008998201006513048), (3253, 0.03810520303561497), (3254, 0.0018121759776309509), (3255, 0.0), (3256, 0.016893586803924485), (3257, 0.0062991654360875105), (3258, 0.005684608798878709), (3259, 0.010617882598419785), (3260, 0.012052582254558759), (3261, 0.0), (3262, 0.0028517781245370054), (3263, 0.0), (3264, 0.021914001308572243), (3265, 0.032582527201243244), (3266, 0.004165745991888567), (3267, 0.004743517594639345), (3268, 0.0021153446404190432), (3269, 0.002397434099201396), (3270, 0.017488921159012183), (3271, 0.036575612927170646), (3272, 0.0), (3273, 0.002467450049052014), (3274, 0.0024971989489568354), (3275, 0.0025904474929905248), (3276, 0.014720630133853503), (3277, 0.010601057044259161), (3278, 0.0020152795663561265), (3279, 0.02344315791474085), (3280, 0.006569786096917074), (3281, 0.0), (3282, 0.006779623421932997), (3283, 0.012512492789063117), (3284, 0.03642396777693447), (3285, 0.00166618613492447), (3286, 0.0029237096855854712), (3287, 0.0031131463501962555), (3288, 0.014179569613127871), (3289, 0.005357526735407047), (3290, 0.0053799048886356005), (3291, 0.002978372995463471), (3292, 0.0028932462735640147), (3293, 0.01590899361101627), (3294, 0.05316335314813643), (3295, 0.009162236988009331), (3296, 0.002520788159776431), (3297, 0.03760333044800787), (3298, 0.0021409271622743844), (3299, 0.04055916340092595), (3300, 0.0020827964533171165), (3301, 0.0017355770074492904), (3302, 0.00270040192714736), (3303, 0.028903186842014535), (3304, 0.03683869734272193), (3305, 0.0), (3306, 0.01847251325576406), (3307, 0.0025744944120330827), (3308, 0.027977800701306673), (3309, 0.031802707778287115), (3310, 0.003141530222478242), (3311, 0.011112195681841946), (3312, 0.008196076254489145), (3313, 0.0018094722711361226), (3314, 0.002350590798455498), (3315, 0.01378469283981535), (3316, 0.01596441997292887), (3317, 0.013374743341156453), (3318, 0.011800034395533066), (3319, 0.02104155470648398), (3320, 0.009456059231301536), (3321, 0.009315454087882081), (3322, 0.0028524532836230986), (3323, 0.017524273494035462), (3324, 0.0035390958409354826), (3325, 0.003959825743736793), (3326, 0.10865988558522052), (3327, 0.014647001393106207), (3328, 0.021327240377616307), (3329, 0.01527507759368604), (3330, 0.009241342285217035), (3331, 0.0018475177546531472), (3332, 0.0030474641586390296), (3333, 0.0), (3334, 0.019522374026524545), (3335, 0.020834785443050063), (3336, 0.03029345725640036), (3337, 0.006032001892437928), (3338, 0.010133012471763733), (3339, 0.0), (3340, 0.0), (3341, 0.0022225432855458287), (3342, 0.008610677655501732), (3343, 0.010057803774681608), (3344, 0.02361827803063991), (3345, 0.016476618378497322), (3346, 0.07485352896130446), (3347, 0.04573818340190592), (3348, 0.005059194219045245), (3349, 0.005423679720127861), (3350, 0.002970889003387522), (3351, 0.005456097013019007), (3352, 0.007923225058581567), (3353, 0.002304181233410567), (3354, 0.02176471039366023), (3355, 0.002549821740386819), (3356, 0.005322304181410318), (3357, 0.006498130766396175), (3358, 0.0026907167882257344), (3359, 0.002579306708738144), (3360, 0.028633114069123486), (3361, 0.01697573766293602), (3362, 0.07894868953110804), (3363, 0.012161963885148824), (3364, 0.014181147975334943), (3365, 0.00653929931824835), (3366, 0.0029083556554114704), (3367, 0.0), (3368, 0.00688947647492879), (3369, 0.010532518654585434), (3370, 0.002151328438454861), (3371, 0.0033358940104788602), (3372, 0.002327678375966498), (3373, 0.005883928917780697), (3374, 0.009202644968599035), (3375, 0.002919322123267979), (3376, 0.007918407367053334), (3377, 0.01928690912064228), (3378, 0.010505890699492487), (3379, 0.002172915023169285), (3380, 0.001967436209410639), (3381, 0.002189872034401704), (3382, 0.0054549612639531115), (3383, 0.003409842866323832), (3384, 0.021732692863378006), (3385, 0.008445501776645643), (3386, 0.02407990765095769), (3387, 0.012678106699815157), (3388, 0.00550799862636803), (3389, 0.02185699945072666), (3390, 0.010289023124938151), (3391, 0.004941168648679631), (3392, 0.012877954100427552), (3393, 0.019919466270108797), (3394, 0.0), (3395, 0.034406838666896804), (3396, 0.002556430065205366), (3397, 0.02213083101699001), (3398, 0.0), (3399, 0.026429527551072925), (3400, 0.002944997430784498), (3401, 0.021297776714023418), (3402, 0.005094322662994557), (3403, 0.022368668940921575), (3404, 0.0), (3405, 0.0), (3406, 0.028791096155181363), (3407, 0.02969422323595282), (3408, 0.029264894816933215), (3409, 0.051577137510545795), (3410, 0.02652913753753567), (3411, 0.008833143997575656), (3412, 0.02476330337782849), (3413, 0.006279139356677035), (3414, 0.01827914978732452), (3415, 0.0031516363005548755), (3416, 0.011470087941638195), (3417, 0.022711419629045024), (3418, 0.03074045621164206), (3419, 0.013177394261844387), (3420, 0.05675258974174868), (3421, 0.003616726176359523), (3422, 0.030214580408098646), (3423, 0.015672633892831002), (3424, 0.036575689798426084), (3425, 0.05299470052574188), (3426, 0.01067993420358116), (3427, 0.018625025385483943), (3428, 0.003111155259253712), (3429, 0.0), (3430, 0.010225079480364191), (3431, 0.0017797840856040074), (3432, 0.0), (3433, 0.002086886618255913), (3434, 0.012147837162414764), (3435, 0.01664494715442056), (3436, 0.002230586598253764), (3437, 0.002320212739855053), (3438, 0.007533334636529423), (3439, 0.025284045861870982), (3440, 0.01751040100439155), (3441, 0.0021981330965415583), (3442, 0.0031942509118275267), (3443, 0.0029702813790014005), (3444, 0.022723650369365567), (3445, 0.0022698131230225542), (3446, 0.007247060946990484), (3447, 0.026164967002793374), (3448, 0.008560298461011081), (3449, 0.04267770376172927), (3450, 0.019521146184624937), (3451, 0.0), (3452, 0.01680081985009959), (3453, 0.0), (3454, 0.013805409242003887), (3455, 0.0020350293661210474), (3456, 0.03876451620694572), (3457, 0.03135801874663984), (3458, 0.02976742246076913), (3459, 0.01629496428001631), (3460, 0.00203803728650478), (3461, 0.051316144750165334), (3462, 0.0030487947996773405), (3463, 0.015052518073318973), (3464, 0.068046304527671), (3465, 0.013860045227015678), (3466, 0.010239115992972843), (3467, 0.0), (3468, 0.024495639007323475), (3469, 0.016341192084891574), (3470, 0.05489688892943199), (3471, 0.0017622175591857237), (3472, 0.0), (3473, 0.0), (3474, 0.010375682718065295), (3475, 0.0643493711934496), (3476, 0.0), (3477, 0.03147647365057576), (3478, 0.0022163419361196073), (3479, 0.00698151564721823), (3480, 0.0437291959273567), (3481, 0.008473365480566653), (3482, 0.0), (3483, 0.023589456754510733), (3484, 0.012135097359541356), (3485, 0.010302516862313708), (3486, 0.0), (3487, 0.01038274150004567), (3488, 0.0), (3489, 0.0031041165901531387), (3490, 0.0028918672405954396), (3491, 0.009309326199718375), (3492, 0.00926151158798717), (3493, 0.005471654786883988), (3494, 0.0030307306848100417), (3495, 0.009671438160074423), (3496, 0.013700003799518915), (3497, 0.0024215809683483668), (3498, 0.002117618183310657), (3499, 0.018369133309365213), (3500, 0.013387547738691013), (3501, 0.0022528888448218798), (3502, 0.03761168691083928), (3503, 0.005012886848920371), (3504, 0.019878411087105752), (3505, 0.0), (3506, 0.01245479751831786), (3507, 0.007315177858742025), (3508, 0.04637801731910944), (3509, 0.012573470221236387), (3510, 0.003246474743125443), (3511, 0.01201960698437324), (3512, 0.008016282328096164), (3513, 0.0031551245204473727), (3514, 0.005457582060805946), (3515, 0.027826339426176752), (3516, 0.010084949499545245), (3517, 0.0423205213963055), (3518, 0.06095532868361121), (3519, 0.0033154435265816875), (3520, 0.0), (3521, 0.0027304219750413183), (3522, 0.00771215975461685), (3523, 0.003177170577779956), (3524, 0.026942411153627818), (3525, 0.0), (3526, 0.012571658601489358), (3527, 0.002291012167521054), (3528, 0.04218630069804815), (3529, 0.0033090715564846798), (3530, 0.0), (3531, 0.013470152606824215), (3532, 0.0), (3533, 0.0), (3534, 0.003660177804268977), (3535, 0.0), (3536, 0.04671942397199031), (3537, 0.006484213358073943), (3538, 0.009795112112723119), (3539, 0.003208296756775818), (3540, 0.0025850069836081684), (3541, 0.0960014755838248), (3542, 0.0022676431731893107), (3543, 0.002799374559045576), (3544, 0.006363497699844666), (3545, 0.0029890169728590526), (3546, 0.01972474030246951), (3547, 0.0), (3548, 0.010766776962340819), (3549, 0.01041229356156232), (3550, 0.0), (3551, 0.00935900565653716), (3552, 0.0085023813182464), (3553, 0.013575145234439513), (3554, 0.0036453736234482842), (3555, 0.0), (3556, 0.0019816953756882113), (3557, 0.019758946736883908), (3558, 0.0764651947226723), (3559, 0.012147126719465674), (3560, 0.026257896921108644), (3561, 0.00300447052056186), (3562, 0.009697652048940873), (3563, 0.011196049026610394), (3564, 0.02585496716627132), (3565, 0.008154050482859934), (3566, 0.01741281624546962), (3567, 0.006760854469196279), (3568, 0.006767515600609208), (3569, 0.0019002296465600694), (3570, 0.002992561286946514), (3571, 0.011504339200546505), (3572, 0.003334039180655098), (3573, 0.0), (3574, 0.008904420776212799), (3575, 0.05900534991240966), (3576, 0.0), (3577, 0.015181391701743669), (3578, 0.02263480770314657), (3579, 0.03546616112833615), (3580, 0.00295039713681728), (3581, 0.0033104047138519162), (3582, 0.0029010341019339927), (3583, 0.0), (3584, 0.003234133473053963), (3585, 0.00587013568632179), (3586, 0.007594275464286867), (3587, 0.039936203038529225), (3588, 0.0), (3589, 0.018211818447992845), (3590, 0.002354303610052551), (3591, 0.0031429675562738807), (3592, 0.01311267511159223), (3593, 0.014615418290850102), (3594, 0.01846418267426477), (3595, 0.0028812108394598752), (3596, 0.03665094140210197), (3597, 0.018989724167429195), (3598, 0.019075536403465695), (3599, 0.059881431150471856), (3600, 0.016036893476581666), (3601, 0.005575300168262982), (3602, 0.0), (3603, 0.012446734825209905), (3604, 0.0), (3605, 0.0), (3606, 0.0053302136830888185), (3607, 0.0), (3608, 0.0014436101463072037), (3609, 0.024616419269192134), (3610, 0.011891057230792016), (3611, 0.025348670441189724), (3612, 0.029377374850842304), (3613, 0.0027337044491500557), (3614, 0.01033539337517252), (3615, 0.002087102363703693), (3616, 0.028801273842853876), (3617, 0.0), (3618, 0.009829174855241835), (3619, 0.01615369541433056), (3620, 0.0026988169947711415), (3621, 0.006151522779977867), (3622, 0.013689955536795934), (3623, 0.002286338060460321), (3624, 0.002195799209346246), (3625, 0.0), (3626, 0.042207396092623195), (3627, 0.0020506756786000217), (3628, 0.0032930708832498634), (3629, 0.001903420246938139), (3630, 0.005198291748248012), (3631, 0.0), (3632, 0.014813068490729312), (3633, 0.02302343436337972), (3634, 0.01158088491321212), (3635, 0.0029965053901534226), (3636, 0.0022840253330125644), (3637, 0.008109336639621913), (3638, 0.011561228184415302), (3639, 0.019784604470436576), (3640, 0.012734352306423434), (3641, 0.03714764760645182), (3642, 0.010574675559774208), (3643, 0.021083674217444993), (3644, 0.009891785622568547), (3645, 0.0016705494876370415), (3646, 0.02031695170587094), (3647, 0.02132564813606344), (3648, 0.03354971306776819), (3649, 0.003416270555211411), (3650, 0.010201503992576338), (3651, 0.010607854298202782), (3652, 0.0033274308184908785), (3653, 0.002259259324687091), (3654, 0.027355253650128846), (3655, 0.018061431697193493), (3656, 0.06354745546208626), (3657, 0.029405591745875363), (3658, 0.008460203116823486), (3659, 0.0), (3660, 0.0021372905275730226), (3661, 0.10565577544785766), (3662, 0.0030098942397220984), (3663, 0.0), (3664, 0.0), (3665, 0.0122550896402412), (3666, 0.0023012498459643893), (3667, 0.031158758992118257), (3668, 0.015113215409174024), (3669, 0.009676708826619501), (3670, 0.028904670635176048), (3671, 0.049276644177954784), (3672, 0.0031493669355627733), (3673, 0.037718184683788805), (3674, 0.008498646868230039), (3675, 0.00264196900015602), (3676, 0.003043183462523348), (3677, 0.01792461137179436), (3678, 0.02606193933087922), (3679, 0.0), (3680, 0.0025062439761358545), (3681, 0.029757296449200794), (3682, 0.0), (3683, 0.0030825262537805967), (3684, 0.030075667818683496), (3685, 0.01968261449573472), (3686, 0.0035800012015707273), (3687, 0.002768227023031753), (3688, 0.003336767515693599), (3689, 0.03034387473164467), (3690, 0.014422961891061768), (3691, 0.0021089472623243757), (3692, 0.0023863424673379583), (3693, 0.0180483247465979), (3694, 0.0023985859290108335), (3695, 0.018028099037944764), (3696, 0.01574779587636367), (3697, 0.0), (3698, 0.05026047609984098), (3699, 0.009960374541241594), (3700, 0.0), (3701, 0.018305148472578307), (3702, 0.0), (3703, 0.0), (3704, 0.01053823997667993), (3705, 0.021146766222412187), (3706, 0.002162987733851178), (3707, 0.009925046875640423), (3708, 0.0), (3709, 0.015243051751067303), (3710, 0.008010993855265772), (3711, 0.013003191721001622), (3712, 0.00953686869042841), (3713, 0.036864771300638796), (3714, 0.002422529461363442), (3715, 0.0038858706341841254), (3716, 0.0027065561138989442), (3717, 0.0), (3718, 0.05388614731177705), (3719, 0.002163268835551121), (3720, 0.0068097803026423145), (3721, 0.0), (3722, 0.021534276728431286), (3723, 0.0), (3724, 0.007482294511581192), (3725, 0.002063670508328531), (3726, 0.0), (3727, 0.0021974780845288627), (3728, 0.017867106519359726), (3729, 0.002568536669790233), (3730, 0.03227752547904589), (3731, 0.015808783844206722), (3732, 0.011378969105059195), (3733, 0.021649494090003163), (3734, 0.0020903913648614705), (3735, 0.0033323378823431338), (3736, 0.04961036640316331), (3737, 0.002474813586392061), (3738, 0.0), (3739, 0.012419376418055158), (3740, 0.024670361080727468), (3741, 0.01639378570467342), (3742, 0.009863912497248656), (3743, 0.04117238562716249), (3744, 0.0), (3745, 0.030058778064285297), (3746, 0.006946539625177392), (3747, 0.012125890650891685), (3748, 0.018644497308238982), (3749, 0.0024165439059502247), (3750, 0.0), (3751, 0.047298549576924476), (3752, 0.021743358197133737), (3753, 0.037848562700275167), (3754, 0.02668783726462049), (3755, 0.004620242728440702), (3756, 0.0018129207133337636), (3757, 0.002390791592316198), (3758, 0.014607689717374198), (3759, 0.01590017546141051), (3760, 0.0), (3761, 0.0), (3762, 0.012704481554550486), (3763, 0.006161039387340852), (3764, 0.005951397862862723), (3765, 0.018787436899522145), (3766, 0.0026430515428283803), (3767, 0.015348531070246252), (3768, 0.00809718233499716), (3769, 0.0), (3770, 0.00231766380499827), (3771, 0.025312185673721087), (3772, 0.005949150736626786), (3773, 0.010637668838182433), (3774, 0.0), (3775, 0.0), (3776, 0.024160022247521094), (3777, 0.009797464677108821), (3778, 0.01745913513411541), (3779, 0.022579013304987506), (3780, 0.019726349143989904), (3781, 0.010448533724659394), (3782, 0.011650225894401782), (3783, 0.0), (3784, 0.02692655925779054), (3785, 0.0), (3786, 0.00677073547590922), (3787, 0.023158325557250645), (3788, 0.0), (3789, 0.003556420798719976), (3790, 0.0031299599245076947), (3791, 0.003436172403658557), (3792, 0.005316353149773444), (3793, 0.0), (3794, 0.0), (3795, 0.0019825753104772527), (3796, 0.004164995996477277), (3797, 0.03183448082642001), (3798, 0.0), (3799, 0.0021009105436284718), (3800, 0.03188099948020515), (3801, 0.029308930831140237), (3802, 0.0), (3803, 0.016317833786856275), (3804, 0.002472347309668997), (3805, 0.003002644204743202), (3806, 0.0), (3807, 0.002204715945268333), (3808, 0.003343548682782995), (3809, 0.0022707905372885916), (3810, 0.007190546514607506), (3811, 0.02486970264374048), (3812, 0.0030650750253294026), (3813, 0.012458839653559432), (3814, 0.0), (3815, 0.0), (3816, 0.00825212872869429), (3817, 0.007849803159240385), (3818, 0.009984384666565618), (3819, 0.008755384827853527), (3820, 0.00340445468273157), (3821, 0.017405031643428243), (3822, 0.02668408984632783), (3823, 0.021339088831443444), (3824, 0.00287420211560158), (3825, 0.02310822502957099), (3826, 0.019952136298901336), (3827, 0.0021730664824277327), (3828, 0.0028029971891691584), (3829, 0.021286359824909885), (3830, 0.0), (3831, 0.007738204201614462), (3832, 0.01005826774832479), (3833, 0.0), (3834, 0.009846052823440537), (3835, 0.013791659983525991), (3836, 0.0029369282709538484), (3837, 0.003305528305003525), (3838, 0.0), (3839, 0.015411453500630935), (3840, 0.0), (3841, 0.008315808603328938), (3842, 0.002740919816343053), (3843, 0.0), (3844, 0.0037736466136750993), (3845, 0.015051165801743396), (3846, 0.03948875018953532), (3847, 0.0), (3848, 0.00281184240208342), (3849, 0.0), (3850, 0.0), (3851, 0.003447883564831833), (3852, 0.015625439294836656), (3853, 0.0), (3854, 0.008575110778375552), (3855, 0.01042340228823479), (3856, 0.012019043982047893), (3857, 0.010299390026326195), (3858, 0.024017470243033873), (3859, 0.002848362035265867), (3860, 0.009861314694352726), (3861, 0.0026665214979981118), (3862, 0.0023147316211258357), (3863, 0.001991596885486436), (3864, 0.06353614651900263), (3865, 0.028917124932904065), (3866, 0.026697161307061783), (3867, 0.03879131640390188), (3868, 0.011754012521420575), (3869, 0.0), (3870, 0.010525489645042557), (3871, 0.0), (3872, 0.0), (3873, 0.0023698894671853768), (3874, 0.00271021862436224), (3875, 0.09167989603782749), (3876, 0.002034451981293226), (3877, 0.010324405870994088), (3878, 0.0029129505653888933), (3879, 0.002919554273488515), (3880, 0.011949983888498328), (3881, 0.0), (3882, 0.015186948039081027), (3883, 0.0025263668091002668), (3884, 0.011345963743702132), (3885, 0.0027394801188623053), (3886, 0.020114320359104255), (3887, 0.0), (3888, 0.005172577741890779), (3889, 0.01746517802554695), (3890, 0.0629644777804639), (3891, 0.014810107049266313), (3892, 0.03634222470494043), (3893, 0.0023943070353444644), (3894, 0.008132552984881924), (3895, 0.0019401657749214638), (3896, 0.002903794557934142), (3897, 0.007481721779723989), (3898, 0.010835816851422982), (3899, 0.006732568190198993), (3900, 0.0021312113482738295), (3901, 0.0026729030786616474), (3902, 0.023212534262719332), (3903, 0.039937182215421356), (3904, 0.010430505669949464), (3905, 0.0031854055578977862), (3906, 0.010624730981656562), (3907, 0.014642340312781837), (3908, 0.0), (3909, 0.02811231782563584), (3910, 0.0019458017684865032), (3911, 0.002648337075133659), (3912, 0.026297127258632338), (3913, 0.03854712301086734), (3914, 0.02714653555698846), (3915, 0.0024073202586420268), (3916, 0.011833787297214612), (3917, 0.008920085030292926), (3918, 0.0), (3919, 0.02484317954000468), (3920, 0.009604923283693032), (3921, 0.0197326814613378), (3922, 0.026800254508987972), (3923, 0.0027670039366435397), (3924, 0.01795036536393911), (3925, 0.0032989582512457723), (3926, 0.02158344524484809), (3927, 0.01727436151672038), (3928, 0.0077457934199436935), (3929, 0.008992741407260871), (3930, 0.018224409613453098), (3931, 0.0035227407877922905), (3932, 0.02777787800578956), (3933, 0.017603652340756226), (3934, 0.006395686996033723), (3935, 0.002611620821962539), (3936, 0.003809573271359472), (3937, 0.007436889382043481), (3938, 0.009977539533959887), (3939, 0.012988188285850853), (3940, 0.009465613718646902), (3941, 0.0048989340322926535), (3942, 0.03193474413104813), (3943, 0.013128215213471383), (3944, 0.005688246750383359), (3945, 0.006453746007121353), (3946, 0.00890326668129974), (3947, 0.0), (3948, 0.0), (3949, 0.004139549933193508), (3950, 0.029014697296421983), (3951, 0.02421604889927654), (3952, 0.0059950885418318025), (3953, 0.002016553895899753), (3954, 0.021611988830012065), (3955, 0.014561823904837932), (3956, 0.0019754159637020647), (3957, 0.023317298492655195), (3958, 0.007360001338924328), (3959, 0.009604300740600088), (3960, 0.010512611929195514), (3961, 0.0024462920547602164), (3962, 0.005871285678678319), (3963, 0.007003762887284679), (3964, 0.01294846433652204), (3965, 0.0028760170939676572), (3966, 0.006581235263679633), (3967, 0.009108033030526829), (3968, 0.0), (3969, 0.03323296877460371), (3970, 0.021706707649422993), (3971, 0.0024285233807476827), (3972, 0.0), (3973, 0.02099574786649868), (3974, 0.0019948331589581497), (3975, 0.0), (3976, 0.009306702744096824), (3977, 0.0), (3978, 0.002113988072434092), (3979, 0.0), (3980, 0.06866696453144473), (3981, 0.0), (3982, 0.007533505697881239), (3983, 0.015548010377914454), (3984, 0.005497872622948738), (3985, 0.0), (3986, 0.008343386976134853), (3987, 0.02212287316448428), (3988, 0.0037904621229796483), (3989, 0.014947937248002629), (3990, 0.003059182916254326), (3991, 0.0), (3992, 0.00590931626036079), (3993, 0.02009802552066395), (3994, 0.0068575206931330065), (3995, 0.015624903812532275), (3996, 0.003590550488670092), (3997, 0.0), (3998, 0.02076025777767317), (3999, 0.014059865858084332), (4000, 0.009672693498251525), (4001, 0.028653559971793616), (4002, 0.010768996762377834), (4003, 0.003326526947420296), (4004, 0.002247670172317705), (4005, 0.0023682231228884082), (4006, 0.007052428364432574), (4007, 0.06295893275472553), (4008, 0.015040199782868748), (4009, 0.02563101259546087), (4010, 0.0034747356122262606), (4011, 0.0020814761241698667), (4012, 0.019455967494503672), (4013, 0.034841046641691374), (4014, 0.0022424886496242124), (4015, 0.019291279148846076), (4016, 0.0182837704932437), (4017, 0.030274355753187234), (4018, 0.005133382611102879), (4019, 0.012641410941534603), (4020, 0.009566891573465094), (4021, 0.0), (4022, 0.0), (4023, 0.01507257614258934), (4024, 0.01233089594518008), (4025, 0.03197586451594357), (4026, 0.006635733002324163), (4027, 0.003179871218326223), (4028, 0.0), (4029, 0.0029511525819833012), (4030, 0.002594143245974572), (4031, 0.02057806042278034), (4032, 0.04068478582610444), (4033, 0.012046254238466093), (4034, 0.02521552008976671), (4035, 0.02635851563101337), (4036, 0.005107971451097041), (4037, 0.0028527582214525034), (4038, 0.03252813864996634), (4039, 0.0), (4040, 0.013609486821449746), (4041, 0.0), (4042, 0.0024479054315457507), (4043, 0.0), (4044, 0.0), (4045, 0.007960850136717998), (4046, 0.014353164558770292), (4047, 0.023271405692027902), (4048, 0.002426309103083577), (4049, 0.005305590072979028), (4050, 0.0), (4051, 0.02637339512596437), (4052, 0.04265766899045558), (4053, 0.0020110876489496023), (4054, 0.005543234281518769), (4055, 0.023084757876633742), (4056, 0.002204360536466115), (4057, 0.02410563485014773), (4058, 0.0037456920353712304), (4059, 0.057430015985365845), (4060, 0.002201969309671129), (4061, 0.05134863962000963), (4062, 0.035532283597790495), (4063, 0.0), (4064, 0.06896838168730902), (4065, 0.0), (4066, 0.019665134259852085), (4067, 0.013514477402753003), (4068, 0.009420611521262017), (4069, 0.009419128199745896), (4070, 0.021652549641460836), (4071, 0.00997913003777212), (4072, 0.0), (4073, 0.002935136817531378), (4074, 0.039035526407965974), (4075, 0.0025861042677842727), (4076, 0.007602116783457767), (4077, 0.02042565545713832), (4078, 0.010211028334230312), (4079, 0.011836993325505673), (4080, 0.0019872292896839154), (4081, 0.009805705731254688), (4082, 0.0031309647126099385), (4083, 0.0023138813469408396), (4084, 0.0038722427401547644), (4085, 0.0021094528946072784), (4086, 0.023337162697767002), (4087, 0.0024093204743750028), (4088, 0.007722257902863607), (4089, 0.02731527625079266), (4090, 0.0), (4091, 0.007753631693943349), (4092, 0.002508143140439501), (4093, 0.0030804361699083376), (4094, 0.014530354580730332), (4095, 0.03738142121128444), (4096, 0.0), (4097, 0.011549832722687918), (4098, 0.002271843545303179), (4099, 0.021543127755130696), (4100, 0.0), (4101, 0.012462783801897961), (4102, 0.006637633286121032), (4103, 0.0), (4104, 0.004633809204415942), (4105, 0.0033802321491956063), (4106, 0.02291398638573036), (4107, 0.012041329902954933), (4108, 0.01969739436636375), (4109, 0.009109789029147223), (4110, 0.022715032512188524), (4111, 0.005596395400579284), (4112, 0.009827298512635698), (4113, 0.005806495951979532), (4114, 0.023978531200589476), (4115, 0.0142307593284891), (4116, 0.0024163105693679734), (4117, 0.014569392921968776), (4118, 0.01846674592552369), (4119, 0.01568602391683164), (4120, 0.007865743095495988), (4121, 0.011450999690137409), (4122, 0.0), (4123, 0.002340166047733504), (4124, 0.00877424738889792), (4125, 0.014424164105027606), (4126, 0.002579020658776494), (4127, 0.0036553591428829467), (4128, 0.0), (4129, 0.002145258635286492), (4130, 0.0024224421078706884), (4131, 0.0032225841335518125), (4132, 0.005627075452235164), (4133, 0.010633178969723343), (4134, 0.01575569641652931), (4135, 0.01245856433611817), (4136, 0.03693208571571709), (4137, 0.009358036933953384), (4138, 0.002456650889302464), (4139, 0.01991260576904725), (4140, 0.005711915072993687), (4141, 0.02244887588719194), (4142, 0.0028335946084080185), (4143, 0.008335363064032065), (4144, 0.0), (4145, 0.011455113233337654), (4146, 0.0), (4147, 0.0063654496397594785), (4148, 0.0), (4149, 0.006089047901592924), (4150, 0.008553754230523902), (4151, 0.003807970891613971), (4152, 0.01603649567949362), (4153, 0.0), (4154, 0.002002710407322107), (4155, 0.03626631279674966), (4156, 0.0409597067537714), (4157, 0.0069150889990584885), (4158, 0.031725668468091744), (4159, 0.0), (4160, 0.002484932004318569), (4161, 0.0023843401226489188), (4162, 0.023127075225410253), (4163, 0.0025695833903281854), (4164, 0.006881686206097854), (4165, 0.0), (4166, 0.003887757368291331), (4167, 0.0), (4168, 0.0), (4169, 0.0023608720230142094), (4170, 0.0), (4171, 0.021927091933717894), (4172, 0.02471966387166192), (4173, 0.00322196722848886), (4174, 0.011306724844265812), (4175, 0.020182460721380684), (4176, 0.008526576217182837), (4177, 0.008458114139672743), (4178, 0.002327197071199239), (4179, 0.0), (4180, 0.011145378181594856), (4181, 0.008306070938783728), (4182, 0.01965809606672476), (4183, 0.01107490840304963), (4184, 0.01058983593759787), (4185, 0.0), (4186, 0.002756622842061768), (4187, 0.0025147942384729544), (4188, 0.0074871465266818545), (4189, 0.021228770250258655), (4190, 0.0035915244536036577), (4191, 0.0027277574596370337), (4192, 0.018728924222600595), (4193, 0.0), (4194, 0.008642994597533881), (4195, 0.0030095721165658744), (4196, 0.012500964931643821), (4197, 0.02271259312718242), (4198, 0.013926271315815874), (4199, 0.013084009772059445), (4200, 0.010552417719764576), (4201, 0.025276942558107366), (4202, 0.0030990717509842137), (4203, 0.0665003550769699), (4204, 0.003584228633232578), (4205, 0.031143134748369904), (4206, 0.012123502939178203), (4207, 0.003268171097329024), (4208, 0.0), (4209, 0.002715856711719395), (4210, 0.047280267974145924), (4211, 0.0), (4212, 0.0), (4213, 0.004971012493490752), (4214, 0.0030502917432021067), (4215, 0.0), (4216, 0.0), (4217, 0.02372153277303782), (4218, 0.066315983590736), (4219, 0.0), (4220, 0.008602742964931756), (4221, 0.0029632405386421094), (4222, 0.01711719279046904), (4223, 0.016166220409916825), (4224, 0.0), (4225, 0.002326553095242815), (4226, 0.03179600459956212), (4227, 0.0), (4228, 0.002189621757654103), (4229, 0.0), (4230, 0.0028398067669926693), (4231, 0.0023642398599726545), (4232, 0.05386528425460531), (4233, 0.006379099477216507), (4234, 0.025110164892982113), (4235, 0.0), (4236, 0.01061770873315054), (4237, 0.0026809888683564168), (4238, 0.0), (4239, 0.014571021353458197), (4240, 0.0918199001606036), (4241, 0.006978912092761163), (4242, 0.011519998867738005), (4243, 0.0025231258228514374), (4244, 0.002539079129115427), (4245, 0.0023812571381245052), (4246, 0.013075967993827303), (4247, 0.011507503860235043), (4248, 0.0), (4249, 0.002286797218156669), (4250, 0.0), (4251, 0.0), (4252, 0.02609266683367502), (4253, 0.0), (4254, 0.015121022173218184), (4255, 0.013885122848035673), (4256, 0.0031956620297920375), (4257, 0.029486015184953432), (4258, 0.00328113426647728), (4259, 0.005806811932869471), (4260, 0.0031828711607240433), (4261, 0.0), (4262, 0.009627089765813175), (4263, 0.005757882046591957), (4264, 0.0), (4265, 0.014936143310487716), (4266, 0.002236437197727791), (4267, 0.051587646421734475), (4268, 0.009712347301661817), (4269, 0.018029174882506136), (4270, 0.0187450716510695), (4271, 0.008731670601062634), (4272, 0.020443108320676456), (4273, 0.0022680092637012397), (4274, 0.0), (4275, 0.0), (4276, 0.0), (4277, 0.00203006535309116), (4278, 0.0), (4279, 0.01714893438194856), (4280, 0.0026266601571353844), (4281, 0.008155779156983924), (4282, 0.021527078534169828), (4283, 0.009452297972303927), (4284, 0.009098462310710919), (4285, 0.03709293841974957), (4286, 0.01031022345861606), (4287, 0.014907961785468306), (4288, 0.0045097815900821524), (4289, 0.0), (4290, 0.01953896321268539), (4291, 0.02153610738270236), (4292, 0.006648568984994426), (4293, 0.005833518887925252), (4294, 0.0), (4295, 0.005968693822835117), (4296, 0.001930523640413438), (4297, 0.015692492914102123), (4298, 0.002719033822942844), (4299, 0.027231098639758547), (4300, 0.0030349408573645937), (4301, 0.0016443484273205313), (4302, 0.0), (4303, 0.021152375630807206), (4304, 0.004691937620291719), (4305, 0.02391223434549277), (4306, 0.002740105090955993), (4307, 0.01996737368905769), (4308, 0.005732956322577134), (4309, 0.002163210371385835), (4310, 0.0), (4311, 0.004247255631019943), (4312, 0.0232589051394917), (4313, 0.0), (4314, 0.043697214831911926), (4315, 0.0032069162591482248), (4316, 0.0), (4317, 0.0034148019802901722), (4318, 0.0023419769077732753), (4319, 0.07287769537294238), (4320, 0.01138957328966762), (4321, 0.013737967865821741), (4322, 0.006899471764688183), (4323, 0.011109163149956075), (4324, 0.04441799117597861), (4325, 0.017743081759615736), (4326, 0.0020319844682159284), (4327, 0.010278466451806093), (4328, 0.01318437005348783), (4329, 0.020600486182497497), (4330, 0.009278093014509292), (4331, 0.0), (4332, 0.018578507474980403), (4333, 0.0024939308789325076), (4334, 0.10322494945883506), (4335, 0.027524264225469747), (4336, 0.01323028714167758), (4337, 0.012747710378890479), (4338, 0.027817731262925707), (4339, 0.006445946483896073), (4340, 0.0022922575765313316), (4341, 0.003572171738600095), (4342, 0.02499083349248546), (4343, 0.0019603863300634494), (4344, 0.031109158168099206), (4345, 0.00924995079379631), (4346, 0.0034937247893898826), (4347, 0.006444986437608125), (4348, 0.008527589964979262), (4349, 0.002179349266826277), (4350, 0.03388885730851728), (4351, 0.05566201553693914), (4352, 0.0), (4353, 0.008743321634154411), (4354, 0.0023185246442565576), (4355, 0.031771586619472096), (4356, 0.0048618432915583844), (4357, 0.015381775500516934), (4358, 0.027887384468658124), (4359, 0.008903039629758532), (4360, 0.0), (4361, 0.00230586845560303), (4362, 0.0021701350395281946), (4363, 0.009712034982282729), (4364, 0.0), (4365, 0.0), (4366, 0.0), (4367, 0.02296145503908406), (4368, 0.010436205675654397), (4369, 0.02180614183666923), (4370, 0.0032162087609232458), (4371, 0.017917491500841584), (4372, 0.0), (4373, 0.03328511073679584), (4374, 0.015500597270900064), (4375, 0.0), (4376, 0.01838576384337658), (4377, 0.01621581871075459), (4378, 0.011426789151230105), (4379, 0.009607629124637708), (4380, 0.0), (4381, 0.0021486518727367727), (4382, 0.00505503907473134), (4383, 0.0), (4384, 0.009746722942163472), (4385, 0.009992663224513804), (4386, 0.0019114947985240842), (4387, 0.009041787030459162), (4388, 0.048521148434889305), (4389, 0.0), (4390, 0.0), (4391, 0.009855079301507022), (4392, 0.0), (4393, 0.0), (4394, 0.012189892290639558), (4395, 0.011950736760160454), (4396, 0.002479655027905659), (4397, 0.002466620708477824), (4398, 0.002561027997066716), (4399, 0.01543256173889447), (4400, 0.0028253311345400804), (4401, 0.031626158915923894), (4402, 0.008574381935864782), (4403, 0.02203376587182563), (4404, 0.044126255640182036), (4405, 0.009884800050133516), (4406, 0.015434540566171898), (4407, 0.002899025368760175), (4408, 0.0036155511062126357), (4409, 0.022163068402038463), (4410, 0.011446085108603588), (4411, 0.0018987393297176085), (4412, 0.002596253432396117), (4413, 0.003265230454437832), (4414, 0.0053480268752428605), (4415, 0.0), (4416, 0.0026088452883240576), (4417, 0.0), (4418, 0.0029108424423085937), (4419, 0.002310533709982103), (4420, 0.0294785807126206), (4421, 0.003143549689390962), (4422, 0.01318939082272597), (4423, 0.002873979045780338), (4424, 0.0), (4425, 0.0), (4426, 0.0025983669910313828), (4427, 0.002213849246880373), (4428, 0.008805118614155973), (4429, 0.0019243546354031985), (4430, 0.002320486986141012), (4431, 0.0255220693580269), (4432, 0.0019399004108576166), (4433, 0.00314182729343719), (4434, 0.0028847569641633057), (4435, 0.010850370630055292), (4436, 0.019989184987726828), (4437, 0.0081263905630916), (4438, 0.006765291810928363), (4439, 0.0), (4440, 0.018533543411615852), (4441, 0.006703279793737618), (4442, 0.011915289614112349), (4443, 0.002715061475529194), (4444, 0.01214701719144333), (4445, 0.0016638252616086853), (4446, 0.034742640150452676), (4447, 0.0027320947714033735), (4448, 0.020698435203381462), (4449, 0.008279807667394088), (4450, 0.006255339477966059), (4451, 0.00355303786459381), (4452, 0.0034061307913065436), (4453, 0.0033623518855434376), (4454, 0.011615256819683225), (4455, 0.0), (4456, 0.0), (4457, 0.003000302259915868), (4458, 0.0026433257475075938), (4459, 0.032879110752078985), (4460, 0.01141235605947355), (4461, 0.0021336413963280003), (4462, 0.0079744658036774), (4463, 0.013557044889893673), (4464, 0.0), (4465, 0.0025400878019067744), (4466, 0.0), (4467, 0.019148243414792397), (4468, 0.0), (4469, 0.0027691705289898303), (4470, 0.0117724281555265), (4471, 0.002350277664450177), (4472, 0.00896369137750581), (4473, 0.010698843923661045), (4474, 0.010267788343343565), (4475, 0.010268133485659926), (4476, 0.0018965233095615663), (4477, 0.010833424479162706), (4478, 0.0522891081383815), (4479, 0.010516654999408324), (4480, 0.032531494940593805), (4481, 0.006742188522858257), (4482, 0.006998866808130183), (4483, 0.04412561405446802), (4484, 0.0069700558204533625), (4485, 0.0), (4486, 0.03904214294836075), (4487, 0.0021835604569112113), (4488, 0.0), (4489, 0.005544505291516514), (4490, 0.002628406411478084), (4491, 0.00819913383123025), (4492, 0.010815342359139347), (4493, 0.0), (4494, 0.002503813138969294), (4495, 0.0023739446868289086), (4496, 0.0034468662470674184), (4497, 0.0023203991390609007), (4498, 0.004935832764828484), (4499, 0.0), (4500, 0.0), (4501, 0.002239189101374732), (4502, 0.0020242425239738945), (4503, 0.00935201023601486), (4504, 0.008949762534372437), (4505, 0.002345986203768519), (4506, 0.0035953374079914315), (4507, 0.006004644577974739), (4508, 0.0), (4509, 0.0), (4510, 0.009767253843424353), (4511, 0.02064191518164859), (4512, 0.008443254266800284), (4513, 0.0), (4514, 0.023578785030901838), (4515, 0.016237473047799697), (4516, 0.002541473526882235), (4517, 0.002229743012552211), (4518, 0.0), (4519, 0.011141646038930178), (4520, 0.0021940308679734314), (4521, 0.012171970838708909), (4522, 0.005697058505543966), (4523, 0.008870546808956901), (4524, 0.03510044731073289), (4525, 0.0), (4526, 0.0), (4527, 0.0), (4528, 0.002406943387272194), (4529, 0.002971654897908856), (4530, 0.005112692262298866), (4531, 0.036893672984197566), (4532, 0.0), (4533, 0.002268299306254099), (4534, 0.0), (4535, 0.03168280055559357), (4536, 0.0021174725557682036), (4537, 0.003919974280901967), (4538, 0.0), (4539, 0.0), (4540, 0.0023814528126517307), (4541, 0.039377297371331), (4542, 0.010427388271003948), (4543, 0.0), (4544, 0.002764843065157576), (4545, 0.002398422660187793), (4546, 0.02883743003100573), (4547, 0.0), (4548, 0.006614873333651121), (4549, 0.007828111814035279), (4550, 0.034369078746547835), (4551, 0.01807175342455628), (4552, 0.0031214066304300235), (4553, 0.00951030497823271), (4554, 0.0576034918559826), (4555, 0.007878960666206603), (4556, 0.00942304369641219), (4557, 0.0031943632291728473), (4558, 0.017579059198177753), (4559, 0.0), (4560, 0.012988709012253385), (4561, 0.0), (4562, 0.003741036762315844), (4563, 0.002272692645220145), (4564, 0.020748517696985998), (4565, 0.0), (4566, 0.021737741162997627), (4567, 0.0021182425387950643), (4568, 0.013191440949092696), (4569, 0.0), (4570, 0.0035998049971222848), (4571, 0.02028091104326766), (4572, 0.02294848780621511), (4573, 0.0021485523538185575), (4574, 0.002373079160424439), (4575, 0.002345038065896607), (4576, 0.037575675945030244), (4577, 0.0027650088764245356), (4578, 0.0), (4579, 0.002388934294372911), (4580, 0.0033604180783953375), (4581, 0.0), (4582, 0.0), (4583, 0.0), (4584, 0.024419657699894178), (4585, 0.0), (4586, 0.00784652688110083), (4587, 0.007181810516339944), (4588, 0.0), (4589, 0.019113010805031083), (4590, 0.015050877555442977), (4591, 0.01217694342701707), (4592, 0.010036810346779076), (4593, 0.002464496946229717), (4594, 0.010922272042543998), (4595, 0.0), (4596, 0.03533085760375822), (4597, 0.0), (4598, 0.001738780927020633), (4599, 0.006908585680125729), (4600, 0.01706783922948635), (4601, 0.00242587925166462), (4602, 0.002431683889940337), (4603, 0.015585744109554479), (4604, 0.0093230094579226), (4605, 0.04333974606662459), (4606, 0.002805876719148698), (4607, 0.0032183696690608085), (4608, 0.001966786731675912), (4609, 0.0030321029373256993), (4610, 0.02315115679577542), (4611, 0.0029541882801171365), (4612, 0.011543911765943889), (4613, 0.05569505447965799), (4614, 0.0021169955857770328), (4615, 0.0), (4616, 0.0020473512314870554), (4617, 0.0030312517907238644), (4618, 0.0), (4619, 0.0024453610009759342), (4620, 0.008910015505290005), (4621, 0.007373908838120494), (4622, 0.003196549235722604), (4623, 0.0), (4624, 0.025025103047279652), (4625, 0.002301251728423918), (4626, 0.0017918900698225713), (4627, 0.00448574095600623), (4628, 0.025212728945524183), (4629, 0.00967342541527267), (4630, 0.0), (4631, 0.0036569277103062786), (4632, 0.002612936562525097), (4633, 0.006143743730313374), (4634, 0.008652659969423304), (4635, 0.040124932585322626), (4636, 0.0044085482434276626), (4637, 0.002629905985543922), (4638, 0.02540525728067827), (4639, 0.0), (4640, 0.02835902075256691), (4641, 0.0021650946188458667), (4642, 0.0), (4643, 0.0022797942176280865), (4644, 0.0), (4645, 0.0), (4646, 0.008997146573121768), (4647, 0.00910407945106961), (4648, 0.003114379393888933), (4649, 0.03993244648635673), (4650, 0.006024646230737287), (4651, 0.0), (4652, 0.023558688949764234), (4653, 0.0), (4654, 0.040101128467903716), (4655, 0.0031875064625849006), (4656, 0.0), (4657, 0.002383675839033035), (4658, 0.026736371894479197), (4659, 0.02601560985197089), (4660, 0.011434642650682563), (4661, 0.008644080163020368), (4662, 0.02238171159240025), (4663, 0.0), (4664, 0.0), (4665, 0.010787305638516171), (4666, 0.0), (4667, 0.0028161639788316477), (4668, 0.002183835921710062), (4669, 0.028572179192934706), (4670, 0.0021230351337872566), (4671, 0.0), (4672, 0.0), (4673, 0.024160309588425116), (4674, 0.013115351780516139), (4675, 0.011550327816955305), (4676, 0.0), (4677, 0.0022401196196912324), (4678, 0.0), (4679, 0.020981031031043144), (4680, 0.031910064464415674), (4681, 0.0), (4682, 0.024834681174045033), (4683, 0.0), (4684, 0.0), (4685, 0.020375548352574824), (4686, 0.009329454998519822), (4687, 0.009067035471804884), (4688, 0.013789683992896574), (4689, 0.006439008287774114), (4690, 0.00989080711447865), (4691, 0.0), (4692, 0.012172815474440182), (4693, 0.0021528864722107216), (4694, 0.002604131604381214), (4695, 0.019536314179284135), (4696, 0.0029035831721139723), (4697, 0.0), (4698, 0.0), (4699, 0.002500652883934408), (4700, 0.04279824062185153), (4701, 0.011622460150137993), (4702, 0.010709720225495276), (4703, 0.008076352815686938), (4704, 0.025544386459834915), (4705, 0.0031687870128386544), (4706, 0.005807963388675955), (4707, 0.0), (4708, 0.0), (4709, 0.010242503139105148), (4710, 0.0028015013802585), (4711, 0.0035542177334648714), (4712, 0.0019965614572595852), (4713, 0.0025656639520269114), (4714, 0.0), (4715, 0.0022220546153672513), (4716, 0.007809804175881518), (4717, 0.006172826719095446), (4718, 0.002485692891231194), (4719, 0.04315020375867387), (4720, 0.003655069186477363), (4721, 0.01728465702577967), (4722, 0.01874107546522939), (4723, 0.002709842702831716), (4724, 0.0027320919528065596), (4725, 0.014909589077306624), (4726, 0.00936363840159085), (4727, 0.0), (4728, 0.018612054065259672), (4729, 0.04410110931189049), (4730, 0.0), (4731, 0.0025093602882921002), (4732, 0.0381215811240884), (4733, 0.0018492834329836634), (4734, 0.005649573272951365), (4735, 0.013511958290326935), (4736, 0.0), (4737, 0.003414498299798885), (4738, 0.025357108110690602), (4739, 0.027931393560539145), (4740, 0.0), (4741, 0.0), (4742, 0.0), (4743, 0.00216252438145801), (4744, 0.011697719170331357), (4745, 0.0), (4746, 0.0034155837273688724), (4747, 0.008672261351180002), (4748, 0.017974146305244756), (4749, 0.002974402910632118), (4750, 0.0), (4751, 0.0), (4752, 0.006642256098044413), (4753, 0.0025272375010446154), (4754, 0.05790721474396053), (4755, 0.014680507100412615), (4756, 0.005426196844276155), (4757, 0.0023274775750218757), (4758, 0.0), (4759, 0.0)]\n"
          ]
        }
      ]
    },
    {
      "cell_type": "code",
      "source": [
        "len(recommendation_score)"
      ],
      "metadata": {
        "colab": {
          "base_uri": "https://localhost:8080/"
        },
        "id": "HlgdF6xWUI5F",
        "outputId": "90e169a9-734b-4936-a505-63baba496946"
      },
      "execution_count": 42,
      "outputs": [
        {
          "output_type": "execute_result",
          "data": {
            "text/plain": [
              "4760"
            ]
          },
          "metadata": {},
          "execution_count": 42
        }
      ]
    },
    {
      "cell_type": "markdown",
      "source": [
        "# SORTING MOVIES BASED ON RECOMMENDATION SCORE"
      ],
      "metadata": {
        "id": "4jIFiLQqUOun"
      }
    },
    {
      "cell_type": "code",
      "source": [
        "similar_movies = sorted(recommendation_score, key = lambda x:x[1], reverse = True)\n",
        "print(similar_movies)"
      ],
      "metadata": {
        "colab": {
          "base_uri": "https://localhost:8080/"
        },
        "id": "7nvIEjA9UOXV",
        "outputId": "26c557f7-edee-42cb-8d36-edbd06366900"
      },
      "execution_count": 43,
      "outputs": [
        {
          "output_type": "stream",
          "name": "stdout",
          "text": [
            "[(82, 1.0000000000000002), (336, 0.26818408564519874), (250, 0.19812028537819673), (37, 0.18234695811184984), (329, 0.1344736617925729), (269, 0.12911327831723296), (706, 0.12040517211306964), (609, 0.11951612736746703), (1051, 0.11682311384304206), (3326, 0.10865988558522052), (2301, 0.10833425633590318), (1319, 0.10828613324371975), (3027, 0.1078500487084248), (1403, 0.10572135634345789), (3661, 0.10565577544785766), (1934, 0.10483503988157394), (4334, 0.10322494945883506), (62, 0.10195035314241438), (3141, 0.09857979489502765), (1637, 0.09793083479891268), (3541, 0.0960014755838248), (973, 0.09502089216984416), (1157, 0.09480138438297248), (4240, 0.0918199001606036), (3875, 0.09167989603782749), (2237, 0.08973900987083394), (2114, 0.08910131479253584), (1843, 0.0871904897779976), (899, 0.08647839554801404), (1351, 0.08533876177745184), (1902, 0.08469712605112578), (22, 0.08297960923957727), (1103, 0.08257926227344962), (1555, 0.08162044539652123), (1090, 0.08148940798299108), (2944, 0.08130881492297935), (2878, 0.08011149707583853), (594, 0.07903126659069114), (3362, 0.07894868953110804), (407, 0.07840587632707778), (3157, 0.07722484494382616), (3558, 0.0764651947226723), (328, 0.07629295747307155), (108, 0.07591481892578444), (3346, 0.07485352896130446), (766, 0.07481297956325705), (949, 0.07459337149766194), (433, 0.07448425197329456), (1682, 0.07419693078403014), (660, 0.07404628125477139), (4319, 0.07287769537294238), (1788, 0.07255792828976798), (849, 0.07204289379540252), (2811, 0.07201063700346005), (2857, 0.07198696415563928), (3115, 0.0715122754505491), (301, 0.07145742365578135), (1571, 0.071408891640257), (1254, 0.07135909046661702), (476, 0.07130976770748614), (252, 0.07102288531054712), (463, 0.07093964305622033), (317, 0.07020819595692923), (16, 0.06948533331376533), (3119, 0.06943843104419822), (1760, 0.06936519254349717), (907, 0.06899887476695521), (4064, 0.06896838168730902), (3980, 0.06866696453144473), (814, 0.0685964307767893), (3464, 0.068046304527671), (1489, 0.06782216633776367), (850, 0.06750454289247816), (1095, 0.06733296211135009), (866, 0.0669520055008451), (228, 0.06685760073059965), (4203, 0.0665003550769699), (3244, 0.06643278574901776), (4218, 0.066315983590736), (74, 0.06581626828973006), (1006, 0.06578440332374323), (1033, 0.06571341016924383), (1743, 0.0655599902247022), (482, 0.06545688120276845), (705, 0.06514131143277978), (8, 0.06512918967471579), (3475, 0.0643493711934496), (2046, 0.06402773066745508), (1218, 0.06387007435619232), (1708, 0.06363961147542993), (3656, 0.06354745546208626), (3864, 0.06353614651900263), (1467, 0.06326917286529468), (3890, 0.0629644777804639), (1903, 0.06296117258717349), (4007, 0.06295893275472553), (2056, 0.0628722761566752), (776, 0.06139905391503392), (2177, 0.06136309116601164), (1463, 0.06127048621241262), (3518, 0.06095532868361121), (1935, 0.060754359293718245), (1612, 0.06052158070276585), (527, 0.059961595072542895), (2037, 0.05989866350459347), (3599, 0.059881431150471856), (2033, 0.05981368920141275), (361, 0.05980669520774839), (2510, 0.05977378474128741), (1409, 0.05960354728653221), (2513, 0.05953782233434271), (3575, 0.05900534991240966), (957, 0.058920664776475756), (3108, 0.05884285924170239), (50, 0.058702744277428213), (2202, 0.05816133141384383), (1075, 0.05812459964592508), (1291, 0.05805987034706219), (1690, 0.05800262442072705), (399, 0.057980877236014645), (658, 0.05791084177422105), (4754, 0.05790721474396053), (821, 0.057723543473654756), (4554, 0.0576034918559826), (4059, 0.057430015985365845), (3140, 0.05713232244880355), (343, 0.05704748630913682), (3420, 0.05675258974174868), (2876, 0.05665406914405481), (286, 0.056464658004265755), (1951, 0.056264030837701734), (511, 0.056119941767397874), (924, 0.055935879847063365), (32, 0.055912867854111), (4613, 0.05569505447965799), (4351, 0.05566201553693914), (357, 0.05565841278429999), (772, 0.05563330259970304), (1919, 0.05531753443799563), (3470, 0.05489688892943199), (968, 0.05485822607475715), (553, 0.05482144676335107), (1376, 0.054670749054923244), (794, 0.05423080256827405), (2985, 0.05420869545730367), (365, 0.0541796544438341), (3039, 0.05400914862725046), (2101, 0.053899724715175915), (3718, 0.05388614731177705), (437, 0.053876463525513146), (4232, 0.05386528425460531), (679, 0.05382906467273348), (1017, 0.053785335041451665), (1798, 0.05372963700630651), (2052, 0.05369439755604835), (436, 0.05344775879863707), (2068, 0.053428071151248764), (1270, 0.05337750493914299), (689, 0.05331239338740337), (3294, 0.05316335314813643), (1232, 0.05308584281426931), (1273, 0.05305478210882615), (757, 0.05304795289900808), (3425, 0.05299470052574188), (2121, 0.05292113420327557), (1002, 0.052900983821567465), (2699, 0.05283997034145133), (1816, 0.05276661033722116), (967, 0.05274206019966857), (1107, 0.05265642474608798), (648, 0.052642237117839816), (2582, 0.052607630904219896), (2616, 0.05250523886301309), (3010, 0.052461245263158277), (1227, 0.0524521053789988), (2000, 0.05244055612475188), (1538, 0.05233878718343513), (4478, 0.0522891081383815), (715, 0.0521763434465717), (193, 0.05216960472948921), (113, 0.05192090919941388), (665, 0.051851060467691744), (2485, 0.05174312673503663), (2102, 0.05172031831937553), (2532, 0.05159770273685741), (4267, 0.051587646421734475), (3409, 0.051577137510545795), (230, 0.051575240607365354), (2713, 0.05154058270308325), (2601, 0.051469496596810535), (313, 0.051356086789704304), (4061, 0.05134863962000963), (3461, 0.051316144750165334), (1249, 0.05131273566379187), (1505, 0.051215402719322005), (895, 0.0511762825094327), (2814, 0.05108297541406827), (2981, 0.051033596587708285), (1867, 0.050996386511502116), (3, 0.05096327702173866), (3162, 0.0506428941514072), (1957, 0.05054537636215201), (330, 0.050529333189579605), (1191, 0.050506629439176456), (934, 0.05049868589193265), (853, 0.05038322768701203), (3698, 0.05026047609984098), (788, 0.05015685813688492), (212, 0.050098381657246574), (909, 0.05002388145273258), (2660, 0.049952514768203726), (551, 0.049887061957831116), (0, 0.04974276816812963), (3736, 0.04961036640316331), (3671, 0.049276644177954784), (2846, 0.04891393729091669), (952, 0.0489053708453628), (2560, 0.04876259746901632), (1789, 0.048671079346605396), (2591, 0.04855213637927783), (4388, 0.048521148434889305), (130, 0.04841833283434294), (1638, 0.048377887031981225), (1809, 0.04771635188060902), (3111, 0.047714830340553), (2721, 0.047548509630728944), (1913, 0.047445462595018244), (787, 0.04739115315952674), (3182, 0.047311618333846645), (3751, 0.047298549576924476), (1290, 0.04728319969464704), (4210, 0.047280267974145924), (863, 0.04726753073542431), (1336, 0.04719595438941005), (194, 0.04709221117686431), (2421, 0.04703770751589146), (182, 0.04699453417022588), (2221, 0.04693427418660609), (496, 0.046896705718003945), (1722, 0.04681619849414357), (3536, 0.04671942397199031), (1787, 0.046682775595867115), (2027, 0.046641224467239076), (566, 0.04660427452286388), (2587, 0.04651071658897528), (2654, 0.04649816884436277), (2884, 0.04648098958504742), (3205, 0.046417730762354704), (3508, 0.04637801731910944), (692, 0.04635682035955131), (131, 0.04613568313567935), (1465, 0.04610508355323297), (3094, 0.04607259381337961), (616, 0.045986043812070235), (1216, 0.045947978033200394), (600, 0.045879854415233734), (2816, 0.045813774351830386), (60, 0.045766146323441795), (2321, 0.04574300666180419), (3347, 0.04573818340190592), (2712, 0.04570976621837185), (2236, 0.04562613634262418), (2557, 0.04558041693257449), (1818, 0.04554689205535691), (1477, 0.0455430286234436), (1255, 0.045521798501737196), (2186, 0.045476338478230606), (748, 0.04515603621973267), (2552, 0.0450741514476469), (3028, 0.04502466619237595), (1707, 0.04462929278378156), (2505, 0.04457878408096905), (341, 0.04457143770602476), (2644, 0.04444284589190082), (567, 0.04442328019982026), (4324, 0.04441799117597861), (2161, 0.044356453513320036), (2799, 0.04430718487369511), (2633, 0.04427889547930934), (1114, 0.04424381946730478), (1700, 0.04423280432434453), (2329, 0.04423052855755979), (1812, 0.044219862028554976), (2550, 0.044185203836963144), (719, 0.04415381096297161), (659, 0.0441417126914), (4404, 0.044126255640182036), (4483, 0.04412561405446802), (4729, 0.04410110931189049), (2892, 0.04409449843735333), (2859, 0.04402664644194163), (2845, 0.043969155925748106), (2766, 0.04383758070864525), (1800, 0.04376369377786477), (3480, 0.0437291959273567), (859, 0.04371135857158403), (1646, 0.04370944793465525), (1278, 0.0437007615042805), (4314, 0.043697214831911926), (1781, 0.04358793806739185), (1948, 0.043573291454659456), (57, 0.04347471904844719), (1551, 0.04345699976566316), (2376, 0.043407606480035124), (1195, 0.04340531387630125), (2430, 0.04339634109969343), (1164, 0.04336519938101661), (867, 0.04335455274173), (4605, 0.04333974606662459), (731, 0.043178607755333116), (4719, 0.04315020375867387), (1214, 0.043087642806962194), (2998, 0.04302561276272332), (1779, 0.04298541560423461), (39, 0.0429775009084177), (1500, 0.042930273257200835), (4700, 0.04279824062185153), (3449, 0.04267770376172927), (4052, 0.04265766899045558), (561, 0.042504066649265954), (2656, 0.042431609241590985), (2802, 0.042388010677317), (1654, 0.04235994060317023), (3517, 0.0423205213963055), (1162, 0.042289604911226866), (1723, 0.04222598740276589), (3626, 0.042207396092623195), (3528, 0.04218630069804815), (2474, 0.04214343794073043), (555, 0.0421026981733293), (1068, 0.041814654370563566), (2844, 0.041713425829866056), (1478, 0.04158650909924848), (583, 0.041441770151003476), (1316, 0.041394737896019065), (452, 0.04137174785941026), (1511, 0.04129200777074893), (173, 0.041273870050153046), (1669, 0.041218943566575066), (3743, 0.04117238562716249), (2109, 0.04116016843240331), (1345, 0.041078378327244446), (1220, 0.04102539204718822), (4156, 0.0409597067537714), (1698, 0.04090436514465774), (568, 0.04081406124623546), (222, 0.04079345516219897), (377, 0.04069295909000041), (4032, 0.04068478582610444), (3239, 0.04066816846501153), (538, 0.04065777092937066), (737, 0.04058025052070223), (3299, 0.04055916340092595), (1305, 0.04047470610442956), (3018, 0.04046111001582932), (2688, 0.040431119608546076), (528, 0.040308135065693355), (1329, 0.040280807583590435), (1361, 0.04021202831587037), (4635, 0.040124932585322626), (401, 0.04012174387859801), (4654, 0.040101128467903716), (1473, 0.04009678722104037), (67, 0.04001803185839743), (412, 0.04000198118693636), (3903, 0.039937182215421356), (3587, 0.039936203038529225), (4649, 0.03993244648635673), (358, 0.03985499056613883), (162, 0.0398043445096791), (3846, 0.03948875018953532), (406, 0.03948474140640147), (893, 0.039401687398021336), (843, 0.03939367035941493), (3240, 0.03938300700703634), (4541, 0.039377297371331), (620, 0.03935891280875631), (1369, 0.039315718470838236), (2087, 0.039166817555047195), (524, 0.0390649114072952), (2964, 0.03906232843948693), (597, 0.03905765363461071), (4486, 0.03904214294836075), (4074, 0.039035526407965974), (2563, 0.03903419447931096), (651, 0.038979689465537926), (1069, 0.03895494559730305), (3867, 0.03879131640390188), (1267, 0.03876828422042764), (3456, 0.03876451620694572), (1257, 0.038717862973348394), (710, 0.038674069513421644), (1714, 0.03861162877927914), (109, 0.038583171883882675), (966, 0.038552981548624146), (3913, 0.03854712301086734), (1553, 0.03848961860282917), (1022, 0.038488028798860936), (2762, 0.038425166063206326), (3207, 0.03839857631923821), (507, 0.03838630960862214), (2145, 0.038275974125783756), (1443, 0.038251029511396556), (1239, 0.03825011270857924), (684, 0.03818032796395701), (4732, 0.0381215811240884), (1365, 0.03811717987562296), (3253, 0.03810520303561497), (2602, 0.03809563788635881), (938, 0.03808608272006965), (3237, 0.03806477442383116), (35, 0.03804688196806073), (98, 0.03798452061468776), (251, 0.03796315329669022), (3753, 0.037848562700275167), (3009, 0.0378472186599767), (1871, 0.03783325206939015), (197, 0.03781088481039151), (2154, 0.03778410483841443), (981, 0.0377789151530833), (1461, 0.037767755679645396), (3673, 0.037718184683788805), (1881, 0.037662001211244016), (1693, 0.03765829382266941), (1096, 0.03765020531066647), (2074, 0.03764817306757766), (3502, 0.03761168691083928), (3297, 0.03760333044800787), (4576, 0.037575675945030244), (1503, 0.037530730129812), (2103, 0.037525978655656184), (2901, 0.03751102073085346), (3067, 0.037510434800509154), (749, 0.03750529180714715), (3164, 0.03749589128326561), (465, 0.03741193199309521), (3147, 0.03739608008135708), (971, 0.03738638751124375), (4095, 0.03738142121128444), (145, 0.03728596724854537), (170, 0.037245777706225114), (1493, 0.03721462861905247), (2111, 0.03719799045744955), (1833, 0.03715088951262639), (3641, 0.03714764760645182), (4285, 0.03709293841974957), (1129, 0.03708883188322193), (702, 0.03703709219412731), (2055, 0.036993601545082445), (2817, 0.03695288293372772), (4136, 0.03693208571571709), (4531, 0.036893672984197566), (3713, 0.036864771300638796), (1109, 0.03684575941333343), (2867, 0.036842616834900255), (3304, 0.03683869734272193), (742, 0.0368155073901032), (2553, 0.03679830070358481), (582, 0.03679131981559366), (279, 0.03676417988080219), (203, 0.03670451452976871), (3596, 0.03665094140210197), (202, 0.036648182078606546), (2622, 0.03664199455458347), (3083, 0.03657870290909089), (3424, 0.036575689798426084), (3271, 0.036575612927170646), (2051, 0.036472625516043376), (1341, 0.03644633968190733), (3284, 0.03642396777693447), (3892, 0.03634222470494043), (4155, 0.03626631279674966), (164, 0.03623532530116723), (1105, 0.036209287401021965), (900, 0.03618430900773824), (635, 0.036169942155265145), (446, 0.03612654742410158), (78, 0.03607871659540986), (618, 0.0360644891470014), (2005, 0.036045091104912184), (246, 0.036023374420436266), (1658, 0.035992504812805214), (124, 0.0358772754225475), (1413, 0.03587165772536635), (2753, 0.03586111538446918), (2070, 0.03584499457975068), (1448, 0.03584379134082248), (2547, 0.03575204751540771), (1528, 0.035723650593580826), (615, 0.03557062188943137), (1983, 0.03556366040418225), (2279, 0.035547285424060805), (4062, 0.035532283597790495), (1420, 0.03551682650147568), (2966, 0.03551674765126018), (2187, 0.03547751933036803), (3579, 0.03546616112833615), (1401, 0.03538328767763243), (2678, 0.03535685424484643), (4596, 0.03533085760375822), (756, 0.03532313724340366), (1666, 0.03529241409660462), (1412, 0.03528844244051269), (3173, 0.035277337155755005), (697, 0.035259824231549663), (105, 0.03523426072169648), (1519, 0.03521437873907838), (707, 0.035160639370640304), (1338, 0.03512855923929982), (4524, 0.03510044731073289), (2726, 0.03509304192207006), (2673, 0.03501881868683843), (590, 0.03498779751190342), (3249, 0.03496531142863568), (1149, 0.03493168198559249), (775, 0.034929459582015834), (2009, 0.03488579803403112), (1923, 0.034880812113571844), (2763, 0.03484457085281757), (4013, 0.034841046641691374), (4446, 0.034742640150452676), (2503, 0.03472619461723258), (199, 0.03472257276794613), (1472, 0.03466082012892292), (2751, 0.034655949701672906), (1914, 0.03453417985296887), (142, 0.03453279906376276), (300, 0.03446997718508141), (1312, 0.03444519579419893), (1626, 0.03442830229609979), (3395, 0.034406838666896804), (1464, 0.034374211466328804), (4550, 0.034369078746547835), (451, 0.03436446629785518), (2443, 0.034346337646423294), (1941, 0.03433815353304395), (1140, 0.0342647824311548), (2951, 0.034165752803078125), (963, 0.034018447757799275), (3022, 0.03395163200112999), (4350, 0.03388885730851728), (2895, 0.03388225218137761), (2882, 0.033876598064020096), (2969, 0.033853238503731516), (263, 0.033747859422057776), (1650, 0.033746418703535466), (231, 0.03372788767508211), (3073, 0.033719415853787335), (1719, 0.03370724388328633), (906, 0.03369668002786341), (155, 0.033629362571414446), (2965, 0.03361400705112867), (3648, 0.03354971306776819), (741, 0.03350730838791559), (1778, 0.0332954183362861), (798, 0.033290245205301966), (3086, 0.033286511689543816), (4373, 0.03328511073679584), (1828, 0.033272913405967434), (97, 0.03323333660006072), (3969, 0.03323296877460371), (106, 0.03318617680176949), (1845, 0.03312018127997746), (1758, 0.03309828825102326), (144, 0.033087357401406406), (1608, 0.03308540130825982), (1860, 0.03301379096051779), (1422, 0.03295883889326953), (2309, 0.03294990034337717), (4459, 0.032879110752078985), (1053, 0.03280956578785434), (2014, 0.03274769642791749), (287, 0.03271628182503196), (14, 0.03266948730316483), (2193, 0.03264192723527165), (2690, 0.032592468466839844), (2040, 0.032588547897623485), (3265, 0.032582527201243244), (1510, 0.0325419886610615), (4480, 0.032531494940593805), (4038, 0.03252813864996634), (2718, 0.03251422012031461), (1071, 0.032487024233950425), (1582, 0.03247304584615653), (2076, 0.032440437038240066), (207, 0.03240428478056223), (1065, 0.032382927239449785), (792, 0.03236516219771621), (125, 0.032304816384124475), (912, 0.032294796024241304), (3730, 0.03227752547904589), (763, 0.032264885892711336), (2732, 0.032244569840626264), (1718, 0.032232819891509494), (324, 0.03221400397229369), (1861, 0.032181121930018576), (156, 0.03214186044054503), (762, 0.032135686935696885), (537, 0.0321207135845752), (174, 0.03211134019962089), (1043, 0.03205848311225244), (1759, 0.03204725427519492), (647, 0.03200512918030937), (985, 0.031979947873303216), (4025, 0.03197586451594357), (3942, 0.03193474413104813), (4680, 0.031910064464415674), (351, 0.03189317444877586), (3800, 0.03188099948020515), (2239, 0.031849028680765334), (3797, 0.03183448082642001), (1506, 0.031816990214926004), (1586, 0.031813039805576274), (2285, 0.03180484037962946), (3309, 0.031802707778287115), (4226, 0.03179600459956212), (758, 0.031788559196618965), (4355, 0.031771586619472096), (1453, 0.0317670627878679), (1494, 0.03175227471476385), (4158, 0.031725668468091744), (979, 0.03171337555623051), (3226, 0.03168559035796845), (2003, 0.03168462178626741), (4535, 0.03168280055559357), (768, 0.031637207680728585), (4401, 0.031626158915923894), (1014, 0.03160779233628684), (1890, 0.03159083710392783), (166, 0.03154298037590049), (1712, 0.031530585912177264), (2341, 0.03152430481095635), (1141, 0.031523895206844524), (765, 0.03147878656134247), (3477, 0.03147647365057576), (366, 0.03147349692877692), (2096, 0.031441240833383156), (1688, 0.03142926261520507), (1118, 0.03137160557070843), (3457, 0.03135801874663984), (1721, 0.03135545599182175), (1701, 0.0313545945747571), (1648, 0.03133796816138085), (208, 0.031317137924754435), (3064, 0.031185149401658778), (3667, 0.031158758992118257), (4205, 0.031143134748369904), (726, 0.0311198433819337), (470, 0.031111271875015167), (4344, 0.031109158168099206), (1394, 0.031020673892232172), (2509, 0.031018275636244853), (2650, 0.031008092936340232), (1526, 0.030985762057058597), (1713, 0.03097930936729148), (657, 0.030962546340977466), (2663, 0.03094916070283322), (1168, 0.030927404557364), (2143, 0.03092740370765951), (2980, 0.030875743630324463), (472, 0.03083978017323933), (1241, 0.03081373325796498), (2831, 0.030784131394214605), (3418, 0.03074045621164206), (807, 0.030737462346330954), (2042, 0.030735723845457905), (2545, 0.03073254327568191), (2640, 0.03069485135000453), (2729, 0.030638603666428278), (2774, 0.03059395185038215), (1253, 0.030537414872489115), (3689, 0.03034387473164467), (1696, 0.030339463263456712), (2182, 0.030331693241252213), (3336, 0.03029345725640036), (4017, 0.030274355753187234), (2868, 0.03026594860152029), (3422, 0.030214580408098646), (2546, 0.03021231847274714), (2175, 0.03015021873133015), (1936, 0.03014841831697293), (104, 0.030145103146556742), (1182, 0.03009615129350359), (3684, 0.030075667818683496), (2923, 0.030059166777262853), (3745, 0.030058778064285297), (1982, 0.030009767448404414), (2418, 0.029986310983978574), (192, 0.029935018509502483), (1172, 0.029921621594024866), (232, 0.029866596849495903), (838, 0.029850023490484913), (3458, 0.02976742246076913), (3681, 0.029757296449200794), (3407, 0.02969422323595282), (469, 0.02964010062170517), (1169, 0.029634676350844588), (396, 0.02961045652313976), (1425, 0.02958710788720662), (975, 0.02948620126031061), (4257, 0.029486015184953432), (1223, 0.029479730356586714), (4420, 0.0294785807126206), (2431, 0.029458770238059578), (1946, 0.029450377684822008), (309, 0.02943877829187106), (2696, 0.029417658120752463), (2222, 0.02941691755811708), (3657, 0.029405591745875363), (1994, 0.029388430728547743), (3612, 0.029377374850842304), (1222, 0.02937506593745235), (1572, 0.029351620570223384), (2922, 0.029344229778451723), (3801, 0.029308930831140237), (3408, 0.029264894816933215), (1192, 0.029137620504866013), (1471, 0.029136794920924716), (1692, 0.02910276518082278), (815, 0.02908144077128843), (881, 0.029036330957494152), (714, 0.029014941340926574), (3950, 0.029014697296421983), (44, 0.029010472996001645), (521, 0.02901046634230074), (1569, 0.029000737142006797), (1552, 0.0289633865311026), (2022, 0.02892355888551309), (100, 0.028920895399622847), (3865, 0.028917124932904065), (3670, 0.028904670635176048), (3303, 0.028903186842014535), (2156, 0.028872991089584098), (4546, 0.02883743003100573), (3616, 0.028801273842853876), (539, 0.028800036626027065), (3406, 0.028791096155181363), (2322, 0.028762166792297646), (1905, 0.028761367110995553), (2564, 0.02870366174482124), (4001, 0.028653559971793616), (185, 0.028639243504943103), (3360, 0.028633114069123486), (2769, 0.028615825688652084), (2668, 0.02861477831468267), (1985, 0.028585376101039284), (864, 0.028585256208024747), (356, 0.02857370211155471), (4669, 0.028572179192934706), (569, 0.028555319454773197), (817, 0.028545912893550185), (3151, 0.028535203714882062), (1348, 0.028524375985784854), (1418, 0.028498040991650576), (1495, 0.02848762968909773), (2445, 0.028476493154333447), (2019, 0.028449074824078248), (1988, 0.02844639423342511), (3152, 0.02839918517281642), (1864, 0.02837192704388197), (984, 0.028359982566455954), (4640, 0.02835902075256691), (1122, 0.028354302151182002), (2015, 0.0283496702662235), (2203, 0.028342815639155583), (283, 0.028321058920647787), (1786, 0.028309634706566326), (107, 0.02829161468287868), (1087, 0.028273439256422755), (2798, 0.02824053798199476), (1725, 0.028155981843885056), (1335, 0.02812779886552927), (1678, 0.028127524147293068), (856, 0.028121410070669955), (3909, 0.02811231782563584), (2473, 0.028093154753337984), (678, 0.02806088653684436), (1799, 0.02803166287582178), (785, 0.02801755087770959), (809, 0.02800842279999993), (3308, 0.027977800701306673), (2116, 0.02796508507046393), (3129, 0.02794401018359801), (2403, 0.02794252452775547), (4739, 0.027931393560539145), (2031, 0.02790298413581228), (4358, 0.027887384468658124), (1655, 0.027855275869520402), (418, 0.02784726915963638), (3515, 0.027826339426176752), (4338, 0.027817731262925707), (2708, 0.027808384265888476), (605, 0.02780101424240059), (1710, 0.027789043219729293), (3932, 0.02777787800578956), (1980, 0.02772595620126429), (363, 0.027720909366159497), (2427, 0.027720750937316713), (2422, 0.02770688058378533), (2250, 0.027624943995351387), (1452, 0.027577164086126434), (4335, 0.027524264225469747), (3208, 0.027520228601113805), (1206, 0.027423958565044225), (2853, 0.027398516826568305), (1208, 0.02739342571939737), (2423, 0.02735979772801781), (3654, 0.027355253650128846), (3213, 0.027351400156557952), (4089, 0.02731527625079266), (175, 0.027314515667052376), (1873, 0.027308857027294974), (119, 0.027284463556072773), (641, 0.027269523879452837), (2524, 0.027266544192459732), (847, 0.027252277444214552), (2446, 0.027247108281132828), (2442, 0.027238633096489523), (4299, 0.027231098639758547), (96, 0.02716557791843824), (2632, 0.027156642212736136), (2459, 0.0271543797283253), (3914, 0.02714653555698846), (1631, 0.02713142420304583), (2992, 0.027118344396760054), (1841, 0.02711771070233683), (943, 0.027093713042052273), (88, 0.027056589964681958), (183, 0.027053239164983665), (669, 0.026992671105428943), (2151, 0.026964704458049264), (3524, 0.026942411153627818), (87, 0.026928061528068526), (3784, 0.02692655925779054), (2249, 0.02691837717597019), (2160, 0.026917328861925913), (523, 0.026904424245862722), (122, 0.02688368952163018), (2625, 0.026868487731203077), (1124, 0.026862957095210263), (2481, 0.026843863754709964), (266, 0.026827737775840483), (2746, 0.026823339344744828), (2234, 0.02680785264013763), (3922, 0.026800254508987972), (1180, 0.026780551800444672), (1210, 0.026765887946374724), (1396, 0.02676566122624012), (655, 0.026763197785639993), (1382, 0.026744729706119928), (4658, 0.026736371894479197), (1773, 0.026729687886892645), (1762, 0.026723808189968827), (1969, 0.02671715269508572), (1034, 0.02671349979502278), (2060, 0.02670654634302301), (3866, 0.026697161307061783), (1746, 0.026697044339007273), (3754, 0.02668783726462049), (3822, 0.02668408984632783), (1266, 0.02659995062402564), (2436, 0.026561525038071816), (2488, 0.02653183720813524), (3410, 0.02652913753753567), (832, 0.026447100503909464), (1777, 0.026444093838667818), (3399, 0.026429527551072925), (136, 0.026395720856095428), (4051, 0.02637339512596437), (962, 0.02637021251404254), (4035, 0.02635851563101337), (2095, 0.026348068511986185), (1173, 0.026320167028100645), (2782, 0.026314672704840687), (3912, 0.026297127258632338), (3026, 0.026275968368041972), (3003, 0.026260492606244974), (3560, 0.026257896921108644), (2491, 0.02625116063242814), (1060, 0.0262490759739578), (1695, 0.026244955493728593), (694, 0.026231379698725233), (2004, 0.026217414441884735), (2744, 0.026211517269637864), (752, 0.026202297102378137), (1009, 0.026168620381048682), (3447, 0.026164967002793374), (1111, 0.026154130194579094), (2499, 0.02613176613638529), (4252, 0.02609266683367502), (664, 0.026070820951187276), (937, 0.026064833272007648), (2149, 0.02606330949286563), (3678, 0.02606193933087922), (56, 0.026058310653636493), (519, 0.026045341656131368), (2183, 0.026035381982284014), (4659, 0.02601560985197089), (1977, 0.02600122682668665), (2542, 0.02597304362169462), (2294, 0.025932770986945155), (2281, 0.025861831640072223), (3564, 0.02585496716627132), (2679, 0.025815110704984073), (2058, 0.025814022304451067), (1647, 0.025788978925118566), (285, 0.025717546396677147), (587, 0.025701450821241527), (1204, 0.0256906202245175), (1717, 0.025690505180095264), (1106, 0.025688931494792868), (2482, 0.02565039161530979), (1215, 0.025641229752102316), (4009, 0.02563101259546087), (225, 0.02562545285959734), (2494, 0.025622160816187227), (211, 0.025606494869334525), (272, 0.0256038676771487), (1517, 0.025594067268938713), (4704, 0.025544386459834915), (242, 0.02553964780345432), (2661, 0.025530762440001017), (4431, 0.0255220693580269), (147, 0.025520714342968247), (1201, 0.025487418491338287), (970, 0.025457615121836006), (829, 0.025431964282740197), (4638, 0.02540525728067827), (2942, 0.02538532829091425), (3057, 0.02538287148455406), (2568, 0.025382535837408647), (4738, 0.025357108110690602), (3611, 0.025348670441189724), (1668, 0.025348084082607764), (2870, 0.025348028017106533), (161, 0.02533812420425958), (3218, 0.02533607693313262), (711, 0.025332232037447718), (1360, 0.0253266842161622), (3771, 0.025312185673721087), (296, 0.025302786958869145), (2167, 0.025298110840115195), (117, 0.025289183673093723), (3439, 0.025284045861870982), (4201, 0.025276942558107366), (778, 0.02527544290244632), (547, 0.025256174573864174), (445, 0.025252504726801128), (4034, 0.02521552008976671), (91, 0.025213044874624852), (4628, 0.025212728945524183), (1213, 0.025202174977905306), (3228, 0.025186208799204045), (2931, 0.025156720701780044), (964, 0.02513346991437656), (265, 0.025123627800006324), (4234, 0.025110164892982113), (428, 0.025108135474891845), (2662, 0.025085449678787616), (2584, 0.025073166349511997), (150, 0.025071071479211414), (2793, 0.02506337567854721), (3065, 0.025055618243686253), (1165, 0.025030990398041915), (4624, 0.025025103047279652), (86, 0.02501264991452338), (4342, 0.02499083349248546), (2695, 0.024975680250930166), (1293, 0.02496460715600535), (1296, 0.024932615585358836), (713, 0.024924419236868296), (691, 0.024910779738188667), (454, 0.024878061614703437), (3811, 0.02486970264374048), (1738, 0.02485896434478886), (3919, 0.02484317954000468), (374, 0.02484127707481533), (4682, 0.024834681174045033), (1557, 0.024830636394266907), (1897, 0.02482854079127768), (2908, 0.024801022537915142), (2062, 0.02478235186074369), (2655, 0.02477964024283276), (599, 0.024763689790480957), (3412, 0.02476330337782849), (2340, 0.024747796973749618), (4172, 0.02471966387166192), (508, 0.024705873381834262), (3740, 0.024670361080727468), (1430, 0.02465517201176176), (2527, 0.024649488367979932), (3609, 0.024616419269192134), (1911, 0.024606018196746387), (2245, 0.024599068078917555), (1765, 0.02459755917497552), (1964, 0.024592957469694345), (1791, 0.02458152978812362), (2680, 0.024533321032734708), (3468, 0.024495639007323475), (2375, 0.02447606600821759), (2873, 0.02447466791546207), (2339, 0.02447458803864024), (2975, 0.02443246328490127), (4584, 0.024419657699894178), (862, 0.024393869138202903), (1136, 0.02438090088633112), (2707, 0.02437837409601985), (1748, 0.024318891677106477), (948, 0.024263560200029843), (3951, 0.02421604889927654), (4673, 0.024160309588425116), (3776, 0.024160022247521094), (2756, 0.024152443468380365), (1764, 0.024106330338703966), (4057, 0.02410563485014773), (1307, 0.024085517541973536), (3386, 0.02407990765095769), (1801, 0.02406868641205906), (889, 0.024064302989481673), (2936, 0.02403543093246901), (3238, 0.024030416837435734), (3858, 0.024017470243033873), (1334, 0.02399013645070441), (874, 0.023982961797501305), (4114, 0.023978531200589476), (2036, 0.023965487483596427), (3095, 0.023919392674611024), (4305, 0.02391223434549277), (1539, 0.023876337087407096), (1251, 0.023874926787774822), (1475, 0.02387221510170178), (545, 0.02382361409021762), (2920, 0.02379867821381254), (1766, 0.023798580137454863), (414, 0.023772950965481935), (1486, 0.02373143700751875), (4217, 0.02372153277303782), (75, 0.023707669985133017), (995, 0.023688747096784757), (1116, 0.02368510182395739), (1178, 0.023660795267382743), (3344, 0.02361827803063991), (346, 0.02361460506083463), (1583, 0.02360821662044231), (3483, 0.023589456754510733), (3056, 0.023585425268228516), (2638, 0.02358047840589173), (4514, 0.023578785030901838), (403, 0.023571782133991005), (1863, 0.02356177744169097), (4652, 0.023558688949764234), (2665, 0.023554227340713836), (1166, 0.023536759822825885), (2623, 0.023514623851515964), (3279, 0.02344315791474085), (1310, 0.023442010310680755), (840, 0.023411328785057802), (2738, 0.023389356400422032), (1144, 0.023388835300753155), (94, 0.02338820620613609), (1568, 0.023372025845580367), (2740, 0.023367387948284433), (1715, 0.023363209774135446), (4086, 0.023337162697767002), (3957, 0.023317298492655195), (2581, 0.023306047691733306), (1942, 0.02329773094743387), (1104, 0.023290096365315576), (4047, 0.023271405692027902), (4312, 0.0232589051394917), (2291, 0.023234614492533306), (2805, 0.02321687897101209), (1870, 0.02321418925464922), (3902, 0.023212534262719332), (1094, 0.023188256337077166), (3787, 0.023158325557250645), (4610, 0.02315115679577542), (4162, 0.023127075225410253), (3825, 0.02310822502957099), (4055, 0.023084757876633742), (2364, 0.023067119000517236), (3084, 0.023025703077423073), (3633, 0.02302343436337972), (2351, 0.02300130240275657), (441, 0.022981483752465177), (7, 0.022965040921521483), (4367, 0.02296145503908406), (4572, 0.02294848780621511), (2071, 0.02294135825247759), (4106, 0.02291398638573036), (2112, 0.022906352340165477), (3246, 0.022782803455811778), (1446, 0.02277412095242772), (3444, 0.022723650369365567), (4110, 0.022715032512188524), (4197, 0.02271259312718242), (3417, 0.022711419629045024), (1098, 0.022710437039195137), (1806, 0.02270380957809898), (221, 0.022690375331521823), (1709, 0.022668937922824654), (2761, 0.02265335921754687), (464, 0.022634939584956472), (3578, 0.02263480770314657), (342, 0.02260831866960788), (3224, 0.022602641657617894), (1193, 0.022598771356189627), (2706, 0.022593456572908503), (3779, 0.022579013304987506), (1247, 0.022571830349779984), (672, 0.022565707988041726), (2565, 0.022523653652713208), (1175, 0.022500067860333105), (277, 0.022497582918968136), (1303, 0.022490313544581326), (2320, 0.02248424566103776), (2144, 0.02247330644168277), (4141, 0.02244887588719194), (3194, 0.0224477618474734), (1878, 0.022438576640129375), (926, 0.02243065471712487), (2303, 0.022413734210643653), (1152, 0.022403062883132836), (2812, 0.022396784337076037), (4662, 0.02238171159240025), (1445, 0.02237601000037981), (852, 0.022370564987127105), (3403, 0.022368668940921575), (708, 0.022250686284986554), (808, 0.022196476360965032), (4409, 0.022163068402038463), (3184, 0.022148203958430427), (3397, 0.02213083101699001), (3987, 0.02212287316448428), (1619, 0.022116991434454603), (2174, 0.022083974272317418), (293, 0.022060105025487227), (4403, 0.02203376587182563), (85, 0.022029497374051535), (2406, 0.021963613097501427), (4171, 0.021927091933717894), (2387, 0.021917602741117873), (3264, 0.021914001308572243), (2043, 0.02189729524294306), (1888, 0.02188793242418737), (3389, 0.02185699945072666), (1756, 0.02185368446969811), (2487, 0.021838733372136133), (2284, 0.02182699551035417), (177, 0.02181842933128384), (4369, 0.02180614183666923), (310, 0.021805598394738127), (214, 0.021804980145808988), (1308, 0.021803594279241608), (1660, 0.02180233238920382), (2759, 0.02178521712820522), (159, 0.02176576553036532), (3354, 0.02176471039366023), (890, 0.02176274734684337), (935, 0.02175202033371761), (3752, 0.021743358197133737), (4566, 0.021737741162997627), (288, 0.021735428851857704), (3384, 0.021732692863378006), (3970, 0.021706707649422993), (2586, 0.021705972563354936), (273, 0.021695645540156155), (958, 0.02165717679813045), (1594, 0.021654535490429793), (4070, 0.021652549641460836), (3733, 0.021649494090003163), (2730, 0.021628717717195416), (3954, 0.021611988830012065), (2081, 0.021589153326803383), (3926, 0.02158344524484809), (385, 0.021579458553004784), (1992, 0.021571486459144557), (1048, 0.021566561920324204), (4099, 0.021543127755130696), (3033, 0.021536607232243276), (4291, 0.02153610738270236), (3722, 0.021534276728431286), (4282, 0.021527078534169828), (1084, 0.021523197621934997), (1501, 0.021521540799714998), (19, 0.021495994536169065), (471, 0.021490343089237793), (3043, 0.021456664131242642), (2534, 0.021450911245920926), (2012, 0.021448480685895156), (110, 0.021405639130273026), (1238, 0.02140192371653482), (1924, 0.02136191383646892), (3096, 0.021361053691640604), (1198, 0.021347800745370113), (3222, 0.021339421688105778), (3823, 0.021339088831443444), (631, 0.02133877844357211), (589, 0.02132731115119297), (3328, 0.021327240377616307), (3647, 0.02132564813606344), (2498, 0.02132417234194759), (921, 0.021312102463175504), (1986, 0.021311224434531224), (1675, 0.021304659873247866), (3401, 0.021297776714023418), (3829, 0.021286359824909885), (3008, 0.021259098776591073), (1005, 0.021256759776911785), (2977, 0.02124989337733435), (486, 0.021249392666577407), (2399, 0.021242324614866467), (1392, 0.021230129643429015), (4189, 0.021228770250258655), (2604, 0.021214211915656596), (443, 0.02120603137405719), (1077, 0.0212023083490218), (1359, 0.0211901200565783), (4303, 0.021152375630807206), (2954, 0.02114769474086468), (3705, 0.021146766222412187), (3234, 0.021140697724367115), (2318, 0.02113223808509143), (368, 0.021130033093738593), (1605, 0.02111268659748391), (1842, 0.021101014884754885), (2045, 0.021091603886853355), (3643, 0.021083674217444993), (353, 0.021078056325381785), (3066, 0.02105357580967435), (3319, 0.02104155470648398), (2277, 0.02103782212217709), (1089, 0.021031363430443456), (676, 0.021013638731603494), (3973, 0.02099574786649868), (4679, 0.020981031031043144), (2851, 0.020979338422468036), (1004, 0.020946590645784587), (209, 0.02094175595029093), (2016, 0.0209175112452744), (897, 0.02091158996309345), (2118, 0.020879606069524128), (734, 0.0208655760599699), (3335, 0.020834785443050063), (3998, 0.02076025777767317), (1433, 0.020755490023072656), (4564, 0.020748517696985998), (449, 0.020710480871488593), (280, 0.020699490958059383), (791, 0.020699046498045107), (4448, 0.020698435203381462), (79, 0.02068904050002241), (2185, 0.020671545522100612), (901, 0.020661259361156138), (2531, 0.02065571053292493), (733, 0.020648560564282756), (4511, 0.02064191518164859), (1384, 0.020625558784144515), (1411, 0.02061994056412549), (1102, 0.020615076429139463), (2276, 0.02060880634331362), (4329, 0.020600486182497497), (4031, 0.02057806042278034), (1630, 0.020541233103148197), (883, 0.020525051563678853), (834, 0.02051467139448001), (1549, 0.020513686300695368), (249, 0.02050948426461277), (169, 0.020501551929038204), (1652, 0.020493879761734744), (4272, 0.020443108320676456), (340, 0.020431728698755956), (4077, 0.02042565545713832), (477, 0.020415675463114805), (2463, 0.020400059734557732), (2013, 0.020391915084784166), (4685, 0.020375548352574824), (1807, 0.020356894597079997), (811, 0.020356229801263476), (3046, 0.020355219193169294), (653, 0.02034714945124908), (3646, 0.02031695170587094), (2412, 0.020306235162392723), (870, 0.02029340467493461), (381, 0.02028928245402895), (4571, 0.02028091104326766), (1306, 0.02027332626750601), (1026, 0.020234666801326223), (846, 0.02022214544556583), (2698, 0.020220452452774575), (2801, 0.020192094382049636), (64, 0.020191599613000683), (4175, 0.020182460721380684), (2933, 0.020182169994747864), (292, 0.020135612766977368), (3886, 0.020114320359104255), (643, 0.02011094378144523), (2808, 0.02011000425333574), (3993, 0.02009802552066395), (936, 0.020046566183597164), (369, 0.0200407183852329), (2897, 0.020005414758227737), (2874, 0.01999970154947462), (4436, 0.019989184987726828), (1155, 0.01998628011447984), (2927, 0.019973310503157354), (4307, 0.01996737368905769), (916, 0.019967074311928977), (2603, 0.019959841506275756), (3826, 0.019952136298901336), (3393, 0.019919466270108797), (782, 0.019914923481963723), (2211, 0.019913168871133397), (4139, 0.01991260576904725), (1579, 0.019898911330057473), (3504, 0.019878411087105752), (2917, 0.019831637149598756), (3639, 0.019784604470436576), (1757, 0.019764196694225637), (29, 0.019763527568739038), (3557, 0.019758946736883908), (3921, 0.0197326814613378), (1292, 0.019729463458834896), (3780, 0.019726349143989904), (3546, 0.01972474030246951), (1550, 0.019722400404345586), (4108, 0.01969739436636375), (2319, 0.019690209539233648), (3221, 0.019688650647733428), (3685, 0.01968261449573472), (4066, 0.019665134259852085), (25, 0.01965851320310852), (4182, 0.01965809606672476), (237, 0.019650476934350746), (637, 0.019627663736666533), (1032, 0.01961860850364156), (506, 0.01958253287604858), (243, 0.019579326627438803), (1038, 0.01955906519860843), (835, 0.019555816348917027), (4290, 0.01953896321268539), (4695, 0.019536314179284135), (3334, 0.019522374026524545), (3450, 0.019521146184624937), (1229, 0.01952109447417763), (698, 0.01950986253841628), (2492, 0.01946195755742959), (2612, 0.019459968547417425), (4012, 0.019455967494503672), (1793, 0.019451775354544464), (71, 0.019417705867617655), (529, 0.0193893255304985), (833, 0.019356777331533452), (1259, 0.01934919122615873), (1304, 0.01934733543582645), (1414, 0.019336985390235747), (1584, 0.01933316101882669), (3201, 0.019296356381840334), (4015, 0.019291279148846076), (3377, 0.01928690912064228), (2691, 0.019286018486077458), (1588, 0.019237833733387527), (2777, 0.019203321502810212), (151, 0.0191672309612296), (1945, 0.019160579809329132), (4467, 0.019148243414792397), (1330, 0.01913583743576739), (4589, 0.019113010805031083), (10, 0.019110752367708015), (1597, 0.01909213143035339), (1133, 0.019088177752524294), (1176, 0.019086794629624156), (137, 0.019085276121926516), (187, 0.019080394912927484), (3598, 0.019075536403465695), (2636, 0.019062506278995844), (1875, 0.01905814684278729), (3144, 0.019056727623496812), (1288, 0.01905649801224719), (3597, 0.018989724167429195), (3023, 0.01898232177424646), (683, 0.01897535502250678), (1256, 0.018943195360326397), (2030, 0.0189356851623154), (803, 0.018920934053882933), (1250, 0.018893861052310414), (2170, 0.018868357391262323), (1802, 0.018846620995532037), (982, 0.018837736961359854), (1194, 0.018827247208163846), (1858, 0.018807700547213764), (3765, 0.018787436899522145), (83, 0.018784961195768928), (1774, 0.018762958161730625), (3231, 0.018755501076034967), (4270, 0.0187450716510695), (4722, 0.01874107546522939), (1325, 0.018737194754904412), (2157, 0.01873387840812169), (4192, 0.018728924222600595), (413, 0.01869083209459559), (2813, 0.0186902770741817), (258, 0.018681541510467338), (3181, 0.018660599443382775), (1515, 0.018658205002234442), (1332, 0.018648570108287958), (3748, 0.018644497308238982), (1908, 0.018635934449162197), (3427, 0.018625025385483943), (4728, 0.018612054065259672), (2209, 0.01860154284467164), (2911, 0.018583015660542105), (4332, 0.018578507474980403), (2198, 0.018572735582796155), (1829, 0.018560768662384455), (1679, 0.01855458997812848), (892, 0.018553004039732326), (1374, 0.018550817006442566), (3114, 0.018547669359135217), (1578, 0.018540312711633523), (4440, 0.018533543411615852), (2367, 0.01851364428954645), (371, 0.018495700047137385), (1262, 0.018488006304018225), (1925, 0.01848038522242861), (456, 0.018478896560299794), (3306, 0.01847251325576406), (4118, 0.01846674592552369), (3594, 0.01846418267426477), (163, 0.018448838622920738), (355, 0.018442905823533556), (2195, 0.01842644233227763), (2049, 0.018420282853482874), (3063, 0.018390783182322207), (123, 0.018389589218897245), (4376, 0.01838576384337658), (2480, 0.01837809130925465), (3499, 0.018369133309365213), (2207, 0.01836789951528243), (2409, 0.01835338714929331), (813, 0.018340358964377624), (133, 0.018311873296292077), (3701, 0.018305148472578307), (4016, 0.0182837704932437), (1852, 0.018280314499562526), (3414, 0.01827914978732452), (1780, 0.018241876290153225), (769, 0.018233298091316477), (1838, 0.018229552354097563), (3930, 0.018224409613453098), (3589, 0.018211818447992845), (2210, 0.018154138840677306), (1961, 0.018134710165682605), (2858, 0.018090515619527098), (4551, 0.01807175342455628), (3127, 0.01806567314829418), (3655, 0.018061431697193493), (2646, 0.018054940985039448), (334, 0.018053470793454835), (3693, 0.0180483247465979), (4269, 0.018029174882506136), (3695, 0.018028099037944764), (1110, 0.01802138969733181), (347, 0.01799369335130127), (4748, 0.017974146305244756), (2996, 0.017970549987161636), (1689, 0.017966623390909972), (1200, 0.01795063422619852), (3924, 0.01795036536393911), (158, 0.01794107863834406), (3677, 0.01792461137179436), (1146, 0.017923853480570608), (723, 0.017921192565089467), (4371, 0.017917491500841584), (3728, 0.017867106519359726), (2841, 0.01785628245809317), (700, 0.017838233662240757), (1896, 0.017831187555449695), (610, 0.017829928830957072), (2007, 0.01779310276562992), (2247, 0.017773876693376642), (1577, 0.017757053420104144), (4325, 0.017743081759615736), (1997, 0.017741449991650178), (63, 0.01773165879891401), (3166, 0.017703979142038858), (2335, 0.01765829286909429), (2737, 0.01763400932682079), (520, 0.017629153407124204), (3933, 0.017603652340756226), (1301, 0.01760342611829654), (2416, 0.01759788710412262), (4558, 0.017579059198177753), (271, 0.017549631377373642), (2094, 0.017541923760524616), (1824, 0.017531167209301167), (3323, 0.017524273494035462), (574, 0.017524109050674128), (3440, 0.01751040100439155), (3270, 0.017488921159012183), (2910, 0.017470082367889425), (3889, 0.01746517802554695), (3778, 0.01745913513411541), (2110, 0.017447633415811136), (1625, 0.017427967345373333), (3566, 0.01741281624546962), (3821, 0.017405031643428243), (2404, 0.01735966611250955), (2053, 0.017353241982439233), (930, 0.017332337426263108), (2306, 0.01732956696084634), (4721, 0.01728465702577967), (1662, 0.01727719079180725), (1790, 0.01727608768333014), (3927, 0.01727436151672038), (611, 0.017258820854540363), (179, 0.01723720181978393), (332, 0.017192929776745573), (409, 0.017170813080322762), (9, 0.017154608088139043), (844, 0.017152431479666736), (4279, 0.01714893438194856), (4222, 0.01711719279046904), (4600, 0.01706783922948635), (1470, 0.01706026708922686), (3361, 0.01697573766293602), (1375, 0.01697061651605304), (354, 0.016964140982477408), (1950, 0.016952009647784663), (1197, 0.016928555811883045), (3256, 0.016893586803924485), (3133, 0.016855849378270116), (1423, 0.01682147844271733), (3192, 0.016819579242281106), (132, 0.016804028289324174), (2262, 0.01680242244162044), (3452, 0.01680081985009959), (1377, 0.0167414181949284), (2617, 0.016710892592900626), (45, 0.016706895846460106), (3137, 0.016697972410955816), (402, 0.01669767660778258), (510, 0.016679669410066288), (3435, 0.01664494715442056), (1021, 0.01664312893578962), (642, 0.016642976680435607), (327, 0.016629126370878905), (1025, 0.016620053256501066), (2199, 0.016614017685117343), (2719, 0.016596668935371546), (2061, 0.01653934294694685), (2929, 0.016533096688371957), (1113, 0.01653141031683288), (2526, 0.016486002575739272), (3345, 0.016476618378497322), (1202, 0.01643971493245261), (80, 0.016431438630308527), (3741, 0.01639378570467342), (2148, 0.016350212049827256), (3469, 0.016341192084891574), (3803, 0.016317833786856275), (2962, 0.01629580288045363), (3459, 0.01629496428001631), (780, 0.01629274039224046), (1915, 0.016285631362192732), (40, 0.01625670153819502), (4515, 0.016237473047799697), (1487, 0.016236066900651734), (1276, 0.016224955025387046), (2064, 0.016224687049285594), (1344, 0.016223392905451176), (4377, 0.01621581871075459), (1029, 0.01620506227369102), (1590, 0.01617758346417391), (4223, 0.016166220409916825), (1018, 0.01616512208830922), (2610, 0.01616481906151484), (3619, 0.01615369541433056), (1893, 0.016132823658228195), (2653, 0.01612354632939412), (2843, 0.016093121112436274), (1496, 0.016091845256177507), (2715, 0.016078855959571738), (241, 0.016078315204714838), (2215, 0.016073633976506053), (905, 0.01606518400244596), (727, 0.016043429618370412), (2417, 0.01603735349600277), (3600, 0.016036893476581666), (4152, 0.01603649567949362), (1315, 0.016031946037403006), (2957, 0.016017604139659514), (3316, 0.01596441997292887), (1159, 0.0159510573054903), (1803, 0.015950358859089516), (102, 0.015941929382375784), (972, 0.01592910297945074), (3293, 0.01590899361101627), (3759, 0.01590017546141051), (878, 0.015875671736695025), (2514, 0.015815199603096207), (2020, 0.015812297971228687), (3731, 0.015808783844206722), (2982, 0.01580481408981447), (2702, 0.015784141207982206), (318, 0.015769544612786682), (4134, 0.01575569641652931), (1633, 0.015748966493605427), (3696, 0.01574779587636367), (1987, 0.015719187704296582), (1933, 0.01571108969012429), (4297, 0.015692492914102123), (4119, 0.01568602391683164), (816, 0.015682405702788338), (3423, 0.015672633892831002), (497, 0.015665062324728654), (101, 0.015648322952503336), (2411, 0.015637867565194672), (3852, 0.015625439294836656), (3995, 0.015624903812532275), (338, 0.01562360260878465), (1279, 0.015607353478148508), (1277, 0.01560432833753807), (4603, 0.015585744109554479), (3122, 0.015577855868691037), (1606, 0.015570428940286787), (1001, 0.015563275003120389), (3983, 0.015548010377914454), (2875, 0.015523216946438191), (2765, 0.015521844999804451), (1559, 0.015520265494716228), (953, 0.015513718763799072), (4374, 0.015500597270900064), (2224, 0.01549518924014204), (911, 0.015470307564759216), (1737, 0.015458937395049816), (2657, 0.015448861977487726), (4406, 0.015434540566171898), (4399, 0.01543256173889447), (898, 0.015426497739812558), (1795, 0.015418218039650839), (3839, 0.015411453500630935), (2789, 0.015408600663004993), (1023, 0.015396558674289107), (764, 0.015392445035556998), (2, 0.015387330714336527), (1859, 0.015386585938092898), (1314, 0.015384454723340284), (4357, 0.015381775500516934), (654, 0.01537947699413456), (1099, 0.015367199510809799), (3767, 0.015348531070246252), (2790, 0.015342276498239233), (1041, 0.01532809648214136), (2032, 0.015326876460149925), (1101, 0.015318508154202272), (3329, 0.01527507759368604), (2991, 0.015271485079808656), (3709, 0.015243051751067303), (2834, 0.01524030984461818), (928, 0.015227491887084665), (2862, 0.015218239325651474), (372, 0.015214925957008444), (302, 0.015212624025550939), (2252, 0.015206164057752783), (810, 0.015190453808150796), (3882, 0.015186948039081027), (1850, 0.01518341716676095), (3577, 0.015181391701743669), (2265, 0.015168381213679291), (639, 0.015142924466441575), (4254, 0.015121022173218184), (3668, 0.015113215409174024), (1019, 0.015100881113790644), (549, 0.015084997970251108), (4023, 0.01507257614258934), (3463, 0.015052518073318973), (3845, 0.015051165801743396), (4590, 0.015050877555442977), (4008, 0.015040199782868748), (350, 0.015034677570528858), (186, 0.014996720297028686), (671, 0.014964455941075315), (2075, 0.01496175447515789), (3989, 0.014947937248002629), (4265, 0.014936143310487716), (297, 0.014931033790083158), (220, 0.014920771004810679), (4725, 0.014909589077306624), (4287, 0.014907961785468306), (2915, 0.014895280600547605), (718, 0.014888738919961496), (2734, 0.014823491341749765), (3632, 0.014813068490729312), (3891, 0.014810107049266313), (1333, 0.014809815045395098), (1015, 0.01480625826636887), (2614, 0.014805019772193838), (2555, 0.014800394552646041), (2296, 0.01478741749724528), (2338, 0.01475341859347245), (3276, 0.014720630133853503), (1981, 0.014700771119030863), (1302, 0.014698599266239254), (2292, 0.014696825059115555), (4755, 0.014680507100412615), (2065, 0.014670763871545228), (2871, 0.01465535555197538), (2478, 0.014651700535116578), (3327, 0.014647001393106207), (3907, 0.014642340312781837), (579, 0.01462766698014229), (3593, 0.014615418290850102), (3758, 0.014607689717374198), (2747, 0.014575809343582264), (4239, 0.014571021353458197), (4117, 0.014569392921968776), (168, 0.014569083334146063), (3955, 0.014561823904837932), (1734, 0.014551808402619801), (1074, 0.014536749159874343), (4094, 0.014530354580730332), (2724, 0.014510360934907988), (685, 0.014497860618709094), (1685, 0.014491816000767873), (1644, 0.014475851524854977), (2047, 0.014429810382761695), (4125, 0.014424164105027606), (3690, 0.014422961891061768), (2017, 0.014403197744680761), (2720, 0.014397515009849824), (1508, 0.0143834980314313), (4046, 0.014353164558770292), (2566, 0.014333923146650872), (703, 0.01430491816091286), (1849, 0.014266911723096336), (1522, 0.014251616740640412), (1576, 0.01424512084166145), (4115, 0.0142307593284891), (2687, 0.014196813022930913), (2178, 0.01419330597570146), (3364, 0.014181147975334943), (3288, 0.014179569613127871), (1509, 0.014177905143898977), (790, 0.014143016087183704), (1629, 0.014138862791686118), (3211, 0.01413839950099445), (2988, 0.014127061901370662), (3060, 0.014116854064172766), (165, 0.014116228463612445), (135, 0.014101032025021932), (2818, 0.014098817859529994), (1337, 0.01409344873305227), (3999, 0.014059865858084332), (460, 0.014047569610331833), (630, 0.014032394720541823), (259, 0.01403236016889846), (319, 0.014031326949776018), (416, 0.014016591926730264), (760, 0.014011242711626171), (326, 0.013983773407982725), (573, 0.01397451780633873), (2122, 0.01394180020485888), (2155, 0.013936606806282371), (1691, 0.013933289037565891), (2472, 0.013931857167863401), (4198, 0.013926271315815874), (1243, 0.013921055229902085), (3142, 0.013919941711190969), (3051, 0.01391022654166329), (612, 0.013900889419381035), (530, 0.013892693484164489), (1459, 0.013891908566382602), (4255, 0.013885122848035673), (2507, 0.013864577839839945), (2768, 0.013862008026683735), (3465, 0.013860045227015678), (1274, 0.013857769100658722), (3098, 0.013831089794886271), (114, 0.013823389615400389), (3454, 0.013805409242003887), (3835, 0.013791659983525991), (4688, 0.013789683992896574), (3315, 0.01378469283981535), (1327, 0.013781042666128927), (1876, 0.013775854919997834), (500, 0.013761177138932636), (344, 0.013756187855222275), (1848, 0.013739392754432995), (4321, 0.013737967865821741), (1385, 0.013714395427364783), (3193, 0.01370734263974224), (1028, 0.013706509352091858), (3496, 0.013700003799518915), (3622, 0.013689955536795934), (1683, 0.01365771264517277), (2569, 0.013646181955547025), (325, 0.013635846214888017), (2287, 0.013623539834253203), (2904, 0.01361786035107996), (2682, 0.013614161849485912), (4040, 0.013609486821449746), (3553, 0.013575145234439513), (4463, 0.013557044889893673), (1771, 0.01353971499142793), (2398, 0.013539351964096138), (1317, 0.013537719672271312), (4067, 0.013514477402753003), (4735, 0.013511958290326935), (1825, 0.013500259404376795), (282, 0.013493855653348527), (3531, 0.013470152606824215), (1733, 0.013469261757191266), (2385, 0.013442787167808824), (1755, 0.013429900915457161), (1821, 0.013393215707114742), (3500, 0.013387547738691013), (2455, 0.013386661156023135), (1931, 0.013377061850180129), (3317, 0.013374743341156453), (1261, 0.01337108062099147), (779, 0.013368436645792398), (2008, 0.013320419441092798), (2561, 0.01331548575237744), (1046, 0.013283265276221782), (1451, 0.01325668921981027), (2258, 0.013244032789946493), (2050, 0.013242370323705678), (4336, 0.01323028714167758), (1907, 0.013222845557136289), (1910, 0.013211912737829196), (4568, 0.013191440949092696), (4422, 0.01318939082272597), (4328, 0.01318437005348783), (3419, 0.013177394261844387), (1744, 0.013174709153925598), (1211, 0.013159434392999674), (1537, 0.013151976758244437), (1592, 0.013149438843986228), (1020, 0.013140912450844902), (2940, 0.013129978369705798), (3943, 0.013128215213471383), (1567, 0.01312779203982432), (4674, 0.013115351780516139), (3592, 0.01311267511159223), (1297, 0.013090342584777754), (3175, 0.013087753109832744), (4199, 0.013084009772059445), (2588, 0.013082286915052638), (4246, 0.013075967993827303), (24, 0.01306324865395732), (2426, 0.013062438816548045), (1823, 0.013057850093927835), (2310, 0.013038320559625198), (540, 0.01302552448909175), (1354, 0.013019265389553666), (306, 0.01300326241073111), (3711, 0.013003191721001622), (1066, 0.01299827304895084), (2755, 0.012989599117970898), (4560, 0.012988709012253385), (3939, 0.012988188285850853), (1811, 0.012987434980632845), (777, 0.012979014384593021), (2572, 0.012974953770909552), (400, 0.012972513110509426), (2629, 0.012961956395880492), (3964, 0.01294846433652204), (1899, 0.012946823082659134), (2791, 0.012943255141953375), (1476, 0.012930770587015607), (3013, 0.01288106765036514), (1371, 0.012878844133751337), (3392, 0.012877954100427552), (3150, 0.012852718649911618), (307, 0.012847873981626113), (1039, 0.012830531601788346), (922, 0.012810901288814243), (2579, 0.01279907034197638), (1851, 0.01278902080920023), (3061, 0.012769853903843088), (3076, 0.012762294982034624), (2495, 0.012762005538025135), (1364, 0.01275551786019177), (4337, 0.012747710378890479), (3640, 0.012734352306423434), (1199, 0.012729327825886828), (751, 0.01272694607843659), (1112, 0.01271210121805093), (1813, 0.012711028477078102), (3762, 0.012704481554550486), (3203, 0.012701892619573413), (349, 0.012698285784400784), (1684, 0.012694554728528842), (699, 0.012691765762574216), (1974, 0.012691752056547764), (3387, 0.012678106699815157), (1514, 0.012676288497747988), (2820, 0.01267587168431799), (1817, 0.012665486096145642), (1920, 0.012664586668287054), (4019, 0.012641410941534603), (15, 0.012633806065603092), (2244, 0.012626760868738653), (191, 0.012592110107094743), (2159, 0.012591238312969537), (3509, 0.012573470221236387), (43, 0.01257229793492619), (3526, 0.012571658601489358), (1379, 0.012561211277960808), (1100, 0.012551903752444998), (1492, 0.012541441125104254), (629, 0.012514251148570984), (3283, 0.012512492789063117), (4196, 0.012500964931643821), (1730, 0.012487546593765721), (2803, 0.01246498693298503), (4101, 0.012462783801897961), (2286, 0.012462308523300665), (3813, 0.012458839653559432), (4135, 0.01245856433611817), (3251, 0.012457806377483595), (2011, 0.012454865066225191), (3506, 0.01245479751831786), (294, 0.012452196562596851), (3603, 0.012446734825209905), (2363, 0.012441954926249136), (2124, 0.012425089003300816), (3739, 0.012419376418055158), (2098, 0.012396465453970324), (504, 0.012358562822229519), (1770, 0.012344953364043705), (536, 0.012338588545575666), (4024, 0.01233089594518008), (2795, 0.012315167965037243), (800, 0.01231146316101486), (1170, 0.012298125858809121), (923, 0.01229118235898997), (2627, 0.012279952472323101), (2607, 0.012277394228223971), (1909, 0.01225708909047881), (3665, 0.0122550896402412), (732, 0.012227460876439568), (227, 0.01220319498330263), (1407, 0.012200726250299915), (4394, 0.012189892290639558), (4591, 0.01217694342701707), (4692, 0.012172815474440182), (3235, 0.012172628971422949), (4521, 0.012171970838708909), (3363, 0.012161963885148824), (2105, 0.012159091139728946), (3434, 0.012147837162414764), (3559, 0.012147126719465674), (4444, 0.01214701719144333), (3484, 0.012135097359541356), (3747, 0.012125890650891685), (493, 0.012123564550103981), (4206, 0.012123502939178203), (3180, 0.012100396470167448), (978, 0.012097795221411998), (2809, 0.012093413831209883), (3159, 0.012069233271967551), (215, 0.012068439486514492), (1126, 0.012060453579901768), (3260, 0.012052582254558759), (4033, 0.012046254238466093), (4107, 0.012041329902954933), (3229, 0.012041126921650639), (2348, 0.012021828521094992), (3511, 0.01201960698437324), (3856, 0.012019043982047893), (359, 0.012015267333069174), (51, 0.012013677809651437), (178, 0.012011897663985634), (3004, 0.012011143085710446), (2794, 0.012002889308610636), (983, 0.011995692023278035), (3242, 0.011988301154505578), (1672, 0.011985605706901348), (903, 0.011963753659741366), (2648, 0.011954989216970403), (386, 0.011954774577809545), (4395, 0.011950736760160454), (3880, 0.011949983888498328), (69, 0.01194230192399205), (3154, 0.011935580665081307), (2645, 0.011933809349319391), (2270, 0.011932306747510942), (2621, 0.011916746028314086), (4442, 0.011915289614112349), (2188, 0.01190120151943563), (23, 0.011899125583108088), (2439, 0.011898322701551625), (2692, 0.011894144332662657), (3610, 0.011891057230792016), (904, 0.011851539279447357), (4079, 0.011836993325505673), (2642, 0.011835416843186335), (3916, 0.011833787297214612), (153, 0.011833072776820575), (774, 0.011831313553272878), (1387, 0.011819356992043667), (640, 0.01181490314520957), (2131, 0.011800810289339492), (3318, 0.011800034395533066), (929, 0.011779529633303979), (4470, 0.0117724281555265), (3868, 0.011754012521420575), (2048, 0.011752623269597653), (1599, 0.011738594511756713), (1761, 0.01173246387097822), (871, 0.011732370026708204), (3172, 0.011723190858324045), (1877, 0.011722216836591096), (4744, 0.011697719170331357), (940, 0.01169360446243004), (1741, 0.011687723399982817), (3782, 0.011650225894401782), (738, 0.011626412646451688), (4701, 0.011622460150137993), (4454, 0.011615256819683225), (3177, 0.011602085258889576), (2930, 0.011595988852243989), (1321, 0.011587194940425137), (3634, 0.01158088491321212), (1844, 0.011579206418416534), (649, 0.011575241356903725), (2452, 0.011570593652088443), (3638, 0.011561228184415302), (2772, 0.01155166409980825), (4675, 0.011550327816955305), (4097, 0.011549832722687918), (4612, 0.011543911765943889), (636, 0.011531848789079382), (2575, 0.011527482215247315), (1706, 0.011522569476631024), (4242, 0.011519998867738005), (4247, 0.011507503860235043), (3071, 0.011506163567999283), (38, 0.011505770835443166), (3571, 0.011504339200546505), (2486, 0.01149497765566849), (2079, 0.01149321214426625), (1837, 0.011480124877951157), (3416, 0.011470087941638195), (2608, 0.011455764702893974), (4145, 0.011455113233337654), (4121, 0.011450999690137409), (4410, 0.011446085108603588), (4660, 0.011434642650682563), (4378, 0.011426789151230105), (1885, 0.01142609613137713), (4460, 0.01141235605947355), (3090, 0.011400916165816352), (4320, 0.01138957328966762), (789, 0.011389475332534437), (1928, 0.01138224283290606), (3732, 0.011378969105059195), (1442, 0.011374522375109476), (1012, 0.011373303233330787), (1642, 0.011369312556698007), (2518, 0.01136577862369909), (1226, 0.011365242696289309), (3884, 0.011345963743702132), (2113, 0.011340660983378553), (2088, 0.011314028863518653), (1438, 0.0113082765310717), (4174, 0.011306724844265812), (322, 0.011305322809633546), (754, 0.011299296736064916), (1831, 0.011290113933596175), (2672, 0.011284608049147299), (712, 0.011276144367879114), (1040, 0.01127042897640845), (1275, 0.011252065193956471), (1128, 0.011249671478294766), (1083, 0.011235756887911567), (3563, 0.011196049026610394), (2218, 0.011192882503771758), (546, 0.011186301270276661), (721, 0.011173414532782394), (687, 0.011170067445704559), (606, 0.011151148894774737), (3069, 0.011150807007722717), (4180, 0.011145378181594856), (1561, 0.011143944396593988), (321, 0.01114338279476655), (1037, 0.011142147593042283), (4519, 0.011141646038930178), (1184, 0.011125065278807205), (693, 0.011113611428010399), (3311, 0.011112195681841946), (4323, 0.011109163149956075), (865, 0.011088246446643336), (2925, 0.011088199186579), (1294, 0.011085780282933418), (522, 0.01108400761773116), (1955, 0.011078356945731945), (4183, 0.01107490840304963), (509, 0.01107443698773482), (1299, 0.01107144713160154), (885, 0.011018464182850926), (53, 0.01098628323824009), (1432, 0.010986081811574528), (2458, 0.01097180567984761), (3085, 0.010967789367196038), (422, 0.010954353399076364), (1602, 0.010942659560939077), (2903, 0.010935904101913179), (2359, 0.010927909508803723), (4594, 0.010922272042543998), (1499, 0.010916336439868831), (2517, 0.010913929202406216), (2134, 0.010907712323161657), (2583, 0.010906167298156678), (2779, 0.010900357056657498), (1968, 0.010889820260962458), (1244, 0.010878825430191513), (1246, 0.010876464133563173), (1640, 0.010874085663783617), (1664, 0.010873418526969696), (2067, 0.010863778408176409), (1697, 0.0108561653739395), (812, 0.010855540875594536), (4435, 0.010850370630055292), (3898, 0.010835816851422982), (4477, 0.010833424479162706), (1390, 0.010831781333129417), (619, 0.010825978159816476), (2995, 0.010821956531311922), (373, 0.01082162696887618), (4492, 0.010815342359139347), (2637, 0.010809440573967034), (1520, 0.010807791860414934), (4665, 0.010787305638516171), (116, 0.010776892890267233), (2408, 0.010770028432882097), (4002, 0.010768996762377834), (3548, 0.010766776962340819), (532, 0.010765913551719828), (1282, 0.010763476047859245), (950, 0.010751374728683594), (2205, 0.010746558083394581), (468, 0.010743345222510744), (1754, 0.010742415203735103), (2469, 0.01072404898315638), (2086, 0.010722967208154487), (467, 0.010721466874939894), (4702, 0.010709720225495276), (3230, 0.01070548077055021), (448, 0.010703240265532656), (4473, 0.010698843923661045), (392, 0.0106946038297112), (1417, 0.010691939688669858), (2390, 0.01069035268366188), (2147, 0.010686502880933896), (3426, 0.01067993420358116), (1747, 0.010659496756588675), (2742, 0.010659427969386548), (2119, 0.010650360475458977), (2460, 0.010644022522844673), (614, 0.010639324586081151), (3773, 0.010637668838182433), (4133, 0.010633178969723343), (2562, 0.010626184759949595), (3906, 0.010624730981656562), (248, 0.010621049536352683), (3259, 0.010617882598419785), (4236, 0.01061770873315054), (2097, 0.010611824840380034), (3651, 0.010607854298202782), (2528, 0.010603893404439627), (781, 0.010602913363948814), (3277, 0.010601057044259161), (494, 0.010595211313712539), (822, 0.010591422033112363), (4184, 0.01058983593759787), (1906, 0.01058257679194988), (3642, 0.010574675559774208), (2675, 0.010554199896902476), (4200, 0.010552417719764576), (3704, 0.01053823997667993), (3369, 0.010532518654585434), (3870, 0.010525489645042557), (4479, 0.010516654999408324), (3960, 0.010512611929195514), (1887, 0.010508424068522397), (3378, 0.010505890699492487), (1047, 0.010489684489631855), (1196, 0.010477952855725326), (1613, 0.01047227803738891), (2241, 0.01046943319959209), (2362, 0.010467008576781808), (1702, 0.010464266105452463), (1044, 0.010461077838869154), (3781, 0.010448533724659394), (1349, 0.010448212899786957), (4368, 0.010436205675654397), (2511, 0.010435748378311622), (3904, 0.010430505669949464), (4542, 0.010427388271003948), (3855, 0.01042340228823479), (3007, 0.010417872371619775), (3549, 0.01041229356156232), (1716, 0.01039950742128381), (1993, 0.010384511860672714), (3487, 0.01038274150004567), (3474, 0.010375682718065295), (2865, 0.010373740525323992), (1339, 0.010365297740257877), (701, 0.01035114602250139), (206, 0.010344469406436099), (2840, 0.010342246558468025), (68, 0.010342212237133715), (1474, 0.010341270995126828), (3614, 0.01033539337517252), (383, 0.010332923865001934), (1726, 0.010331414273049599), (1027, 0.01032621203260433), (195, 0.010325370963034812), (3877, 0.010324405870994088), (1525, 0.010322715956770555), (2714, 0.010320605338517834), (1564, 0.0103113051254671), (4286, 0.01031022345861606), (3485, 0.010302516862313708), (1918, 0.010300553896093877), (3857, 0.010299390026326195), (2854, 0.010298472025070605), (3390, 0.010289023124938151), (908, 0.010285355109471326), (4327, 0.010278466451806093), (2457, 0.010271478162844377), (2444, 0.010269723278172873), (4475, 0.010268133485659926), (4474, 0.010267788343343565), (3036, 0.010266923732469133), (1670, 0.010263795140245788), (830, 0.01025095956201743), (1322, 0.010248921279516892), (1587, 0.010248350483368352), (262, 0.010244492283837949), (4709, 0.010242503139105148), (3466, 0.010239115992972843), (3430, 0.010225079480364191), (28, 0.010222110574246736), (48, 0.010217370764020435), (4078, 0.010211028334230312), (502, 0.010208977822793631), (818, 0.010201746236844545), (3650, 0.010201503992576338), (20, 0.010199971035349288), (2935, 0.01019645975904855), (945, 0.010194462394933514), (3014, 0.010194418656132156), (1751, 0.0101863117832353), (2739, 0.010176213930032955), (2465, 0.010164819528803139), (34, 0.010147349380381716), (154, 0.010136442893006472), (736, 0.010135494260943434), (1125, 0.010134927110094036), (3338, 0.010133012471763733), (1544, 0.010124330153301936), (1820, 0.010114547207146215), (675, 0.01011245544569232), (367, 0.010103587111251349), (1804, 0.01009854517173236), (3516, 0.010084949499545245), (264, 0.010081844128626598), (129, 0.010076446045629944), (1562, 0.010074293482862698), (229, 0.010067698332480866), (598, 0.010061533397916), (944, 0.01006107532238116), (931, 0.010061036287821344), (3832, 0.01005826774832479), (3343, 0.010057803774681608), (92, 0.010048787289672479), (2107, 0.010046149274637924), (4592, 0.010036810346779076), (2787, 0.010028769654083513), (2907, 0.010015246338004841), (525, 0.010014084446719146), (2556, 0.010013335825359744), (1466, 0.010005203490624844), (1212, 0.010001947788580668), (4385, 0.009992663224513804), (3818, 0.009984384666565618), (4071, 0.00997913003777212), (3938, 0.009977539533959887), (3699, 0.009960374541241594), (2171, 0.00994129315292026), (2073, 0.009938638102894876), (1447, 0.009930481709899262), (121, 0.009925057537212548), (3707, 0.009925046875640423), (2619, 0.009921981306503291), (2725, 0.009917072402440679), (12, 0.009902379015732952), (2128, 0.009900449821612898), (3644, 0.009891785622568547), (4690, 0.00989080711447865), (2609, 0.009890699707841415), (4405, 0.009884800050133516), (2807, 0.009877057270698087), (1130, 0.009865548597340363), (3742, 0.009863912497248656), (680, 0.009861593724151612), (3860, 0.009861314694352726), (4391, 0.009855079301507022), (3834, 0.009846052823440537), (1922, 0.009844130269841211), (3210, 0.009836462474895162), (3227, 0.009832545599830865), (628, 0.009831914851995107), (1687, 0.00983177725763183), (2504, 0.009829919129960445), (3618, 0.009829174855241835), (4112, 0.009827298512635698), (2792, 0.00982416013220402), (2590, 0.009818027380412677), (1680, 0.009807479687614336), (4081, 0.009805705731254688), (2826, 0.009803803037914206), (3777, 0.009797464677108821), (1865, 0.009796641321608502), (2272, 0.009796386703206315), (3538, 0.009795112112723119), (483, 0.009790664717622903), (1763, 0.009778246888646789), (4510, 0.009767253843424353), (345, 0.009757792539054629), (1373, 0.00975385040900681), (4384, 0.009746722942163472), (1366, 0.009741039088219182), (773, 0.009739550107233928), (1643, 0.009735240220655502), (1163, 0.009734544330688662), (1402, 0.009723684680641841), (1368, 0.009713992136179433), (4268, 0.009712347301661817), (4363, 0.009712034982282729), (3149, 0.009711236041222095), (2197, 0.009710282466222462), (3562, 0.009697652048940873), (585, 0.009685287310352573), (3669, 0.009676708826619501), (4629, 0.00967342541527267), (4000, 0.009672693498251525), (3495, 0.009671438160074423), (717, 0.00967010915190898), (427, 0.00965703811430509), (490, 0.00965646431224494), (2829, 0.009645935692914836), (588, 0.009635741149264252), (4262, 0.009627089765813175), (824, 0.009617009660176621), (216, 0.009613574311422093), (2072, 0.009608691084362648), (4379, 0.009607629124637708), (3920, 0.009604923283693032), (3959, 0.009604300740600088), (11, 0.009602480876888435), (3215, 0.00960158702832743), (498, 0.009598278373158492), (2508, 0.00959667555475972), (4020, 0.009566891573465094), (2126, 0.0095630450089061), (2631, 0.009561075005914774), (2334, 0.009544363031176182), (2372, 0.00954347260056269), (3233, 0.009539603577196682), (2132, 0.009539441564041825), (3712, 0.00953686869042841), (1768, 0.009533866689515103), (2502, 0.009527726764906623), (1776, 0.009510351644999854), (4553, 0.00951030497823271), (2913, 0.009509611944643774), (1895, 0.009484234853687493), (2784, 0.009477989991044725), (1973, 0.009471103630170539), (2311, 0.009470786156659042), (3940, 0.009465613718646902), (3320, 0.009456059231301536), (4283, 0.009452297972303927), (541, 0.009432381430927334), (4556, 0.00942304369641219), (4068, 0.009420611521262017), (4069, 0.009419128199745896), (1686, 0.009407899671233136), (484, 0.009407091862796608), (2647, 0.009391878240051832), (2327, 0.009386830890338076), (690, 0.009367319734089687), (4726, 0.00936363840159085), (1674, 0.009362308824351453), (2520, 0.009361330024639436), (3551, 0.00935900565653716), (4137, 0.009358036933953384), (1574, 0.009357608802912306), (2615, 0.009352467374949), (4503, 0.00935201023601486), (417, 0.009351855349088625), (2893, 0.0093433587975873), (993, 0.009341120493928896), (2869, 0.009338527347692641), (2024, 0.009338211746145748), (2169, 0.009332862418898608), (914, 0.00933004125610274), (4686, 0.009329454998519822), (4604, 0.0093230094579226), (3125, 0.009318724417685095), (3321, 0.009315454087882081), (3491, 0.009309326199718375), (3976, 0.009306702744096824), (2497, 0.00929851891603705), (2540, 0.0092941545202019), (4330, 0.009278093014509292), (3171, 0.009276260995705268), (1179, 0.009271635830463972), (740, 0.00926448217170716), (3492, 0.00926151158798717), (2666, 0.00925520455563009), (1984, 0.00925357571179826), (4345, 0.00924995079379631), (3174, 0.009248165544913999), (1797, 0.009246327779040706), (2900, 0.009243433938610282), (3330, 0.009241342285217035), (1524, 0.009220806686960039), (1794, 0.009212528063111729), (988, 0.009210398823166883), (3374, 0.009202644968599035), (894, 0.0091858128270919), (348, 0.009179408171440891), (1059, 0.00917903239115642), (3145, 0.009167775097133892), (3295, 0.009162236988009331), (1784, 0.009142204992109985), (73, 0.009130925630734695), (1258, 0.009115823310000456), (4109, 0.009109789029147223), (3967, 0.009108033030526829), (4647, 0.00910407945106961), (4284, 0.009098462310710919), (1362, 0.009076233594497947), (275, 0.009075952122513893), (196, 0.009070395485037025), (4687, 0.009067035471804884), (2029, 0.009053102885286542), (1617, 0.009052794887137191), (1653, 0.009042668027889089), (4387, 0.009041787030459162), (2168, 0.009025194944558938), (577, 0.009017079706222276), (1035, 0.009008413803815946), (3252, 0.008998201006513048), (4646, 0.008997146573121768), (3929, 0.008992741407260871), (3045, 0.008981804685852697), (2253, 0.008980040846471402), (1814, 0.008978933163172439), (604, 0.00896857998186445), (796, 0.008965439600351415), (4472, 0.00896369137750581), (2571, 0.008958995928055715), (1645, 0.00895819278217423), (2268, 0.008955596436883453), (4504, 0.008949762534372437), (1421, 0.00893941331941939), (1548, 0.008932277857124764), (112, 0.008927359525167638), (1468, 0.008924141852688349), (3917, 0.008920085030292926), (2573, 0.008915480596444765), (4620, 0.008910015505290005), (3574, 0.008904420776212799), (3946, 0.00890326668129974), (4359, 0.008903039629758532), (820, 0.008893441909262226), (18, 0.008891692660028691), (2776, 0.008873744672199336), (4523, 0.008870546808956901), (854, 0.008849643762894599), (858, 0.008840176404249306), (3411, 0.008833143997575656), (1132, 0.008812658969655732), (644, 0.008808878861887741), (4428, 0.008805118614155973), (1482, 0.00880026489083042), (767, 0.008796327718487998), (2172, 0.008789130857103), (1624, 0.008787540608631739), (4124, 0.00877424738889792), (1742, 0.008767830127673779), (408, 0.008767115691407035), (1404, 0.008765379695948055), (2955, 0.008764262659463048), (3819, 0.008755384827853527), (388, 0.008753818435844336), (1219, 0.008748320431460548), (387, 0.008745458222109323), (4353, 0.008743321634154411), (2023, 0.008732263477444633), (2525, 0.008731788808699247), (4271, 0.008731670601062634), (1591, 0.008727105877842485), (1386, 0.008725489632868828), (2899, 0.008716921257637364), (1921, 0.008715128698684035), (1521, 0.00869537578942409), (1883, 0.008695247660360152), (4747, 0.008672261351180002), (1620, 0.008670711746120923), (4634, 0.008652659969423304), (4661, 0.008644080163020368), (4194, 0.008642994597533881), (410, 0.008626983906909247), (3342, 0.008610677655501732), (1456, 0.008607018877295508), (4220, 0.008602742964931756), (1566, 0.008589407098748664), (1052, 0.008584669490327617), (2317, 0.008579949691204633), (744, 0.008575465411451516), (3854, 0.008575110778375552), (805, 0.00857491209193685), (4402, 0.008574381935864782), (3448, 0.008560298461011081), (4150, 0.008553754230523902), (2181, 0.00855322925254101), (2855, 0.008537877293843543), (2204, 0.008534697132936938), (4348, 0.008527589964979262), (4176, 0.008526576217182837), (181, 0.00852538589261109), (1010, 0.00851540823896134), (3552, 0.0085023813182464), (3674, 0.008498646868230039), (1782, 0.008481117908704426), (3481, 0.008473365480566653), (3658, 0.008460203116823486), (3016, 0.008458234619905611), (4177, 0.008458114139672743), (3385, 0.008445501776645643), (4512, 0.008443254266800284), (2921, 0.008431733217859571), (1082, 0.008429098191550582), (1635, 0.008416989007846265), (1450, 0.008403649235003384), (1595, 0.008391717426538225), (1343, 0.008388616858102254), (512, 0.008387143185158536), (128, 0.008359541789678177), (3986, 0.008343386976134853), (1000, 0.008340433270171164), (1966, 0.00833953996341756), (4143, 0.008335363064032065), (722, 0.008332097860613875), (1808, 0.00831625207627416), (3841, 0.008315808603328938), (4181, 0.008306070938783728), (4449, 0.008279807667394088), (591, 0.008275322589266955), (2771, 0.008274630897594719), (1076, 0.008273046243601735), (875, 0.00827044992373154), (3178, 0.008265333952879143), (1488, 0.008259856203997147), (3816, 0.00825212872869429), (491, 0.008249597472232226), (1091, 0.008249568181693145), (2898, 0.008211691358807002), (495, 0.008201548314737808), (4491, 0.00819913383123025), (3312, 0.008196076254489145), (33, 0.00819489788035211), (1265, 0.008189846531085811), (303, 0.008176947997226706), (2136, 0.008166761851838969), (1634, 0.008165985278398333), (184, 0.008165582595290434), (4281, 0.008155779156983924), (3565, 0.008154050482859934), (1186, 0.008142188946821581), (3894, 0.008132552984881924), (2084, 0.008132296575180406), (4437, 0.0081263905630916), (3637, 0.008109336639621913), (380, 0.008106636864826306), (1381, 0.008097842878303627), (3768, 0.00809718233499716), (1057, 0.008085526626265174), (1181, 0.008080331980606667), (2785, 0.008079401925764602), (4703, 0.008076352815686938), (2180, 0.008066349233063687), (992, 0.008061524486408988), (2630, 0.008025662395947847), (3512, 0.008016282328096164), (424, 0.008012284252961925), (3710, 0.008010993855265772), (425, 0.008005332705239161), (2044, 0.008004137357664481), (2377, 0.007992150438758738), (681, 0.007989118413977876), (46, 0.007976990268832971), (4462, 0.0079744658036774), (2470, 0.007969868288424987), (1011, 0.007969328182417535), (4045, 0.007960850136717998), (2611, 0.007955334522637572), (2447, 0.00795314425448907), (666, 0.00794064623110409), (1565, 0.007926144869686763), (3352, 0.007923225058581567), (3376, 0.007918407367053334), (1271, 0.007906144527303014), (1081, 0.007896131504699654), (4555, 0.007878960666206603), (3200, 0.007878907684412122), (1352, 0.007876771557847786), (747, 0.007867386085805983), (4120, 0.007865743095495988), (1971, 0.007859711352293137), (2345, 0.00785551285162116), (3817, 0.007849803159240385), (4586, 0.00784652688110083), (1989, 0.007832462142478657), (4549, 0.007828111814035279), (4716, 0.007809804175881518), (421, 0.00778646079769091), (2127, 0.007784560782884544), (4091, 0.007753631693943349), (95, 0.007751358208168578), (1681, 0.007747238422352455), (3928, 0.0077457934199436935), (2233, 0.007743927757378358), (3831, 0.007738204201614462), (677, 0.007733448629647524), (4088, 0.007722257902863607), (3522, 0.00771215975461685), (442, 0.007688855964052246), (1056, 0.007677651254636655), (333, 0.007633981268991923), (704, 0.007630132134899528), (47, 0.007617909391234862), (1930, 0.007617526037961767), (1150, 0.007611147226199453), (4076, 0.007602116783457767), (1952, 0.007598733957033151), (3586, 0.007594275464286867), (2529, 0.00758863954383506), (420, 0.007587964200096314), (2263, 0.007573580952280551), (2440, 0.0075599519250662385), (3131, 0.007549615578827137), (1283, 0.0075475864163109165), (2379, 0.00754461037406636), (2490, 0.007534813695263366), (2963, 0.007534491725780958), (3982, 0.007533505697881239), (3438, 0.007533334636529423), (2283, 0.007520026589724213), (602, 0.0075133114740619155), (603, 0.007505539606546556), (1031, 0.007502719729305198), (4188, 0.0074871465266818545), (913, 0.007485142437647602), (239, 0.007484901274686632), (3724, 0.007482294511581192), (3897, 0.007481721779723989), (2689, 0.007480366611242718), (1426, 0.007476205992660713), (1436, 0.0074663561563066555), (81, 0.007466044654822779), (2330, 0.007460910975725545), (3103, 0.007455654782777397), (1502, 0.007451851286587699), (2764, 0.007447911015280432), (1380, 0.007442107383874096), (3937, 0.007436889382043481), (1185, 0.0074344485900657694), (891, 0.007433190947622617), (2686, 0.007416433551405872), (2137, 0.0074094037646744385), (3139, 0.007401493874811), (1753, 0.007377258967705247), (4621, 0.007373908838120494), (298, 0.007371375599865927), (1886, 0.007370319053502966), (90, 0.007368641348262239), (201, 0.007362355647044105), (3958, 0.007360001338924328), (2722, 0.0073388503758657336), (2259, 0.0073358347452573405), (1953, 0.007321655774801983), (3507, 0.007315177858742025), (825, 0.007308327972095527), (189, 0.007307384696019137), (918, 0.007302663586607683), (3040, 0.007300633788680785), (2541, 0.007283145825273308), (1636, 0.007270605417562945), (390, 0.007252613743383381), (3446, 0.007247060946990484), (531, 0.0072312219075066865), (1431, 0.007225830811060985), (93, 0.007217322282171742), (13, 0.007215267141737444), (1810, 0.007204240172858567), (1704, 0.007193218724690527), (3810, 0.007190546514607506), (2788, 0.007184042875780833), (4587, 0.007181810516339944), (3199, 0.007180884250424433), (2537, 0.007171437533865815), (919, 0.007171127561166286), (2950, 0.007160919438325303), (2278, 0.007158900250016251), (735, 0.007138485819926204), (2414, 0.007113138532900547), (1346, 0.0070968987267199515), (2501, 0.007090524688992366), (3042, 0.0070832572757391415), (560, 0.007077926013088482), (1556, 0.007057803936763253), (299, 0.007055446344818056), (4006, 0.007052428364432574), (305, 0.007049736574513903), (2246, 0.007043325405803984), (562, 0.007034901858031138), (1649, 0.007022706774290039), (2731, 0.007017241100579543), (439, 0.007015056181428326), (1480, 0.007003996705360915), (3963, 0.007003762887284679), (4482, 0.006998866808130183), (65, 0.006997724355100656), (3479, 0.00698151564721823), (4241, 0.006978912092761163), (4484, 0.0069700558204533625), (435, 0.006959322799330538), (613, 0.006955500358323591), (1857, 0.006946933772940905), (3746, 0.006946539625177392), (3079, 0.006944651413252743), (4157, 0.0069150889990584885), (84, 0.0069092508979107185), (4599, 0.006908585680125729), (4322, 0.006899471764688183), (397, 0.006889787297336063), (3368, 0.00688947647492879), (4164, 0.006881686206097854), (2832, 0.00686062484738747), (3994, 0.0068575206931330065), (1840, 0.006856110054257591), (152, 0.006852801226920724), (72, 0.006843693049291823), (2538, 0.006832081540794804), (1347, 0.006815951695927325), (3011, 0.006814151100848717), (3720, 0.0068097803026423145), (261, 0.006808253048155238), (1657, 0.006805636930743747), (2432, 0.0068018194248315325), (223, 0.006795136802515759), (1134, 0.006792350733689524), (915, 0.006790237791446241), (3282, 0.006779623421932997), (138, 0.006775547922616587), (3053, 0.006771795349100946), (3786, 0.00677073547590922), (2256, 0.00677057517818791), (3568, 0.006767515600609208), (1632, 0.006765761755715612), (4438, 0.006765291810928363), (3567, 0.006760854469196279), (4481, 0.006742188522858257), (3899, 0.006732568190198993), (284, 0.00672972106391828), (2304, 0.006729350224139029), (2852, 0.00672585772951861), (4441, 0.006703279793737618), (171, 0.006698357096660771), (260, 0.006693107770581811), (2838, 0.006680930993981964), (1054, 0.006663290790017761), (4292, 0.006648568984994426), (4752, 0.006642256098044413), (4102, 0.006637633286121032), (4026, 0.006635733002324163), (2139, 0.006622854566791161), (661, 0.006619713957382349), (548, 0.006617272742336063), (4548, 0.006614873333651121), (2938, 0.006606055281971007), (974, 0.006605862791259309), (426, 0.0066002986466275546), (3121, 0.006590136285075221), (492, 0.006588305987853108), (3966, 0.006581235263679633), (3280, 0.006569786096917074), (1563, 0.006543358692340174), (3365, 0.00653929931824835), (240, 0.006531589099147642), (335, 0.006523691213764756), (3357, 0.006498130766396175), (3537, 0.006484213358073943), (411, 0.006477012863970698), (3945, 0.006453746007121353), (4339, 0.006445946483896073), (4347, 0.006444986437608125), (394, 0.006439764792725944), (4689, 0.006439008287774114), (291, 0.006432134069216202), (1990, 0.0064289510362296135), (2749, 0.006422190068630137), (3074, 0.006413869672032432), (352, 0.006413592401044409), (337, 0.006404690773053592), (148, 0.006403598297471894), (2797, 0.006398695621679485), (3934, 0.006395686996033723), (1171, 0.006392104339256563), (4233, 0.006379099477216507), (1458, 0.006377759119262516), (4147, 0.0063654496397594785), (3544, 0.006363497699844666), (3020, 0.006346423694705431), (314, 0.006316715090596175), (3257, 0.0062991654360875105), (3413, 0.006279139356677035), (4450, 0.006255339477966059), (882, 0.0062552030787172645), (2434, 0.006249665222694285), (2106, 0.006226161071634188), (2906, 0.006212542427636657), (1049, 0.006198897788799231), (2986, 0.0061836011295214755), (4717, 0.006172826719095446), (431, 0.006165200850330733), (1585, 0.006163159756014312), (3763, 0.006161039387340852), (2570, 0.006152886097024541), (3621, 0.006151522779977867), (4633, 0.006143743730313374), (1792, 0.006143502666631167), (1187, 0.00614209365877782), (1772, 0.006123449491380909), (2028, 0.006120550291171806), (2842, 0.006101027590879981), (4149, 0.006089047901592924), (234, 0.006073242637847828), (1546, 0.006070622273448145), (1947, 0.0060687078297172676), (2924, 0.006062824120875795), (3337, 0.006032001892437928), (4650, 0.006024646230737287), (2872, 0.006017623180485638), (1120, 0.006016209200338552), (925, 0.0060110234460195346), (4507, 0.006004644577974739), (725, 0.0060028904023067845), (3952, 0.0059950885418318025), (1656, 0.0059935534346689705), (2796, 0.0059826575454647556), (331, 0.005981811576198494), (4295, 0.005968693822835117), (3764, 0.005951397862862723), (3772, 0.005949150736626786), (2223, 0.005943979503351725), (2302, 0.005937792303417221), (1535, 0.005933750381802678), (998, 0.005926332757259983), (999, 0.0059214824669407565), (575, 0.005919832427106598), (58, 0.005916859205201498), (2914, 0.005912224934508636), (3992, 0.00590931626036079), (2973, 0.005907151522397762), (3373, 0.005883928917780697), (3962, 0.005871285678678319), (3585, 0.00587013568632179), (1221, 0.005866676670693882), (3146, 0.005847482741503211), (4293, 0.005833518887925252), (4706, 0.005807963388675955), (4259, 0.005806811932869471), (4113, 0.005806495951979532), (2108, 0.00580239216154967), (3062, 0.005795790965135781), (2535, 0.005794153574372857), (2592, 0.005787443437442872), (1530, 0.005778944205594393), (3097, 0.00576450233809503), (4263, 0.005757882046591957), (2410, 0.005734986157909702), (1479, 0.005733718480651554), (2464, 0.0057334341785484095), (4308, 0.005732956322577134), (3183, 0.005724620082219325), (2324, 0.005719174776745269), (253, 0.005715600054326217), (4140, 0.005711915072993687), (2823, 0.005702272682652745), (3044, 0.005698470658680396), (1581, 0.00569833523069468), (4522, 0.005697058505543966), (3944, 0.005688246750383359), (3077, 0.005687721349655101), (2748, 0.005684727500190952), (3258, 0.005684608798878709), (1395, 0.0056801550946985165), (4734, 0.005649573272951365), (1868, 0.005640622266797666), (1518, 0.005630281972219891), (4132, 0.005627075452235164), (2078, 0.005612150853402219), (2786, 0.005598323994580259), (872, 0.005596595145285795), (4111, 0.005596395400579284), (2260, 0.005592337026557457), (2391, 0.005583505218253146), (668, 0.005582735572772685), (3601, 0.005575300168262982), (2970, 0.005572204204655207), (4489, 0.005544505291516514), (4054, 0.005543234281518769), (2326, 0.005541040478694292), (1234, 0.005535820980008931), (1822, 0.005518512273034122), (3037, 0.005518170258015587), (2394, 0.0055084850739480044), (3388, 0.00550799862636803), (1007, 0.005503508627958965), (3187, 0.00550130209887143), (3984, 0.005497872622948738), (3493, 0.005471654786883988), (2926, 0.005467247169394025), (204, 0.005461557365437809), (3514, 0.005457582060805946), (1224, 0.005457073354247307), (3351, 0.005456097013019007), (3382, 0.0054549612639531115), (879, 0.00545401681577625), (1513, 0.005445749958620802), (2388, 0.005442040125589238), (884, 0.005438973470575405), (1727, 0.0054354182883179615), (4756, 0.005426196844276155), (3349, 0.005423679720127861), (3198, 0.005400458830875988), (1516, 0.005383849954534581), (3290, 0.0053799048886356005), (3289, 0.005357526735407047), (4414, 0.0053480268752428605), (115, 0.005345475999773161), (933, 0.005338966980177203), (969, 0.005335861538198671), (3113, 0.005332025281121297), (238, 0.00533192441763237), (3606, 0.0053302136830888185), (3356, 0.005322304181410318), (2397, 0.005316771908805226), (3792, 0.005316353149773444), (4049, 0.005305590072979028), (1533, 0.005302926080298658), (1410, 0.005283607499728656), (2396, 0.00527525189863327), (2554, 0.005273783878148012), (2192, 0.005264615313247376), (3155, 0.005263499785812887), (479, 0.005221565918999322), (2523, 0.0052048433043616876), (1298, 0.005198776638625495), (3630, 0.005198291748248012), (2999, 0.0051980951341469), (2512, 0.005190226311425478), (3888, 0.005172577741890779), (1598, 0.0051605348978704235), (1309, 0.005154630475388495), (1313, 0.005151449162045017), (4018, 0.005133382611102879), (1286, 0.0051250119314537506), (2945, 0.005117292574300221), (4530, 0.005112692262298866), (3220, 0.005109252842656792), (4036, 0.005107971451097041), (3402, 0.005094322662994557), (1408, 0.0050914487194166635), (1284, 0.005088949724263336), (755, 0.005080462478474901), (2461, 0.005068737202961431), (2912, 0.005061980125917931), (3348, 0.005059194219045245), (4382, 0.00505503907473134), (2467, 0.005043731368921202), (1117, 0.005022052715792774), (3503, 0.005012886848920371), (3214, 0.004990873359477302), (1929, 0.004983721162395166), (157, 0.004978858135714385), (2597, 0.004972750050724617), (4213, 0.004971012493490752), (2242, 0.0049689501073247894), (505, 0.004966250862091121), (3391, 0.004941168648679631), (4498, 0.004935832764828484), (939, 0.004930872450724247), (2972, 0.004927655980327298), (1663, 0.0049249105131501025), (2166, 0.004923393824413945), (1203, 0.00490840575659315), (1372, 0.004903936963160139), (886, 0.004901037859734794), (3941, 0.0048989340322926535), (941, 0.0048962969913218185), (2099, 0.004886256635949276), (2701, 0.004873809837827483), (2201, 0.004863083858379429), (4356, 0.0048618432915583844), (1543, 0.004816391870268895), (1079, 0.004807394950080717), (3050, 0.004789589891009704), (475, 0.004788388335997648), (759, 0.004759701306053523), (2728, 0.004758428287581694), (3267, 0.004743517594639345), (2402, 0.00473435637913895), (473, 0.004729577960505069), (1827, 0.004727349003630749), (515, 0.004712217770205182), (2741, 0.004706996798621436), (4304, 0.004691937620291719), (2976, 0.004683035814488473), (1318, 0.004662310710504227), (2703, 0.0046617165268442035), (2264, 0.0046443779162891954), (4104, 0.004633809204415942), (1830, 0.004632109779652461), (1954, 0.00463087180627808), (3755, 0.004620242728440702), (1616, 0.004594088100705348), (2240, 0.004587601726127576), (851, 0.004579688754396809), (1943, 0.004550252145827033), (1217, 0.004538528111098564), (103, 0.004527971997877955), (1397, 0.00452076444762003), (4288, 0.0045097815900821524), (1370, 0.004507599716010219), (278, 0.004502460425898032), (4627, 0.00448574095600623), (3088, 0.004478018000719281), (1088, 0.004468878595992728), (2146, 0.004467595221296049), (2669, 0.004453462852019745), (2758, 0.004439873898171999), (1340, 0.004439622532753989), (951, 0.004413194422443559), (4636, 0.0044085482434276626), (1367, 0.0043656394118544144), (2684, 0.004361011077457507), (1078, 0.004353570988623076), (2659, 0.0043377605178362465), (2312, 0.004335517122527808), (1427, 0.0042853803191004805), (2891, 0.004265612609476014), (996, 0.0042493724910554675), (4311, 0.004247255631019943), (2441, 0.004233293135445254), (2500, 0.0042015623222077), (3266, 0.004165745991888567), (2395, 0.004165553616456318), (3796, 0.004164995996477277), (3949, 0.004139549933193508), (1677, 0.004112864359036138), (2667, 0.004103459823471114), (2990, 0.004053874184918561), (3204, 0.004031161475622375), (1939, 0.00399647508635852), (2483, 0.0039714206789462575), (3325, 0.003959825743736793), (2536, 0.0039337932660805704), (2948, 0.003921618755160491), (4537, 0.003919974280901967), (2228, 0.0038975381120600373), (2928, 0.003888619727245985), (4166, 0.003887757368291331), (3715, 0.0038858706341841254), (3217, 0.0038806542306954314), (4084, 0.0038722427401547644), (2941, 0.003869977192153398), (3078, 0.003869655995828535), (2282, 0.003869068101988087), (391, 0.0038568200191291396), (3936, 0.003809573271359472), (4151, 0.003807970891613971), (2983, 0.003800617178517552), (2600, 0.0037992755889537408), (3087, 0.0037991982496566098), (3988, 0.0037904621229796483), (2543, 0.0037786084885333203), (3844, 0.0037736466136750993), (2308, 0.0037686754333863923), (2939, 0.0037506225692430896), (4058, 0.0037456920353712304), (4562, 0.003741036762315844), (2515, 0.003738701540676568), (842, 0.003682191778201291), (2077, 0.003672585126854874), (3534, 0.003660177804268977), (3089, 0.003658831002746466), (4631, 0.0036569277103062786), (4127, 0.0036553591428829467), (4720, 0.003655069186477363), (3554, 0.0036453736234482842), (2781, 0.0036291368067186414), (2727, 0.003622015635186804), (3054, 0.003618490863819547), (3421, 0.003616726176359523), (4408, 0.0036155511062126357), (4570, 0.0035998049971222848), (4506, 0.0035953374079914315), (4190, 0.0035915244536036577), (3996, 0.003590550488670092), (2368, 0.0035892002945229983), (2333, 0.003584823807253052), (4204, 0.003584228633232578), (3686, 0.0035800012015707273), (3017, 0.003577908515439046), (4341, 0.003572171738600095), (461, 0.003566149305914998), (1615, 0.0035661485574087983), (795, 0.0035592918606188718), (3789, 0.003556420798719976), (4711, 0.0035542177334648714), (4451, 0.00355303786459381), (955, 0.0035506629240232373), (2299, 0.0035441618448989187), (3324, 0.0035390958409354826), (2635, 0.003528533382924193), (3931, 0.0035227407877922905), (2468, 0.003518543792936066), (2158, 0.00351115236841406), (4346, 0.0034937247893898826), (2261, 0.0034906045921052706), (3190, 0.003489489536790419), (4010, 0.0034747356122262606), (2676, 0.0034531414347015307), (1507, 0.0034485111819823394), (3851, 0.003447883564831833), (4496, 0.0034468662470674184), (2305, 0.003444187400526729), (1424, 0.0034380444479704605), (3791, 0.003436172403658557), (2357, 0.003418707588551546), (3649, 0.003416270555211411), (4746, 0.0034155837273688724), (4317, 0.0034148019802901722), (4737, 0.003414498299798885), (2138, 0.003413098950186217), (1437, 0.0034123273963481207), (3383, 0.003409842866323832), (4452, 0.0034061307913065436), (3820, 0.00340445468273157), (839, 0.003402326366150149), (1999, 0.003401681182459084), (1560, 0.0033934829803379664), (2757, 0.003392269036443429), (3168, 0.003390939486656242), (4105, 0.0033802321491956063), (139, 0.003378724663043392), (1311, 0.0033783530234955243), (2810, 0.003375008679124465), (2420, 0.0033731447935981124), (2164, 0.003370647175077762), (2479, 0.003362748051687224), (4453, 0.0033623518855434376), (4580, 0.0033604180783953375), (1260, 0.0033591972162939966), (2381, 0.003357510788601398), (3080, 0.003356604319605011), (2384, 0.003353910229311759), (1836, 0.0033435824978588504), (3808, 0.003343548682782995), (3688, 0.003336767515693599), (3371, 0.0033358940104788602), (3572, 0.003334039180655098), (3735, 0.0033323378823431338), (3652, 0.0033274308184908785), (4003, 0.003326526947420296), (362, 0.003324844956622295), (2493, 0.003323561112150047), (3519, 0.0033154435265816875), (3581, 0.0033104047138519162), (3529, 0.0033090715564846798), (990, 0.0033080812587968325), (141, 0.003307678283657058), (841, 0.0033066179021433934), (3837, 0.003305528305003525), (2626, 0.0033050240686821595), (956, 0.0032993593564078485), (3925, 0.0032989582512457723), (3628, 0.0032930708832498634), (2968, 0.0032870111136689127), (1491, 0.0032817019059373795), (4258, 0.00328113426647728), (2978, 0.0032744393888382147), (2979, 0.0032717074254521666), (4207, 0.003268171097329024), (2082, 0.0032669364296974888), (4413, 0.003265230454437832), (2371, 0.0032621556788187756), (2021, 0.003259646889983062), (146, 0.0032483073507334074), (3510, 0.003246474743125443), (1441, 0.0032463443894842708), (2880, 0.0032456351620535496), (771, 0.00324433576797095), (3584, 0.003234133473053963), (1731, 0.0032285717726739157), (405, 0.0032283657804533738), (873, 0.0032247339921703663), (4131, 0.0032225841335518125), (4173, 0.00322196722848886), (1614, 0.0032215412329475966), (1732, 0.0032185591412372877), (4607, 0.0032183696690608085), (4370, 0.0032162087609232458), (1609, 0.00321355223209043), (3539, 0.003208296756775818), (3109, 0.003207203776317048), (4315, 0.0032069162591482248), (1205, 0.003204183399432208), (3236, 0.0032028513960847297), (1856, 0.0032025321929599246), (1926, 0.003199901095380306), (1596, 0.003198838084643482), (4622, 0.003196549235722604), (4256, 0.0031956620297920375), (4557, 0.0031943632291728473), (3442, 0.0031942509118275267), (2208, 0.0031917199566505396), (2516, 0.0031907690705655907), (205, 0.0031887524881557983), (4655, 0.0031875064625849006), (3905, 0.0031854055578977862), (4260, 0.0031828711607240433), (2937, 0.003182567840638521), (1013, 0.0031819512230089175), (415, 0.0031807410371358954), (4027, 0.003179871218326223), (3041, 0.003178623767964172), (3523, 0.003177170577779956), (1389, 0.0031710981680491347), (4705, 0.0031687870128386544), (667, 0.003166053111381464), (474, 0.0031642294897130797), (3189, 0.0031638817157893817), (2754, 0.0031571528529210696), (3513, 0.0031551245204473727), (1142, 0.003154808701740364), (2217, 0.003152573197984027), (2002, 0.0031518415868679417), (3415, 0.0031516363005548755), (3038, 0.0031501497976482292), (2380, 0.0031498981819571377), (3672, 0.0031493669355627733), (1965, 0.0031454663963778914), (2605, 0.003143579906931072), (4421, 0.003143549689390962), (3591, 0.0031429675562738807), (2090, 0.003142910287654768), (797, 0.0031428266195097474), (4433, 0.00314182729343719), (3310, 0.003141530222478242), (586, 0.0031368981850246665), (1024, 0.0031364719932075857), (4082, 0.0031309647126099385), (2649, 0.0031306641727731252), (3790, 0.0031299599245076947), (793, 0.0031274487791111446), (2325, 0.0031262214640960704), (2194, 0.0031232781982275244), (784, 0.0031224314235797864), (1949, 0.0031219822316145224), (4552, 0.0031214066304300235), (1542, 0.0031178546175267105), (1469, 0.003117530981571652), (961, 0.0031157065485511023), (4648, 0.003114379393888933), (3287, 0.0031131463501962555), (3428, 0.003111155259253712), (2189, 0.0031111503299794726), (1847, 0.003109172472729122), (2456, 0.003108113052204387), (2519, 0.003106247368352284), (1735, 0.003105557418254247), (3489, 0.0031041165901531387), (59, 0.0031026244031702385), (730, 0.0031007584304703754), (2353, 0.0031004915590901964), (4202, 0.0030990717509842137), (2092, 0.0030935197717502135), (2856, 0.003093092604243203), (1917, 0.003091215606300831), (245, 0.0030889143239511757), (2307, 0.003088889933241355), (2989, 0.0030882726756922304), (869, 0.0030875738066310342), (3169, 0.0030871702482996783), (2251, 0.00308374359972925), (3683, 0.0030825262537805967), (4093, 0.0030804361699083376), (42, 0.0030802564226105667), (3209, 0.003079825902280558), (2200, 0.0030773465078085594), (134, 0.0030762720018354854), (2290, 0.003073018192760256), (1108, 0.0030726485475550524), (1085, 0.003069988947024202), (3102, 0.0030691891106870593), (2349, 0.003068716420958681), (3812, 0.0030650750253294026), (1145, 0.0030647706327976117), (219, 0.0030639668619167385), (2407, 0.003063662016273631), (2551, 0.0030597915059714736), (3990, 0.003059182916254326), (2896, 0.003058063414734684), (1889, 0.0030573152848386723), (2685, 0.003056165429215242), (2041, 0.003054040413029236), (2889, 0.0030510165344969746), (4214, 0.0030502917432021067), (3462, 0.0030487947996773405), (3332, 0.0030474641586390296), (1879, 0.003046571910017945), (1956, 0.003045989564968523), (1611, 0.0030433027955857517), (3676, 0.003043183462523348), (1769, 0.003043135501198275), (3245, 0.0030426264989510394), (4300, 0.0030349408573645937), (398, 0.003032342674992488), (312, 0.0030322389805814633), (4609, 0.0030321029373256993), (4617, 0.0030312517907238644), (3034, 0.003030997637038547), (2994, 0.0030309255383420023), (2449, 0.003030904715555458), (3494, 0.0030307306848100417), (2153, 0.003027861832746991), (3052, 0.0030272855983020635), (1388, 0.0030245145536662086), (3055, 0.0030158697896764896), (2709, 0.003012711534616895), (2804, 0.0030123231179953304), (3662, 0.0030098942397220984), (4195, 0.0030095721165658744), (2026, 0.003009008188779819), (2775, 0.0030088139141088983), (3188, 0.003007969767927872), (965, 0.0030048167581369), (3561, 0.00300447052056186), (3104, 0.003004349504183135), (3805, 0.003002644204743202), (3030, 0.003002469617327805), (3106, 0.003001866348508941), (627, 0.003001103967270985), (4457, 0.003000302259915868), (2883, 0.002999236448563422), (946, 0.002996727593463066), (1444, 0.002996554996023785), (3635, 0.0029965053901534226), (2336, 0.0029944994661771592), (3570, 0.002992561286946514), (188, 0.0029917440359668707), (947, 0.0029896842709973346), (3545, 0.0029890169728590526), (2836, 0.0029879913413249195), (1834, 0.0029854066037404356), (2280, 0.002983096149794156), (3291, 0.002978372995463471), (2825, 0.0029749045399159054), (4749, 0.002974402910632118), (2435, 0.002973672789343711), (4529, 0.002971654897908856), (2298, 0.0029716412486080323), (535, 0.0029713647544077054), (3350, 0.002970889003387522), (3443, 0.0029702813790014005), (2484, 0.0029633937256928378), (4221, 0.0029632405386421094), (2639, 0.002954620964685457), (4611, 0.0029541882801171365), (2694, 0.002952283345918152), (2297, 0.002951752165825874), (4029, 0.0029511525819833012), (3580, 0.00295039713681728), (459, 0.0029502354823198788), (1589, 0.0029498574090118367), (3400, 0.002944997430784498), (2861, 0.0029377074613433215), (3836, 0.0029369282709538484), (1880, 0.002936053573588203), (217, 0.0029351693440025483), (4073, 0.002935136817531378), (2677, 0.0029340804827058596), (2932, 0.0029303539255847856), (503, 0.0029293879623164634), (1235, 0.002924675444668959), (3286, 0.0029237096855854712), (404, 0.0029224170822219862), (662, 0.00291975415068683), (3879, 0.002919554273488515), (3375, 0.002919322123267979), (49, 0.002918920901351341), (2150, 0.002916189097467342), (1618, 0.0029159023169979415), (339, 0.0029141713049098687), (2559, 0.0029135244282269077), (3878, 0.0029129505653888933), (2693, 0.0029110922008708075), (4418, 0.0029108424423085937), (3366, 0.0029083556554114704), (3896, 0.002903794557934142), (4696, 0.0029035831721139723), (2628, 0.002901371608079987), (3582, 0.0029010341019339927), (1900, 0.0028992728932031937), (4407, 0.002899025368760175), (3219, 0.002896415988918442), (720, 0.002896281447835055), (2681, 0.0028951516854649056), (2448, 0.0028944727956487573), (2392, 0.002893827506138137), (3292, 0.0028932462735640147), (1767, 0.002892825808379582), (3490, 0.0028918672405954396), (1545, 0.0028877396935055354), (1231, 0.002885682300153011), (4434, 0.0028847569641633057), (1912, 0.0028831472196238083), (3595, 0.0028812108394598752), (1490, 0.0028772671279608236), (3965, 0.0028760170939676572), (1839, 0.002875798283732354), (3824, 0.00287420211560158), (4423, 0.002873979045780338), (2620, 0.002873568529815408), (2425, 0.0028724529854275843), (2643, 0.0028663967866599475), (2140, 0.0028633821667479963), (1190, 0.0028630479006922383), (1073, 0.0028629905279451023), (2255, 0.0028594470229849063), (1532, 0.002858502261297718), (1363, 0.0028579471419417695), (2257, 0.0028534947432220016), (4037, 0.0028527582214525034), (3322, 0.0028524532836230986), (3262, 0.0028517781245370054), (2271, 0.0028499177772452044), (1785, 0.002849524549113712), (3859, 0.002848362035265867), (2350, 0.0028479818501653577), (4230, 0.0028398067669926693), (4142, 0.0028335946084080185), (1783, 0.0028334722075098327), (1139, 0.0028324701886476814), (2179, 0.002828975464867281), (311, 0.002826532350872192), (4400, 0.0028253311345400804), (3250, 0.0028243075829709444), (2594, 0.0028206352847967783), (2530, 0.0028169459271409052), (1855, 0.0028166881188719764), (4667, 0.0028161639788316477), (1898, 0.00281583358338768), (3848, 0.00281184240208342), (3015, 0.002808524421895029), (4606, 0.002805876719148698), (1457, 0.002804444922320198), (1673, 0.002803489413352329), (3828, 0.0028029971891691584), (2866, 0.0028022247293792942), (4710, 0.0028015013802585), (1353, 0.002799999530966226), (2450, 0.0027994426287841056), (3543, 0.002799374559045576), (3128, 0.002793824848700282), (1610, 0.0027881277881784336), (526, 0.002787006787980264), (2093, 0.0027851065009044155), (745, 0.002784278483626314), (2548, 0.002782551914748204), (770, 0.0027814439819593027), (1711, 0.0027793364674968454), (1121, 0.0027767220857737606), (2315, 0.002775675272971621), (2274, 0.0027708526326596914), (4469, 0.0027691705289898303), (3687, 0.002768227023031753), (3923, 0.0027670039366435397), (4577, 0.0027650088764245356), (4544, 0.002764843065157576), (920, 0.0027645161114934814), (1331, 0.002760186083686312), (2225, 0.0027582354943901945), (4186, 0.002756622842061768), (1242, 0.0027548581772051358), (2125, 0.0027541886439254744), (2438, 0.0027452603045084946), (1729, 0.0027427749796092257), (3842, 0.002740919816343053), (4306, 0.002740105090955993), (3885, 0.0027394801188623053), (3197, 0.0027367785153629563), (3613, 0.0027337044491500557), (4447, 0.0027320947714033735), (4724, 0.0027320919528065596), (670, 0.002731383530977948), (3521, 0.0027304219750413183), (2063, 0.002730110591879047), (2424, 0.0027295432029488605), (2266, 0.0027290184941939533), (4191, 0.0027277574596370337), (1093, 0.0027217832165814795), (632, 0.002721672318506354), (4298, 0.002719033822942844), (1485, 0.0027169203095827065), (4209, 0.002715856711719395), (4443, 0.002715061475529194), (1061, 0.002711068311195491), (3874, 0.00271021862436224), (4723, 0.002709842702831716), (3031, 0.0027073732599741736), (3716, 0.0027065561138989442), (2848, 0.002705320247595319), (3123, 0.00270338673148053), (3302, 0.00270040192714736), (2879, 0.002699153946503551), (3620, 0.0026988169947711415), (1750, 0.002691265312888231), (3358, 0.0026907167882257344), (3070, 0.0026900132211222583), (2415, 0.0026893693192297737), (2389, 0.0026861648505776287), (1593, 0.0026859244433956177), (1064, 0.0026851674040460523), (2833, 0.002684244832326147), (1978, 0.002684008524321286), (3206, 0.002681542027047659), (4237, 0.0026809888683564168), (2778, 0.0026799378654428136), (3082, 0.002678351720546998), (2454, 0.0026762914789236173), (1694, 0.0026737122307665946), (2993, 0.0026732531615629475), (1601, 0.0026730053578757056), (3901, 0.0026729030786616474), (2366, 0.002670611363002796), (1264, 0.0026697437915903966), (393, 0.002666788329526053), (3861, 0.0026665214979981118), (1429, 0.0026644268786191914), (2360, 0.0026614024639335957), (836, 0.0026547806389055103), (489, 0.0026512935561485255), (3911, 0.002648337075133659), (1405, 0.002647471319237739), (4458, 0.0026433257475075938), (3766, 0.0026430515428283803), (3675, 0.00264196900015602), (2433, 0.0026371108522816322), (3232, 0.0026329276490710237), (4637, 0.002629905985543922), (4490, 0.002628406411478084), (4280, 0.0026266601571353844), (2059, 0.0026263520084474226), (2971, 0.002620250141362326), (2539, 0.0026141813237578783), (4632, 0.002612936562525097), (3935, 0.002611620821962539), (2613, 0.002611030039984533), (4416, 0.0026088452883240576), (3081, 0.0026083257785815767), (2378, 0.0026082937684041483), (2089, 0.0026042938524112164), (4694, 0.002604131604381214), (2822, 0.0025989183682768677), (4426, 0.0025983669910313828), (518, 0.0025982770758967437), (4412, 0.002596253432396117), (4030, 0.002594143245974572), (2001, 0.0025931030056188025), (3275, 0.0025904474929905248), (1323, 0.0025873690361247195), (4075, 0.0025861042677842727), (3540, 0.0025850069836081684), (2142, 0.0025848817581027995), (1547, 0.002581348238449275), (1008, 0.0025804331026177754), (3019, 0.002580093613976966), (3359, 0.002579306708738144), (4126, 0.002579020658776494), (3072, 0.002575975916171536), (3307, 0.0025744944120330827), (1070, 0.002573842476456421), (1523, 0.002572721512266781), (2269, 0.002572311768861184), (4163, 0.0025695833903281854), (3729, 0.002568536669790233), (2006, 0.0025681818250198776), (860, 0.0025679345903856614), (1398, 0.0025656692270436417), (4713, 0.0025656639520269114), (4398, 0.002561027997066716), (2987, 0.002558674460717259), (3396, 0.002556430065205366), (823, 0.002554663684276117), (3355, 0.002549821740386819), (1639, 0.002549344829832358), (1300, 0.002546362076134033), (3165, 0.002545632329629573), (274, 0.002544801887679034), (4516, 0.002541473526882235), (4465, 0.0025400878019067744), (4244, 0.002539079129115427), (876, 0.002529756800357026), (1497, 0.002529437055573748), (739, 0.0025290407388194854), (2877, 0.0025282032913558003), (4753, 0.0025272375010446154), (3883, 0.0025263668091002668), (4243, 0.0025231258228514374), (786, 0.0025222115719694778), (709, 0.002521661168458734), (3296, 0.002520788159776431), (2346, 0.002519954894884171), (1062, 0.0025179613292969144), (2437, 0.0025156497700631704), (4187, 0.0025147942384729544), (3186, 0.002513026178942585), (2373, 0.0025114021685735937), (1938, 0.00251075664006739), (2881, 0.0025101448131053168), (3148, 0.002509369570070282), (4731, 0.0025093602882921002), (478, 0.0025083268111915948), (4092, 0.002508143140439501), (2400, 0.002506794403348669), (3680, 0.0025062439761358545), (4494, 0.002503813138969294), (1148, 0.002502390846688341), (2227, 0.0025023200486398245), (281, 0.002502018705780624), (1383, 0.0025018641296192102), (235, 0.0025015932563606023), (1944, 0.0025011198960150868), (4699, 0.002500652883934408), (576, 0.002498443200783718), (3274, 0.0024971989489568354), (3212, 0.0024964388292292284), (419, 0.0024961785695824467), (4333, 0.0024939308789325076), (533, 0.0024928217057032017), (2770, 0.0024902321213941536), (1752, 0.002489780476883947), (2974, 0.0024883495468555534), (4718, 0.002485692891231194), (3196, 0.002485291505855396), (4160, 0.002484932004318569), (3012, 0.0024848482133426825), (2025, 0.002484148321035899), (596, 0.00248329732127071), (2916, 0.0024825434449239113), (1862, 0.002482206735492989), (3032, 0.0024808023770418503), (4396, 0.002479655027905659), (308, 0.002478379018165883), (2356, 0.0024776174084773354), (3737, 0.002474813586392061), (1289, 0.002474080712016246), (458, 0.00247300132588489), (3804, 0.002472347309668997), (1156, 0.0024721109920729004), (3248, 0.0024717862298999837), (729, 0.0024714653324076313), (2331, 0.0024708137670955686), (444, 0.002469482273225295), (3273, 0.002467450049052014), (2585, 0.0024672627219441997), (2830, 0.002466647510440309), (4397, 0.002466620708477824), (41, 0.0024661636655897525), (4593, 0.002464496946229717), (1498, 0.002464012503214247), (1326, 0.0024583064228905593), (4138, 0.002456650889302464), (888, 0.0024563697821624337), (2018, 0.002456275129898352), (688, 0.0024551918974252793), (1960, 0.002453909143712836), (3101, 0.0024486107651321507), (4042, 0.0024479054315457507), (857, 0.0024474596161142594), (2176, 0.002446656228479722), (3961, 0.0024462920547602164), (2428, 0.0024459173819184094), (1580, 0.002445643359759624), (2890, 0.0024456267938495926), (4619, 0.0024453610009759342), (254, 0.0024428577190332267), (1963, 0.002436452071728001), (3116, 0.0024354875436780046), (1454, 0.002434356861748539), (450, 0.0024319605430566525), (4602, 0.002431683889940337), (3971, 0.0024285233807476827), (4048, 0.002426309103083577), (4601, 0.00242587925166462), (2624, 0.0024251512764685164), (3714, 0.002422529461363442), (4130, 0.0024224421078706884), (2229, 0.0024220854000033907), (3497, 0.0024215809683483668), (896, 0.0024211860367727924), (1866, 0.0024200690410537164), (1115, 0.002419721492195626), (673, 0.00241860334539763), (3749, 0.0024165439059502247), (4116, 0.0024163105693679734), (2293, 0.0024158538899290006), (1805, 0.002414739703267061), (499, 0.002411966691554602), (1268, 0.0024108324278065566), (481, 0.002410282828324482), (887, 0.0024098972663928603), (2214, 0.002409772828797008), (4087, 0.0024093204743750028), (3915, 0.0024073202586420268), (4528, 0.002406943387272194), (1676, 0.002404463409990368), (2595, 0.0024039045911287346), (2888, 0.0024008138598658932), (2705, 0.002399806574921207), (3694, 0.0023985859290108335), (4545, 0.002398422660187793), (1959, 0.00239745406407847), (3269, 0.002397434099201396), (1874, 0.002395221611966975), (2477, 0.00239458217483861), (3893, 0.0023943070353444644), (3757, 0.002390791592316198), (728, 0.0023904646426339176), (2190, 0.002389004947112908), (4579, 0.002388934294372911), (210, 0.002388654401861564), (3692, 0.0023863424673379583), (430, 0.002385504156044801), (4161, 0.0023843401226489188), (4657, 0.002383675839033035), (2475, 0.002383474190716264), (3112, 0.0023832509653820473), (1995, 0.0023831875346509374), (4540, 0.0023814528126517307), (4245, 0.0023812571381245052), (2162, 0.0023800765519534617), (991, 0.002379074753181562), (2254, 0.002378341469231527), (395, 0.002377904503471095), (2723, 0.0023769716769107933), (485, 0.002375138843661849), (4495, 0.0023739446868289086), (4574, 0.002373079160424439), (21, 0.0023701187509057925), (3873, 0.0023698894671853768), (4005, 0.0023682231228884082), (2949, 0.0023681055942397526), (2104, 0.0023669780531276347), (1119, 0.0023663084418002103), (2393, 0.002365223174131244), (4231, 0.0023642398599726545), (1324, 0.002364178374279507), (1320, 0.002363955611110794), (826, 0.002363703777642489), (2664, 0.0023628401974649664), (2522, 0.0023621108322593918), (4169, 0.0023608720230142094), (622, 0.0023550462413866003), (3590, 0.002354303610052551), (623, 0.002353925465036294), (2821, 0.0023528804153561634), (2361, 0.002350869073084043), (3314, 0.002350590798455498), (4471, 0.002350277664450177), (4505, 0.002345986203768519), (1853, 0.002345962537007921), (2953, 0.002345942664820534), (4575, 0.002345038065896607), (1484, 0.002344440119116675), (2288, 0.0023443049720985416), (2196, 0.0023437683611106184), (2849, 0.0023430923501193426), (4318, 0.0023419769077732753), (4123, 0.002340166047733504), (4, 0.002338493389646906), (1225, 0.0023381084687295575), (1400, 0.002336264450293538), (1916, 0.002335564616853868), (783, 0.002334727962262388), (1570, 0.0023308602878491574), (2419, 0.0023284883689896688), (3372, 0.002327678375966498), (4757, 0.0023274775750218757), (4178, 0.002327197071199239), (4225, 0.002326553095242815), (1188, 0.002326271307828248), (716, 0.0023241324366735047), (429, 0.002322780606398449), (564, 0.002321943061163895), (255, 0.002320872316607727), (1439, 0.0023205924679186225), (4430, 0.002320486986141012), (4497, 0.0023203991390609007), (845, 0.0023202996684805), (3437, 0.002320212739855053), (1736, 0.0023201928966949587), (2083, 0.002319429326466566), (4354, 0.0023185246442565576), (270, 0.0023179310002588776), (3770, 0.00231766380499827), (580, 0.002315982493975168), (837, 0.0023148844921028703), (3862, 0.0023147316211258357), (4083, 0.0023138813469408396), (3241, 0.002312212197560355), (4419, 0.002310533709982103), (2370, 0.0023090426357068603), (543, 0.0023083442410121464), (4361, 0.00230586845560303), (2405, 0.0023051278532879014), (3353, 0.002304181233410567), (447, 0.002301379292542161), (4625, 0.002301251728423918), (3666, 0.0023012498459643893), (987, 0.002298815942668334), (2123, 0.0022940506574408884), (584, 0.0022932924932902556), (1703, 0.002293150912555708), (4340, 0.0022922575765313316), (3527, 0.002291012167521054), (980, 0.002290641472795286), (2919, 0.0022895921719970954), (806, 0.00228720663860734), (4249, 0.002286797218156669), (3623, 0.002286338060460321), (120, 0.0022857684059492036), (2863, 0.00228521351445081), (3636, 0.0022840253330125644), (3153, 0.0022822475023141276), (4643, 0.0022797942176280865), (743, 0.0022774887059481253), (176, 0.0022773778441078267), (2466, 0.0022761453730496526), (2230, 0.0022761453427985667), (2894, 0.002274403418992981), (4563, 0.002272692645220145), (4098, 0.002271843545303179), (3225, 0.0022711855087089246), (3809, 0.0022707905372885916), (3445, 0.0022698131230225542), (1355, 0.0022696420223107076), (3000, 0.0022692372987933637), (4533, 0.002268299306254099), (4273, 0.0022680092637012397), (3542, 0.0022676431731893107), (652, 0.002266972306991461), (2386, 0.0022659440447262663), (1174, 0.002265761995359305), (1740, 0.0022608883430170193), (593, 0.002260592963182319), (3653, 0.002259259324687091), (2489, 0.0022586639289684865), (750, 0.0022579493481954117), (3501, 0.0022528888448218798), (994, 0.0022523331495174813), (2295, 0.0022515742324828807), (1440, 0.002250551866050047), (2313, 0.0022501825814602466), (544, 0.002249118492974979), (198, 0.002248736181868583), (4004, 0.002247670172317705), (2091, 0.0022471849979202306), (2374, 0.0022461750162902708), (2887, 0.00224572793443988), (4014, 0.0022424886496242124), (1138, 0.002241979501397923), (1872, 0.002241648229501277), (2652, 0.0022406382158121564), (4677, 0.0022401196196912324), (4501, 0.002239189101374732), (2745, 0.002237083138629208), (4266, 0.002236437197727791), (848, 0.0022351805341103204), (2934, 0.0022324843965072596), (2606, 0.0022316435913318842), (696, 0.0022308667245303526), (3436, 0.002230586598253764), (2783, 0.002230457754827018), (4517, 0.002229743012552211), (2533, 0.002229133306851812), (378, 0.002225828903374311), (1131, 0.0022237332988535785), (172, 0.0022233644702160955), (5, 0.00222293122607462), (3341, 0.0022225432855458287), (2219, 0.0022223963247095884), (4715, 0.0022220546153672513), (2344, 0.0022209435997650653), (2354, 0.0022185464395317847), (761, 0.002216665931944779), (2558, 0.0022166286266209648), (3478, 0.0022163419361196073), (226, 0.0022160329333596345), (986, 0.0022146449542436177), (1378, 0.0022144544399665014), (4427, 0.002213849246880373), (370, 0.0022127466882607), (66, 0.0022120135248853605), (2671, 0.0022118235512097323), (2212, 0.002211532092503882), (2943, 0.0022083712090414822), (3216, 0.0022055258081017134), (3807, 0.002204715945268333), (4056, 0.002204360536466115), (4060, 0.002201969309671129), (2289, 0.0022009891169149187), (1483, 0.0021991461258372607), (3441, 0.0021981330965415583), (3727, 0.0021974780845288627), (1891, 0.002197106318586214), (1252, 0.002195864636818586), (3624, 0.002195799209346246), (1072, 0.0021951780647530062), (4520, 0.0021940308679734314), (247, 0.0021914030478147935), (466, 0.0021911720581690415), (3381, 0.002189872034401704), (4228, 0.002189621757654103), (534, 0.002188994537319241), (61, 0.0021881487024896866), (1621, 0.002184913684106252), (880, 0.0021845106767187277), (4668, 0.002183835921710062), (4487, 0.0021835604569112113), (2173, 0.0021824574243349145), (2961, 0.002181581881075882), (3093, 0.0021811860504739136), (2946, 0.0021811604695506728), (3195, 0.0021810858983371795), (989, 0.0021799339232320466), (4349, 0.002179349266826277), (2069, 0.002177588146804564), (3827, 0.0021730664824277327), (3379, 0.002172915023169285), (2216, 0.0021721290237462715), (1882, 0.002171536644992659), (4362, 0.0021701350395281946), (1527, 0.002169066833442216), (26, 0.0021685689248754593), (2226, 0.002167186987821583), (4641, 0.0021650946188458667), (3719, 0.002163268835551121), (4309, 0.002163210371385835), (3706, 0.002162987733851178), (4743, 0.00216252438145801), (2909, 0.0021615550626227285), (799, 0.002160590396052133), (1350, 0.0021589054598745135), (127, 0.002158028785704147), (2401, 0.0021539832092730238), (1967, 0.002153107381258999), (4693, 0.0021528864722107216), (959, 0.002152736659055356), (3075, 0.002152516630866661), (3370, 0.002151328438454861), (4381, 0.0021486518727367727), (4573, 0.0021485523538185575), (1245, 0.002148374036058855), (1671, 0.002145790639901868), (1030, 0.0021453940151580026), (4129, 0.002145258635286492), (1481, 0.002145110219607152), (488, 0.0021437549084053634), (2080, 0.0021413795663607297), (167, 0.0021411116399936937), (3298, 0.0021409271622743844), (3660, 0.0021372905275730226), (2716, 0.0021348206152342173), (4461, 0.0021336413963280003), (646, 0.002131345828487696), (3900, 0.0021312113482738295), (1248, 0.0021294295897292667), (2117, 0.0021259398055341423), (4670, 0.0021230351337872566), (487, 0.0021216513482923594), (2752, 0.0021198177571052908), (52, 0.002119138755026693), (2141, 0.0021184092055930924), (4567, 0.0021182425387950643), (1416, 0.002117960596360673), (3498, 0.002117618183310657), (4536, 0.0021174725557682036), (4614, 0.0021169955857770328), (1854, 0.0021160839311774133), (3268, 0.0021153446404190432), (2886, 0.002114509079355911), (3978, 0.002113988072434092), (1153, 0.002111411789184661), (3035, 0.0021099351650466125), (4085, 0.0021094528946072784), (3691, 0.0021089472623243757), (3170, 0.002108488746062847), (1123, 0.0021063854790294816), (1160, 0.0021036703801963043), (3799, 0.0021009105436284718), (2651, 0.0020969164023084373), (2598, 0.0020968964963713147), (434, 0.002096766225916932), (2133, 0.0020963329714314177), (2997, 0.0020948479245554968), (2800, 0.0020939537730986935), (828, 0.00209365686140637), (578, 0.002091767768297764), (126, 0.0020911289407136375), (3734, 0.0020903913648614705), (1036, 0.0020903344782092718), (276, 0.002089759091635815), (1177, 0.002087795655321004), (3615, 0.002087102363703693), (3433, 0.002086886618255913), (31, 0.002084400709045345), (3300, 0.0020827964533171165), (236, 0.0020818399585009213), (4011, 0.0020814761241698667), (140, 0.0020761067765062485), (3243, 0.002075811676742117), (1665, 0.002075175524794428), (2496, 0.002072662571594765), (1884, 0.0020715408653404215), (2634, 0.0020709077775698174), (1819, 0.002064827003553693), (3725, 0.002063670508328531), (213, 0.0020627937559529025), (1558, 0.00206025976799282), (111, 0.0020588539411905736), (868, 0.0020577824554643374), (1183, 0.0020572021812515287), (1641, 0.002055254764853277), (2129, 0.002053671453904553), (3120, 0.0020519387783225593), (3627, 0.0020506756786000217), (4616, 0.0020473512314870554), (2735, 0.002046342132579071), (2593, 0.0020448359534163884), (558, 0.002043723903186007), (638, 0.002042712216912382), (1667, 0.002042592389529215), (1357, 0.0020424588821898715), (2674, 0.002040193726013125), (3460, 0.00203803728650478), (2347, 0.0020374092295198957), (2453, 0.0020370078654761226), (3455, 0.0020350293661210474), (3876, 0.002034451981293226), (457, 0.0020341762899734922), (1462, 0.0020328701272945256), (4326, 0.0020319844682159284), (4277, 0.00203006535309116), (910, 0.002028828934193792), (1628, 0.002027937481906021), (624, 0.0020272252157696475), (4502, 0.0020242425239738945), (1434, 0.0020235101052960176), (218, 0.00202341301344414), (1796, 0.0020222015180445625), (3953, 0.002016553895899753), (3278, 0.0020152795663561265), (1892, 0.0020125352257540446), (1237, 0.002011898846407745), (4053, 0.0020110876489496023), (608, 0.0020090470978338716), (1869, 0.0020066709677047574), (1826, 0.0020041493965889667), (4154, 0.002002710407322107), (1161, 0.0020006688556414563), (2323, 0.002000074776226878), (563, 0.0019985174561498393), (581, 0.0019972743184708455), (4712, 0.0019965614572595852), (1080, 0.0019952186234083675), (3974, 0.0019948331589581497), (804, 0.0019934219882009026), (1739, 0.001992817656623069), (2248, 0.001992533835730562), (3863, 0.001991596885486436), (2191, 0.0019876591501536774), (4080, 0.0019872292896839154), (3167, 0.001984845975263766), (917, 0.0019838265490309728), (3795, 0.0019825753104772527), (3556, 0.0019816953756882113), (2580, 0.0019792648748369543), (2163, 0.001977604100103374), (268, 0.001976754595230274), (2213, 0.001976443151055094), (3956, 0.0019754159637020647), (3380, 0.001967436209410639), (4608, 0.001966786731675912), (4343, 0.0019603863300634494), (200, 0.0019583689939901903), (3910, 0.0019458017684865032), (480, 0.0019448308961620944), (3895, 0.0019401657749214638), (4432, 0.0019399004108576166), (4296, 0.001930523640413438), (4429, 0.0019243546354031985), (4386, 0.0019114947985240842), (861, 0.0019085434244130737), (364, 0.0019067260673184647), (3629, 0.001903420246938139), (3569, 0.0019002296465600694), (2743, 0.0019002054819249655), (4411, 0.0018987393297176085), (2382, 0.001898564246171527), (4476, 0.0018965233095615663), (1627, 0.001894542136784924), (190, 0.0018913364199606173), (1050, 0.0018881522652307353), (432, 0.001885476082260076), (626, 0.0018782450753832749), (267, 0.0018782177959191884), (2035, 0.0018775787300047801), (1356, 0.001875881224252302), (617, 0.0018712316006403349), (2039, 0.0018643088018480748), (3091, 0.001855105835817276), (1042, 0.0018510488426518863), (4733, 0.0018492834329836634), (2355, 0.0018477499687730577), (3331, 0.0018475177546531472), (1209, 0.0018469291524542807), (3024, 0.0018334213482949062), (149, 0.0018302204205347871), (2034, 0.0018259802144741082), (1415, 0.0018158633492978192), (2697, 0.001814425390588273), (3756, 0.0018129207133337636), (3254, 0.0018121759776309509), (645, 0.0018101746942240683), (3313, 0.0018094722711361226), (942, 0.0018018075940167948), (4626, 0.0017918900698225713), (3431, 0.0017797840856040074), (3471, 0.0017622175591857237), (2010, 0.0017502731764459285), (4598, 0.001738780927020633), (3301, 0.0017355770074492904), (2767, 0.0017291252697190823), (571, 0.0017088301233745035), (607, 0.0017078294401044632), (2760, 0.001701127120996852), (224, 0.0016957168679355196), (453, 0.0016947601163376526), (3645, 0.0016705494876370415), (3285, 0.00166618613492447), (4445, 0.0016638252616086853), (256, 0.0016557943933514251), (4301, 0.0016443484273205313), (2902, 0.001630055715074978), (455, 0.00157271702665547), (831, 0.0015646395036322885), (542, 0.0015541977340005795), (3608, 0.0014436101463072037), (1, 0.0), (6, 0.0), (17, 0.0), (27, 0.0), (30, 0.0), (36, 0.0), (54, 0.0), (55, 0.0), (70, 0.0), (76, 0.0), (77, 0.0), (89, 0.0), (99, 0.0), (118, 0.0), (143, 0.0), (160, 0.0), (180, 0.0), (233, 0.0), (244, 0.0), (257, 0.0), (289, 0.0), (290, 0.0), (295, 0.0), (304, 0.0), (315, 0.0), (316, 0.0), (320, 0.0), (323, 0.0), (360, 0.0), (375, 0.0), (376, 0.0), (379, 0.0), (382, 0.0), (384, 0.0), (389, 0.0), (423, 0.0), (438, 0.0), (440, 0.0), (462, 0.0), (501, 0.0), (513, 0.0), (514, 0.0), (516, 0.0), (517, 0.0), (550, 0.0), (552, 0.0), (554, 0.0), (556, 0.0), (557, 0.0), (559, 0.0), (565, 0.0), (570, 0.0), (572, 0.0), (592, 0.0), (595, 0.0), (601, 0.0), (621, 0.0), (625, 0.0), (633, 0.0), (634, 0.0), (650, 0.0), (656, 0.0), (663, 0.0), (674, 0.0), (682, 0.0), (686, 0.0), (695, 0.0), (724, 0.0), (746, 0.0), (753, 0.0), (801, 0.0), (802, 0.0), (819, 0.0), (827, 0.0), (855, 0.0), (877, 0.0), (902, 0.0), (927, 0.0), (932, 0.0), (954, 0.0), (960, 0.0), (976, 0.0), (977, 0.0), (997, 0.0), (1003, 0.0), (1016, 0.0), (1045, 0.0), (1055, 0.0), (1058, 0.0), (1063, 0.0), (1067, 0.0), (1086, 0.0), (1092, 0.0), (1097, 0.0), (1127, 0.0), (1135, 0.0), (1137, 0.0), (1143, 0.0), (1147, 0.0), (1151, 0.0), (1154, 0.0), (1158, 0.0), (1167, 0.0), (1189, 0.0), (1207, 0.0), (1228, 0.0), (1230, 0.0), (1233, 0.0), (1236, 0.0), (1240, 0.0), (1263, 0.0), (1269, 0.0), (1272, 0.0), (1280, 0.0), (1281, 0.0), (1285, 0.0), (1287, 0.0), (1295, 0.0), (1328, 0.0), (1342, 0.0), (1358, 0.0), (1391, 0.0), (1393, 0.0), (1399, 0.0), (1406, 0.0), (1419, 0.0), (1428, 0.0), (1435, 0.0), (1449, 0.0), (1455, 0.0), (1460, 0.0), (1504, 0.0), (1512, 0.0), (1529, 0.0), (1531, 0.0), (1534, 0.0), (1536, 0.0), (1540, 0.0), (1541, 0.0), (1554, 0.0), (1573, 0.0), (1575, 0.0), (1600, 0.0), (1603, 0.0), (1604, 0.0), (1607, 0.0), (1622, 0.0), (1623, 0.0), (1651, 0.0), (1659, 0.0), (1661, 0.0), (1699, 0.0), (1705, 0.0), (1720, 0.0), (1724, 0.0), (1728, 0.0), (1745, 0.0), (1749, 0.0), (1775, 0.0), (1815, 0.0), (1832, 0.0), (1835, 0.0), (1846, 0.0), (1894, 0.0), (1901, 0.0), (1904, 0.0), (1927, 0.0), (1932, 0.0), (1937, 0.0), (1940, 0.0), (1958, 0.0), (1962, 0.0), (1970, 0.0), (1972, 0.0), (1975, 0.0), (1976, 0.0), (1979, 0.0), (1991, 0.0), (1996, 0.0), (1998, 0.0), (2038, 0.0), (2054, 0.0), (2057, 0.0), (2066, 0.0), (2085, 0.0), (2100, 0.0), (2115, 0.0), (2120, 0.0), (2130, 0.0), (2135, 0.0), (2152, 0.0), (2165, 0.0), (2184, 0.0), (2206, 0.0), (2220, 0.0), (2231, 0.0), (2232, 0.0), (2235, 0.0), (2238, 0.0), (2243, 0.0), (2267, 0.0), (2273, 0.0), (2275, 0.0), (2300, 0.0), (2314, 0.0), (2316, 0.0), (2328, 0.0), (2332, 0.0), (2337, 0.0), (2342, 0.0), (2343, 0.0), (2352, 0.0), (2358, 0.0), (2365, 0.0), (2369, 0.0), (2383, 0.0), (2413, 0.0), (2429, 0.0), (2451, 0.0), (2462, 0.0), (2471, 0.0), (2476, 0.0), (2506, 0.0), (2521, 0.0), (2544, 0.0), (2549, 0.0), (2567, 0.0), (2574, 0.0), (2576, 0.0), (2577, 0.0), (2578, 0.0), (2589, 0.0), (2596, 0.0), (2599, 0.0), (2618, 0.0), (2641, 0.0), (2658, 0.0), (2670, 0.0), (2683, 0.0), (2700, 0.0), (2704, 0.0), (2710, 0.0), (2711, 0.0), (2717, 0.0), (2733, 0.0), (2736, 0.0), (2750, 0.0), (2773, 0.0), (2780, 0.0), (2806, 0.0), (2815, 0.0), (2819, 0.0), (2824, 0.0), (2827, 0.0), (2828, 0.0), (2835, 0.0), (2837, 0.0), (2839, 0.0), (2847, 0.0), (2850, 0.0), (2860, 0.0), (2864, 0.0), (2885, 0.0), (2905, 0.0), (2918, 0.0), (2947, 0.0), (2952, 0.0), (2956, 0.0), (2958, 0.0), (2959, 0.0), (2960, 0.0), (2967, 0.0), (2984, 0.0), (3001, 0.0), (3002, 0.0), (3005, 0.0), (3006, 0.0), (3021, 0.0), (3025, 0.0), (3029, 0.0), (3047, 0.0), (3048, 0.0), (3049, 0.0), (3058, 0.0), (3059, 0.0), (3068, 0.0), (3092, 0.0), (3099, 0.0), (3100, 0.0), (3105, 0.0), (3107, 0.0), (3110, 0.0), (3117, 0.0), (3118, 0.0), (3124, 0.0), (3126, 0.0), (3130, 0.0), (3132, 0.0), (3134, 0.0), (3135, 0.0), (3136, 0.0), (3138, 0.0), (3143, 0.0), (3156, 0.0), (3158, 0.0), (3160, 0.0), (3161, 0.0), (3163, 0.0), (3176, 0.0), (3179, 0.0), (3185, 0.0), (3191, 0.0), (3202, 0.0), (3223, 0.0), (3247, 0.0), (3255, 0.0), (3261, 0.0), (3263, 0.0), (3272, 0.0), (3281, 0.0), (3305, 0.0), (3333, 0.0), (3339, 0.0), (3340, 0.0), (3367, 0.0), (3394, 0.0), (3398, 0.0), (3404, 0.0), (3405, 0.0), (3429, 0.0), (3432, 0.0), (3451, 0.0), (3453, 0.0), (3467, 0.0), (3472, 0.0), (3473, 0.0), (3476, 0.0), (3482, 0.0), (3486, 0.0), (3488, 0.0), (3505, 0.0), (3520, 0.0), (3525, 0.0), (3530, 0.0), (3532, 0.0), (3533, 0.0), (3535, 0.0), (3547, 0.0), (3550, 0.0), (3555, 0.0), (3573, 0.0), (3576, 0.0), (3583, 0.0), (3588, 0.0), (3602, 0.0), (3604, 0.0), (3605, 0.0), (3607, 0.0), (3617, 0.0), (3625, 0.0), (3631, 0.0), (3659, 0.0), (3663, 0.0), (3664, 0.0), (3679, 0.0), (3682, 0.0), (3697, 0.0), (3700, 0.0), (3702, 0.0), (3703, 0.0), (3708, 0.0), (3717, 0.0), (3721, 0.0), (3723, 0.0), (3726, 0.0), (3738, 0.0), (3744, 0.0), (3750, 0.0), (3760, 0.0), (3761, 0.0), (3769, 0.0), (3774, 0.0), (3775, 0.0), (3783, 0.0), (3785, 0.0), (3788, 0.0), (3793, 0.0), (3794, 0.0), (3798, 0.0), (3802, 0.0), (3806, 0.0), (3814, 0.0), (3815, 0.0), (3830, 0.0), (3833, 0.0), (3838, 0.0), (3840, 0.0), (3843, 0.0), (3847, 0.0), (3849, 0.0), (3850, 0.0), (3853, 0.0), (3869, 0.0), (3871, 0.0), (3872, 0.0), (3881, 0.0), (3887, 0.0), (3908, 0.0), (3918, 0.0), (3947, 0.0), (3948, 0.0), (3968, 0.0), (3972, 0.0), (3975, 0.0), (3977, 0.0), (3979, 0.0), (3981, 0.0), (3985, 0.0), (3991, 0.0), (3997, 0.0), (4021, 0.0), (4022, 0.0), (4028, 0.0), (4039, 0.0), (4041, 0.0), (4043, 0.0), (4044, 0.0), (4050, 0.0), (4063, 0.0), (4065, 0.0), (4072, 0.0), (4090, 0.0), (4096, 0.0), (4100, 0.0), (4103, 0.0), (4122, 0.0), (4128, 0.0), (4144, 0.0), (4146, 0.0), (4148, 0.0), (4153, 0.0), (4159, 0.0), (4165, 0.0), (4167, 0.0), (4168, 0.0), (4170, 0.0), (4179, 0.0), (4185, 0.0), (4193, 0.0), (4208, 0.0), (4211, 0.0), (4212, 0.0), (4215, 0.0), (4216, 0.0), (4219, 0.0), (4224, 0.0), (4227, 0.0), (4229, 0.0), (4235, 0.0), (4238, 0.0), (4248, 0.0), (4250, 0.0), (4251, 0.0), (4253, 0.0), (4261, 0.0), (4264, 0.0), (4274, 0.0), (4275, 0.0), (4276, 0.0), (4278, 0.0), (4289, 0.0), (4294, 0.0), (4302, 0.0), (4310, 0.0), (4313, 0.0), (4316, 0.0), (4331, 0.0), (4352, 0.0), (4360, 0.0), (4364, 0.0), (4365, 0.0), (4366, 0.0), (4372, 0.0), (4375, 0.0), (4380, 0.0), (4383, 0.0), (4389, 0.0), (4390, 0.0), (4392, 0.0), (4393, 0.0), (4415, 0.0), (4417, 0.0), (4424, 0.0), (4425, 0.0), (4439, 0.0), (4455, 0.0), (4456, 0.0), (4464, 0.0), (4466, 0.0), (4468, 0.0), (4485, 0.0), (4488, 0.0), (4493, 0.0), (4499, 0.0), (4500, 0.0), (4508, 0.0), (4509, 0.0), (4513, 0.0), (4518, 0.0), (4525, 0.0), (4526, 0.0), (4527, 0.0), (4532, 0.0), (4534, 0.0), (4538, 0.0), (4539, 0.0), (4543, 0.0), (4547, 0.0), (4559, 0.0), (4561, 0.0), (4565, 0.0), (4569, 0.0), (4578, 0.0), (4581, 0.0), (4582, 0.0), (4583, 0.0), (4585, 0.0), (4588, 0.0), (4595, 0.0), (4597, 0.0), (4615, 0.0), (4618, 0.0), (4623, 0.0), (4630, 0.0), (4639, 0.0), (4642, 0.0), (4644, 0.0), (4645, 0.0), (4651, 0.0), (4653, 0.0), (4656, 0.0), (4663, 0.0), (4664, 0.0), (4666, 0.0), (4671, 0.0), (4672, 0.0), (4676, 0.0), (4678, 0.0), (4681, 0.0), (4683, 0.0), (4684, 0.0), (4691, 0.0), (4697, 0.0), (4698, 0.0), (4707, 0.0), (4708, 0.0), (4714, 0.0), (4727, 0.0), (4730, 0.0), (4736, 0.0), (4740, 0.0), (4741, 0.0), (4742, 0.0), (4745, 0.0), (4750, 0.0), (4751, 0.0), (4758, 0.0), (4759, 0.0)]\n"
          ]
        }
      ]
    },
    {
      "cell_type": "code",
      "source": [
        "print(\"top 30 movies suggested for you: \\n\")\n",
        "\n",
        "i = 1\n",
        "for movie in similar_movies:\n",
        "  index = movie[0]\n",
        "  title_from_index = df[df.index == index]['Movie_Title'].values[0]\n",
        "  if (i<31):\n",
        "    print(i, '.', title_from_index)\n",
        "    i+=1"
      ],
      "metadata": {
        "colab": {
          "base_uri": "https://localhost:8080/"
        },
        "id": "DxoGQcaXUin6",
        "outputId": "e6891e83-1fdc-4064-b82b-66c5769f7408"
      },
      "execution_count": 44,
      "outputs": [
        {
          "output_type": "stream",
          "name": "stdout",
          "text": [
            "top 30 movies suggested for you: \n",
            "\n",
            "1 . The Fisher King\n",
            "2 . Monty Python and the Holy Grail\n",
            "3 . The Da Vinci Code\n",
            "4 . Indiana Jones and the Last Crusade\n",
            "5 . The Sixth Sense\n",
            "6 . The Last Samurai\n",
            "7 . Cold Mountain\n",
            "8 . Don Juan DeMarco\n",
            "9 . The Imaginarium of Doctor Parnassus\n",
            "10 . Alexander's Ragtime Band\n",
            "11 . Miss Potter\n",
            "12 . He Got Game\n",
            "13 . The Deep End of the Ocean\n",
            "14 . Sideways\n",
            "15 . Take Shelter\n",
            "16 . The Count of Monte Cristo\n",
            "17 . The Giver\n",
            "18 . Brokeback Mountain\n",
            "19 . Time Bandits\n",
            "20 . Patch Adams\n",
            "21 . Beginners\n",
            "22 . Lars and the Real Girl\n",
            "23 . My Best Friend's Wedding\n",
            "24 . The Last Days on Mars\n",
            "25 . Moonrise Kingdom\n",
            "26 . Arn: The Knight Templar\n",
            "27 . Highlander: Endgame\n",
            "28 . White Oleander\n",
            "29 . August Rush\n",
            "30 . The Exorcist\n"
          ]
        }
      ]
    },
    {
      "cell_type": "markdown",
      "source": [
        "# TOP 10 MOVIES RECOMMENDATION SYSTEM"
      ],
      "metadata": {
        "id": "2ZTz67KeU2gz"
      }
    },
    {
      "cell_type": "code",
      "source": [
        "movie_name = input('Enter your favourite movie name: ')\n",
        "\n",
        "list_of_all_titles = df['Movie_Title'].tolist()\n",
        "\n",
        "close_match = difflib.get_close_matches(movie_name, list_of_all_titles)\n",
        "close_match_movie = close_match[0]\n",
        "\n",
        "index_of_movie = df[df.Movie_Title == close_match_movie]['Movie_ID'].values[0]\n",
        "\n",
        "recommendation_score = list(enumerate(similarity_score[index_of_movie]))\n",
        "\n",
        "sorted_similar_movies = sorted(recommendation_score, key = lambda x:x[1], reverse = True)\n",
        "\n",
        "print(\"TOP 10 movies FOR YOU:\")\n",
        "\n",
        "i = 1\n",
        "for movie in sorted_similar_movies:\n",
        "  index = movie[0]\n",
        "  title_from_index = df[df.Movie_ID == index]['Movie_Title'].values\n",
        "  if (i<11):\n",
        "    print(i, '.', title_from_index)\n",
        "    i+=1"
      ],
      "metadata": {
        "colab": {
          "base_uri": "https://localhost:8080/"
        },
        "id": "iQ2jOI-2UwA_",
        "outputId": "4a37eaef-afc9-48b1-d8b1-8d40daed9837"
      },
      "execution_count": 50,
      "outputs": [
        {
          "output_type": "stream",
          "name": "stdout",
          "text": [
            "Enter your favourite movie name: saw\n",
            "TOP 10 movies FOR YOU:\n",
            "1 . ['Saw']\n",
            "2 . ['Fantasia']\n",
            "3 . ['The Hours']\n",
            "4 . ['Indiana Jones and the Temple of Doom']\n",
            "5 . ['Top Gun']\n",
            "6 . ['The Passion of the Christ']\n",
            "7 . ['Closer']\n",
            "8 . ['The Beach']\n",
            "9 . ['The Three Burials of Melquiades Estrada']\n",
            "10 . ['The Living Wake']\n"
          ]
        }
      ]
    }
  ]
}